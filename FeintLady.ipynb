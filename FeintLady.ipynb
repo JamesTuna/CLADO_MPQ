{
 "cells": [
  {
   "cell_type": "code",
   "execution_count": 1,
   "id": "ba86fdca",
   "metadata": {},
   "outputs": [
    {
     "name": "stderr",
     "output_type": "stream",
     "text": [
      "Using cache found in /home/zihao/.cache/torch/hub/chenyaofo_pytorch-cifar-models_master\n"
     ]
    }
   ],
   "source": [
    "import torch,torchvision,os,time\n",
    "import torchvision.transforms as transforms\n",
    "import numpy as np\n",
    "from utils.util import get_loader,evaluate\n",
    "from utils.layer import qConv2d,qLinear\n",
    "from utils.train import QAVAT_train\n",
    "import matplotlib.pyplot as plt\n",
    "import torchvision.models as models                           # for example model\n",
    "from mqbench.prepare_by_platform import prepare_by_platform   # add quant nodes for specific Backend\n",
    "from mqbench.prepare_by_platform import BackendType           # contain various Backend, like TensorRT, NNIE, etc.\n",
    "from mqbench.utils.state import enable_calibration            # turn on calibration algorithm, determine scale, zero_point, etc.\n",
    "from mqbench.utils.state import enable_quantization           # turn on actually quantization, like FP32 -> INT8\n",
    "from mqbench.utils.state import disable_all           # turn on actually quantization, like FP32 -> INT8\n",
    "from copy import deepcopy\n",
    "\n",
    "os.environ['CUDA_LAUNCH_BLOCKING'] = '1'\n",
    "\n",
    "model = torch.hub.load(\"chenyaofo/pytorch-cifar-models\", \"cifar10_resnet56\", pretrained=True).cuda()\n",
    "# model = torch.hub.load(\"chenyaofo/pytorch-cifar-models\", \"cifar100_mobilenetv2_x0_5\", pretrained=True).cuda()"
   ]
  },
  {
   "cell_type": "code",
   "execution_count": 2,
   "id": "53657ce1",
   "metadata": {
    "scrolled": true
   },
   "outputs": [
    {
     "name": "stdout",
     "output_type": "stream",
     "text": [
      "Files already downloaded and verified\n",
      "Files already downloaded and verified\n"
     ]
    }
   ],
   "source": [
    "train,test = get_loader('cifar10'.upper(),batch_size=128,test_batch_size=128)\n",
    "train.num_workers = 2\n",
    "test.num_workers = 2\n",
    "train.pin_in_memory = True\n",
    "test.pin_in_memory = True"
   ]
  },
  {
   "cell_type": "code",
   "execution_count": 3,
   "id": "1f67af0a",
   "metadata": {},
   "outputs": [],
   "source": [
    "# calibration data used to calibrate PTQ and MPQ\n",
    "calib_data = []\n",
    "i = 0\n",
    "for img,label in train:\n",
    "    i += 1\n",
    "    calib_data.append((img,label))\n",
    "    if i == 8:\n",
    "        break"
   ]
  },
  {
   "cell_type": "code",
   "execution_count": 4,
   "id": "13c71366",
   "metadata": {},
   "outputs": [],
   "source": [
    "model.eval()\n",
    "mqb_model = deepcopy(model)\n",
    "torch_fp_model = deepcopy(model)\n",
    "torch_quantized_model = deepcopy(model)\n",
    "torch_perturb_model = deepcopy(model)\n",
    "model = None"
   ]
  },
  {
   "cell_type": "code",
   "execution_count": 5,
   "id": "b007f436",
   "metadata": {},
   "outputs": [],
   "source": [
    "# MSE calibration on model parameters\n",
    "backend = BackendType.Academic\n",
    "extra_config = {\n",
    "    'extra_qconfig_dict': {\n",
    "        'w_observer': 'MSEObserver',                              # custom weight observer\n",
    "        'a_observer': 'EMAMSEObserver',                              # custom activation observer\n",
    "        'w_fakequantize': 'FixedFakeQuantize',                    # custom weight fake quantize function\n",
    "        'a_fakequantize': 'FixedFakeQuantize',                    # custom activation fake quantize function\n",
    "        'w_qscheme': {\n",
    "            'bit': 4,                                             # custom bitwidth for weight,\n",
    "            'symmetry': True,                                    # custom whether quant is symmetric for weight,\n",
    "            'per_channel': False,                                  # custom whether quant is per-channel or per-tensor for weight,\n",
    "            'pot_scale': False,                                   # custom whether scale is power of two for weight.\n",
    "        },\n",
    "        'a_qscheme': {\n",
    "            'bit': 8,                                             # custom bitwidth for activation,\n",
    "            'symmetry': False,                                    # custom whether quant is symmetric for activation,\n",
    "            'per_channel': False,                                  # custom whether quant is per-channel or per-tensor for activation,\n",
    "            'pot_scale': False,                                   # custom whether scale is power of two for activation.\n",
    "        }\n",
    "    }                                                         # custom tracer behavior, checkout https://github.com/pytorch/pytorch/blob/efcbbb177eacdacda80b94ad4ce34b9ed6cf687a/torch/fx/_symbolic_trace.py#L836\n",
    "}"
   ]
  },
  {
   "cell_type": "code",
   "execution_count": 6,
   "id": "73e67b39",
   "metadata": {
    "scrolled": true
   },
   "outputs": [
    {
     "name": "stdout",
     "output_type": "stream",
     "text": [
      "[MQBENCH] INFO: Quantize model Scheme: BackendType.Academic Mode: Eval\n",
      "[MQBENCH] INFO: Weight Qconfig:\n",
      "    FakeQuantize: FixedFakeQuantize Params: {}\n",
      "    Oberver:      MSEObserver Params: Symmetric: True / Bitwidth: 4 / Per channel: False / Pot scale: False / Extra kwargs: {}\n",
      "[MQBENCH] INFO: Activation Qconfig:\n",
      "    FakeQuantize: FixedFakeQuantize Params: {}\n",
      "    Oberver:      EMAMSEObserver Params: Symmetric: False / Bitwidth: 8 / Per channel: False / Pot scale: False / Extra kwargs: {}\n",
      "[MQBENCH] INFO: Replace module to qat module.\n",
      "[MQBENCH] INFO: Set layer conv1 to 8 bit.\n",
      "[MQBENCH] INFO: Set layer fc to 8 bit.\n",
      "[MQBENCH] INFO: Set x post act quantize to 8 bit.\n",
      "[MQBENCH] INFO: Insert act quant x_post_act_fake_quantizer\n",
      "[MQBENCH] INFO: Insert act quant relu_post_act_fake_quantizer\n",
      "[MQBENCH] INFO: Insert act quant layer1_0_relu_post_act_fake_quantizer\n",
      "[MQBENCH] INFO: Insert act quant layer1_0_relu_1_post_act_fake_quantizer\n",
      "[MQBENCH] INFO: Insert act quant layer1_1_relu_post_act_fake_quantizer\n",
      "[MQBENCH] INFO: Insert act quant layer1_1_relu_1_post_act_fake_quantizer\n",
      "[MQBENCH] INFO: Insert act quant layer1_2_relu_post_act_fake_quantizer\n",
      "[MQBENCH] INFO: Insert act quant layer1_2_relu_1_post_act_fake_quantizer\n",
      "[MQBENCH] INFO: Insert act quant layer1_3_relu_post_act_fake_quantizer\n",
      "[MQBENCH] INFO: Insert act quant layer1_3_relu_1_post_act_fake_quantizer\n",
      "[MQBENCH] INFO: Insert act quant layer1_4_relu_post_act_fake_quantizer\n",
      "[MQBENCH] INFO: Insert act quant layer1_4_relu_1_post_act_fake_quantizer\n",
      "[MQBENCH] INFO: Insert act quant layer1_5_relu_post_act_fake_quantizer\n",
      "[MQBENCH] INFO: Insert act quant layer1_5_relu_1_post_act_fake_quantizer\n",
      "[MQBENCH] INFO: Insert act quant layer1_6_relu_post_act_fake_quantizer\n",
      "[MQBENCH] INFO: Insert act quant layer1_6_relu_1_post_act_fake_quantizer\n",
      "[MQBENCH] INFO: Insert act quant layer1_7_relu_post_act_fake_quantizer\n",
      "[MQBENCH] INFO: Insert act quant layer1_7_relu_1_post_act_fake_quantizer\n",
      "[MQBENCH] INFO: Insert act quant layer1_8_relu_post_act_fake_quantizer\n",
      "[MQBENCH] INFO: Insert act quant layer1_8_relu_1_post_act_fake_quantizer\n",
      "[MQBENCH] INFO: Insert act quant layer2_0_relu_post_act_fake_quantizer\n",
      "[MQBENCH] INFO: Insert act quant layer2_0_relu_1_post_act_fake_quantizer\n",
      "[MQBENCH] INFO: Insert act quant layer2_1_relu_post_act_fake_quantizer\n",
      "[MQBENCH] INFO: Insert act quant layer2_1_relu_1_post_act_fake_quantizer\n",
      "[MQBENCH] INFO: Insert act quant layer2_2_relu_post_act_fake_quantizer\n",
      "[MQBENCH] INFO: Insert act quant layer2_2_relu_1_post_act_fake_quantizer\n",
      "[MQBENCH] INFO: Insert act quant layer2_3_relu_post_act_fake_quantizer\n",
      "[MQBENCH] INFO: Insert act quant layer2_3_relu_1_post_act_fake_quantizer\n",
      "[MQBENCH] INFO: Insert act quant layer2_4_relu_post_act_fake_quantizer\n",
      "[MQBENCH] INFO: Insert act quant layer2_4_relu_1_post_act_fake_quantizer\n",
      "[MQBENCH] INFO: Insert act quant layer2_5_relu_post_act_fake_quantizer\n",
      "[MQBENCH] INFO: Insert act quant layer2_5_relu_1_post_act_fake_quantizer\n",
      "[MQBENCH] INFO: Insert act quant layer2_6_relu_post_act_fake_quantizer\n",
      "[MQBENCH] INFO: Insert act quant layer2_6_relu_1_post_act_fake_quantizer\n",
      "[MQBENCH] INFO: Insert act quant layer2_7_relu_post_act_fake_quantizer\n",
      "[MQBENCH] INFO: Insert act quant layer2_7_relu_1_post_act_fake_quantizer\n",
      "[MQBENCH] INFO: Insert act quant layer2_8_relu_post_act_fake_quantizer\n",
      "[MQBENCH] INFO: Insert act quant layer2_8_relu_1_post_act_fake_quantizer\n",
      "[MQBENCH] INFO: Insert act quant layer3_0_relu_post_act_fake_quantizer\n",
      "[MQBENCH] INFO: Insert act quant layer3_0_relu_1_post_act_fake_quantizer\n",
      "[MQBENCH] INFO: Insert act quant layer3_1_relu_post_act_fake_quantizer\n",
      "[MQBENCH] INFO: Insert act quant layer3_1_relu_1_post_act_fake_quantizer\n",
      "[MQBENCH] INFO: Insert act quant layer3_2_relu_post_act_fake_quantizer\n",
      "[MQBENCH] INFO: Insert act quant layer3_2_relu_1_post_act_fake_quantizer\n",
      "[MQBENCH] INFO: Insert act quant layer3_3_relu_post_act_fake_quantizer\n",
      "[MQBENCH] INFO: Insert act quant layer3_3_relu_1_post_act_fake_quantizer\n",
      "[MQBENCH] INFO: Insert act quant layer3_4_relu_post_act_fake_quantizer\n",
      "[MQBENCH] INFO: Insert act quant layer3_4_relu_1_post_act_fake_quantizer\n",
      "[MQBENCH] INFO: Insert act quant layer3_5_relu_post_act_fake_quantizer\n",
      "[MQBENCH] INFO: Insert act quant layer3_5_relu_1_post_act_fake_quantizer\n",
      "[MQBENCH] INFO: Insert act quant layer3_6_relu_post_act_fake_quantizer\n",
      "[MQBENCH] INFO: Insert act quant layer3_6_relu_1_post_act_fake_quantizer\n",
      "[MQBENCH] INFO: Insert act quant layer3_7_relu_post_act_fake_quantizer\n",
      "[MQBENCH] INFO: Insert act quant layer3_7_relu_1_post_act_fake_quantizer\n",
      "[MQBENCH] INFO: Insert act quant layer3_8_relu_post_act_fake_quantizer\n",
      "[MQBENCH] INFO: Set view post act quantize to 8 bit.\n",
      "[MQBENCH] INFO: Insert act quant view_post_act_fake_quantizer\n"
     ]
    }
   ],
   "source": [
    "mqb_model = prepare_by_platform(mqb_model, backend,extra_config).cuda()"
   ]
  },
  {
   "cell_type": "code",
   "execution_count": 7,
   "id": "11fa42da",
   "metadata": {},
   "outputs": [
    {
     "name": "stdout",
     "output_type": "stream",
     "text": [
      "[MQBENCH] INFO: Enable observer and Disable quantize.\n"
     ]
    }
   ],
   "source": [
    "# calibration loop\n",
    "enable_calibration(mqb_model)\n",
    "for img,label in calib_data:\n",
    "    mqb_model(img.cuda())  "
   ]
  },
  {
   "cell_type": "code",
   "execution_count": 8,
   "id": "84d500a6",
   "metadata": {},
   "outputs": [
    {
     "name": "stdout",
     "output_type": "stream",
     "text": [
      "[MQBENCH] INFO: Disable observer and Enable quantize.\n"
     ]
    },
    {
     "data": {
      "text/plain": [
       "{'mean_acc': 0.8779,\n",
       " 'qtl_acc': 0.8779,\n",
       " 'mean_loss': 0.5192676824104937,\n",
       " 'qtl_loss': 0.5192676824104937,\n",
       " 'test time': 2.8516080379486084,\n",
       " 'acc_list': array([0.8779]),\n",
       " 'loss_list': array([0.51926768])}"
      ]
     },
     "execution_count": 8,
     "metadata": {},
     "output_type": "execute_result"
    }
   ],
   "source": [
    "# evaluation loop\n",
    "from mqbench.utils.state import disable_all\n",
    "enable_quantization(mqb_model)\n",
    "#disable_all(mqb_model)\n",
    "evaluate(test,mqb_model)"
   ]
  },
  {
   "cell_type": "code",
   "execution_count": 9,
   "id": "993e770f",
   "metadata": {},
   "outputs": [
    {
     "data": {
      "text/plain": [
       "{'mean_acc': 0.9437,\n",
       " 'qtl_acc': 0.9437,\n",
       " 'mean_loss': 0.2539493507599529,\n",
       " 'qtl_loss': 0.2539493507599529,\n",
       " 'test time': 1.6719481945037842,\n",
       " 'acc_list': array([0.9437]),\n",
       " 'loss_list': array([0.25394935])}"
      ]
     },
     "execution_count": 9,
     "metadata": {},
     "output_type": "execute_result"
    }
   ],
   "source": [
    "evaluate(test,torch_fp_model)"
   ]
  },
  {
   "cell_type": "code",
   "execution_count": 10,
   "id": "99e0c6c9",
   "metadata": {
    "scrolled": true
   },
   "outputs": [],
   "source": [
    "def getModuleByName(modelName,moduleName):\n",
    "    '''\n",
    "        replace module with name modelName.moduleName with newModule\n",
    "    '''\n",
    "    tokens = moduleName.split('.')\n",
    "    eval_str = modelName\n",
    "    for token in tokens:\n",
    "        try:\n",
    "            eval_str += f'[{int(token)}]'\n",
    "        except:\n",
    "            eval_str += f'.{token}'\n",
    "            \n",
    "    return eval(eval_str)\n",
    "\n",
    "# pass quantized weight to torch_quantized_model\n",
    "for n,m in mqb_model.named_modules():\n",
    "    if isinstance(m,torch.nn.Linear) or isinstance(m,torch.nn.Conv2d):\n",
    "        # print('loading quantized weight for layer',n)\n",
    "        torch_module = getModuleByName('torch_quantized_model',n)\n",
    "        torch_module.weight.data = m.weight_fake_quant(m.weight).data"
   ]
  },
  {
   "cell_type": "code",
   "execution_count": 11,
   "id": "9c08c97b",
   "metadata": {},
   "outputs": [
    {
     "data": {
      "text/plain": [
       "{'mean_acc': 0.8784,\n",
       " 'qtl_acc': 0.8784,\n",
       " 'mean_loss': 0.5174519721465775,\n",
       " 'qtl_loss': 0.5174519721465775,\n",
       " 'test time': 1.749929666519165,\n",
       " 'acc_list': array([0.8784]),\n",
       " 'loss_list': array([0.51745197])}"
      ]
     },
     "execution_count": 11,
     "metadata": {},
     "output_type": "execute_result"
    }
   ],
   "source": [
    "evaluate(test,torch_quantized_model) "
   ]
  },
  {
   "cell_type": "code",
   "execution_count": 12,
   "id": "c5773766",
   "metadata": {},
   "outputs": [],
   "source": [
    "mqb_model = None"
   ]
  },
  {
   "cell_type": "markdown",
   "id": "8846ea48",
   "metadata": {},
   "source": [
    "## FeintLady"
   ]
  },
  {
   "cell_type": "code",
   "execution_count": 13,
   "id": "2f9cd5ee",
   "metadata": {},
   "outputs": [],
   "source": [
    "from collections import OrderedDict\n",
    "# 1. record all modules we want to consider\n",
    "layers_to_quant = OrderedDict() # layer_name:[torch_fp_module,torch_q_module,torch_p_module]\n",
    "types_to_quant = (torch.nn.Conv2d,torch.nn.Linear)\n",
    "\n",
    "for n,m in torch_fp_model.named_modules():\n",
    "    if isinstance(m,types_to_quant):\n",
    "        layers_to_quant[n] = [m,]\n",
    "        \n",
    "for n,m in torch_quantized_model.named_modules():\n",
    "    if isinstance(m,types_to_quant):\n",
    "        layers_to_quant[n].append(m)\n",
    "\n",
    "for n,m in torch_perturb_model.named_modules():\n",
    "    if isinstance(m,types_to_quant):\n",
    "        layers_to_quant[n].append(m)"
   ]
  },
  {
   "cell_type": "code",
   "execution_count": 14,
   "id": "98c80e88",
   "metadata": {},
   "outputs": [],
   "source": [
    "res = evaluate(calib_data,torch_fp_model)\n",
    "ref_metric = ('mean_loss',res['mean_loss'])"
   ]
  },
  {
   "cell_type": "code",
   "execution_count": 15,
   "id": "772d2eac",
   "metadata": {},
   "outputs": [
    {
     "data": {
      "text/plain": [
       "{'mean_acc': 1.0,\n",
       " 'qtl_acc': 1.0,\n",
       " 'mean_loss': 0.0006950303650228307,\n",
       " 'qtl_loss': 0.0006950303650228307,\n",
       " 'test time': 0.15936613082885742,\n",
       " 'acc_list': array([1.]),\n",
       " 'loss_list': array([0.00069503])}"
      ]
     },
     "execution_count": 15,
     "metadata": {},
     "output_type": "execute_result"
    }
   ],
   "source": [
    "res"
   ]
  },
  {
   "cell_type": "code",
   "execution_count": 16,
   "id": "aa6716b0",
   "metadata": {},
   "outputs": [],
   "source": [
    "def perturb_loss(perturb_names,ref_metric,eval_data,printInfo=False):\n",
    "    with torch.no_grad():\n",
    "        # perturb layers\n",
    "        for n in perturb_names:\n",
    "            layers_to_quant[n][2].weight.data = layers_to_quant[n][1].weight.data\n",
    "        # do evaluation\n",
    "        res = evaluate(eval_data,torch_perturb_model)\n",
    "        perturbed_loss = res[ref_metric[0]] - ref_metric[1]\n",
    "        \n",
    "        if printInfo:\n",
    "            print(res)\n",
    "        # recover layers\n",
    "        for n in perturb_names:\n",
    "            layers_to_quant[n][2].weight.data = layers_to_quant[n][0].weight.data\n",
    "    return perturbed_loss"
   ]
  },
  {
   "cell_type": "markdown",
   "id": "e47dd85f",
   "metadata": {},
   "source": [
    "## Build Cached Grad if not done before"
   ]
  },
  {
   "cell_type": "code",
   "execution_count": null,
   "id": "8f370df0",
   "metadata": {
    "scrolled": true
   },
   "outputs": [],
   "source": [
    "import time\n",
    "s_time = time.time()\n",
    "cached = {}\n",
    "for n in layers_to_quant:\n",
    "    for m in layers_to_quant:\n",
    "        if n == m:\n",
    "            print('perturb layer',n)\n",
    "            p = perturb_loss([n,],ref_metric,calib_data)\n",
    "            cached[(n,n)] = p\n",
    "        if (n,m) not in cached:\n",
    "            print('perturb layer',n,m)\n",
    "            p = perturb_loss([n,m],ref_metric,calib_data)\n",
    "            cached[(n,m)] = p\n",
    "            cached[(m,n)] = p   \n",
    "print(f'{time.time()-s_time:.2f} seconds elapsed')"
   ]
  },
  {
   "cell_type": "code",
   "execution_count": null,
   "id": "239967a5",
   "metadata": {},
   "outputs": [],
   "source": [
    "layer_index = {}\n",
    "cnt = 0\n",
    "for layer in layers_to_quant:\n",
    "    layer_index[layer] = cnt\n",
    "    cnt += 1\n",
    "L = cnt"
   ]
  },
  {
   "cell_type": "code",
   "execution_count": null,
   "id": "c3fb4786",
   "metadata": {},
   "outputs": [],
   "source": [
    "import numpy as np\n",
    "hm = np.zeros(shape=(L,L))\n",
    "for n in layers_to_quant:\n",
    "    for m in layers_to_quant:\n",
    "        hm[layer_index[n],layer_index[m]] = cached[(n,m)]"
   ]
  },
  {
   "cell_type": "code",
   "execution_count": null,
   "id": "2a31472c",
   "metadata": {},
   "outputs": [],
   "source": [
    "cached_grad = np.zeros_like(hm)"
   ]
  },
  {
   "cell_type": "code",
   "execution_count": null,
   "id": "f99559c6",
   "metadata": {},
   "outputs": [],
   "source": [
    "import pickle\n",
    "with open('feintlady_c100resnet56_calib','wb') as f:\n",
    "    pickle.dump({'Ltilde':hm,'layer_index':layer_index},f)"
   ]
  },
  {
   "cell_type": "code",
   "execution_count": null,
   "id": "9644eaeb",
   "metadata": {},
   "outputs": [],
   "source": [
    "perturb_loss(['conv1',],ref_metric,eval_data=calib_data)"
   ]
  },
  {
   "cell_type": "markdown",
   "id": "babc001d",
   "metadata": {},
   "source": [
    "## Load Cached Grad"
   ]
  },
  {
   "cell_type": "code",
   "execution_count": 17,
   "id": "498e1ffc",
   "metadata": {},
   "outputs": [],
   "source": [
    "import pickle\n",
    "with open('feintlady_resnet56_calib','rb') as f:\n",
    "    hm = pickle.load(f)"
   ]
  },
  {
   "cell_type": "code",
   "execution_count": 18,
   "id": "17bd25f7",
   "metadata": {},
   "outputs": [
    {
     "data": {
      "text/plain": [
       "<matplotlib.image.AxesImage at 0x7f2d35c1d908>"
      ]
     },
     "execution_count": 18,
     "metadata": {},
     "output_type": "execute_result"
    },
    {
     "data": {
      "image/png": "[encoded data removed]",
      "text/plain": [
       "<Figure size 432x288 with 1 Axes>"
      ]
     },
     "metadata": {
      "needs_background": "light"
     },
     "output_type": "display_data"
    }
   ],
   "source": [
    "plt.imshow(hm['Ltilde'],cmap='hot')"
   ]
  },
  {
   "cell_type": "code",
   "execution_count": 19,
   "id": "beb3fb93",
   "metadata": {},
   "outputs": [],
   "source": [
    "L = hm['Ltilde'].shape[0]\n",
    "cached_grad = np.zeros_like(hm['Ltilde'])\n",
    "for i in range(L):\n",
    "    for j in range(L):\n",
    "        if i == j:\n",
    "            cached_grad[i,j] = 0.5 * hm['Ltilde'][i,j]\n",
    "        else:\n",
    "            cached_grad[i,j] = 0.25 * (hm['Ltilde'][i,j]-hm['Ltilde'][i,i]-hm['Ltilde'][j,j])"
   ]
  },
  {
   "cell_type": "code",
   "execution_count": 20,
   "id": "ccbde6e7",
   "metadata": {},
   "outputs": [
    {
     "data": {
      "text/plain": [
       "array([[ 4.11324436e-06,  8.01635906e-07,  3.74064257e-07, ...,\n",
       "         1.90833816e-07, -5.82549546e-08,  1.39370968e-08],\n",
       "       [ 8.01635906e-07, -3.38943937e-06,  3.68784094e-06, ...,\n",
       "        -1.63593722e-06, -1.32054993e-06, -8.19891284e-08],\n",
       "       [ 3.74064257e-07,  3.68784094e-06, -2.38365465e-06, ...,\n",
       "        -1.48320032e-06, -2.39680958e-07, -1.61733624e-07],\n",
       "       ...,\n",
       "       [ 1.90833816e-07, -1.63593722e-06, -1.48320032e-06, ...,\n",
       "         1.25698825e-04,  4.74548506e-06, -4.17436240e-07],\n",
       "       [-5.82549546e-08, -1.32054993e-06, -2.39680958e-07, ...,\n",
       "         4.74548506e-06,  6.75085539e-05, -4.71663952e-08],\n",
       "       [ 1.39370968e-08, -8.19891284e-08, -1.61733624e-07, ...,\n",
       "        -4.17436240e-07, -4.71663952e-08, -7.30753527e-07]])"
      ]
     },
     "execution_count": 20,
     "metadata": {},
     "output_type": "execute_result"
    }
   ],
   "source": [
    "cached_grad"
   ]
  },
  {
   "cell_type": "code",
   "execution_count": 21,
   "id": "4e34a3a5",
   "metadata": {},
   "outputs": [
    {
     "data": {
      "text/plain": [
       "<matplotlib.image.AxesImage at 0x7f2d35b6e358>"
      ]
     },
     "execution_count": 21,
     "metadata": {},
     "output_type": "execute_result"
    },
    {
     "data": {
      "image/png": "[encoded data removed]",
      "text/plain": [
       "<Figure size 432x288 with 1 Axes>"
      ]
     },
     "metadata": {
      "needs_background": "light"
     },
     "output_type": "display_data"
    }
   ],
   "source": [
    "# cached_grad[cached_grad<0]=0\n",
    "plt.imshow(cached_grad)"
   ]
  },
  {
   "cell_type": "markdown",
   "id": "7d4555d2",
   "metadata": {},
   "source": [
    "### Define a naive cost function: model size"
   ]
  },
  {
   "cell_type": "code",
   "execution_count": 23,
   "id": "f5886f20",
   "metadata": {},
   "outputs": [],
   "source": [
    "layer_size = np.array([0 for i in range(L)])\n",
    "for l in hm['layer_index']:\n",
    "    layer_size[hm['layer_index'][l]] = torch.numel(layers_to_quant[l][0].weight)"
   ]
  },
  {
   "cell_type": "code",
   "execution_count": 35,
   "id": "b50707a4",
   "metadata": {},
   "outputs": [],
   "source": [
    "layer_size\n",
    "tot_size =  layer_size.sum()"
   ]
  },
  {
   "cell_type": "code",
   "execution_count": 54,
   "id": "4bcd5187",
   "metadata": {},
   "outputs": [],
   "source": [
    "# initialize random variable v\n",
    "# use recitfied sigmoid h(v) to represent alpha\n",
    "# freg is 1-(1-2h(v))**beta, annealing beta to \n",
    "\n",
    "if not isinstance(cached_grad,torch.Tensor):\n",
    "    cached_grad = torch.Tensor(cached_grad)\n",
    "\n",
    "layer_size_tensor = torch.Tensor(layer_size)\n",
    "\n",
    "def lossfunc(v,beta,lambda1,lambda2,printInfo=False,naive=False,b=None):\n",
    "    alpha = (torch.sigmoid(v) * 1.2 - 0.1).clamp(0,1)\n",
    "    if not naive:\n",
    "        \n",
    "        outer_alpha = torch.outer(alpha,alpha)\n",
    "        netloss = torch.sum(outer_alpha * cached_grad)\n",
    "    else:\n",
    "        netloss = torch.sum(torch.diagonal(cached_grad) * alpha)\n",
    "            \n",
    "    regloss = torch.sum(1-(torch.abs(1-2*alpha))**beta)\n",
    "    regloss *= lambda1\n",
    "    \n",
    "    if b is None:\n",
    "        closs = -lambda2 * torch.sum(layer_size_tensor * alpha)\n",
    "    else:\n",
    "        closs = torch.sum(layer_size_tensor * alpha * 4) + torch.sum(layer_size_tensor * (1-alpha) * 8)\n",
    "        closs = torch.clamp(closs-b,0)\n",
    "        closs *= lambda2\n",
    "        \n",
    "    \n",
    "    totloss = netloss + regloss + closs\n",
    "    \n",
    "    if printInfo:\n",
    "        print(f'netloss {netloss.item():.4f} regloss {regloss.item():.4f}(beta={beta:.4f}) closs{closs.item():.4f}(constraint:{b})')\n",
    "        print('alpha:\\n',alpha)\n",
    "        \n",
    "    return totloss    \n",
    "    "
   ]
  },
  {
   "cell_type": "code",
   "execution_count": 55,
   "id": "04760381",
   "metadata": {},
   "outputs": [],
   "source": [
    "def optimize(n_iteration,lr,beta,lambda1,lambda2,b=None,naive=False):\n",
    "    \n",
    "    v = torch.nn.Parameter(torch.randn(L))\n",
    "    optim = torch.optim.Adam([v,],lr=lr)\n",
    "    bs = np.linspace(beta[0],beta[1],n_iteration)\n",
    "    \n",
    "    for i in range(n_iteration):\n",
    "        if i==0 or (i+1) % 1000 == 0:\n",
    "            printInfo = True\n",
    "            print(f'Iter {i+1}')\n",
    "        else:\n",
    "            printInfo = False\n",
    "            \n",
    "        optim.zero_grad()\n",
    "        loss = lossfunc(v,bs[i],lambda1,lambda2,printInfo=printInfo,b=b,naive=naive)\n",
    "        loss.backward()\n",
    "        optim.step()\n",
    "    \n",
    "    return v\n",
    "\n",
    "def evaluate_decision(v,printInfo=False):\n",
    "    v = v.detach()\n",
    "    v[v>0] = 1\n",
    "    v[v<0] = 0\n",
    "    \n",
    "    decision = []\n",
    "    for layer in hm['layer_index']:\n",
    "        if v[hm['layer_index'][layer]] > 0:\n",
    "            decision.append(layer)\n",
    "    \n",
    "    \n",
    "    #ploss = perturb_loss(decision,ref_metric,eval_data=test,printInfo=printInfo)\n",
    "    with torch.no_grad():\n",
    "        # perturb layers\n",
    "        for n in decision:\n",
    "            layers_to_quant[n][2].weight.data = layers_to_quant[n][1].weight.data\n",
    "        # do evaluation\n",
    "        res = evaluate(test,torch_perturb_model)\n",
    "        # recover layers\n",
    "        for n in decision:\n",
    "            layers_to_quant[n][2].weight.data = layers_to_quant[n][0].weight.data\n",
    "    \n",
    "    orig_size = 0\n",
    "    reduced_size = 0\n",
    "    for i in range(L):\n",
    "        orig_size += layer_size[i] * 8\n",
    "        reduced_size += layer_size[i] * 8 if v[i] == 0 else layer_size[i] * 4\n",
    "    if printInfo:\n",
    "        print('result of quantizing the following layers')\n",
    "        print(decision)\n",
    "        print(res)\n",
    "        print(f'8-bit model size {orig_size/8/1024/1024:.2f} MB')\n",
    "        print(f'MP model size {reduced_size/8/1024/1024:.2f} MB') \n",
    "    \n",
    "    return res,reduced_size/8/1024/1024"
   ]
  },
  {
   "cell_type": "code",
   "execution_count": 100,
   "id": "04d858bb",
   "metadata": {},
   "outputs": [],
   "source": [
    "r = 0.6"
   ]
  },
  {
   "cell_type": "code",
   "execution_count": 101,
   "id": "2ccad800",
   "metadata": {},
   "outputs": [
    {
     "data": {
      "text/plain": [
       "(4087219.1999999997, 0.48723449707031247)"
      ]
     },
     "execution_count": 101,
     "metadata": {},
     "output_type": "execute_result"
    }
   ],
   "source": [
    "tot_size * 8 * r, tot_size /1024/1024 * r"
   ]
  },
  {
   "cell_type": "code",
   "execution_count": 114,
   "id": "ef4783a1",
   "metadata": {
    "scrolled": true
   },
   "outputs": [
    {
     "name": "stdout",
     "output_type": "stream",
     "text": [
      "Iter 1\n",
      "netloss 0.0015 regloss 0.0559(beta=20.0000) closs0.0507(constraint:4087219.1999999997)\n",
      "alpha:\n",
      " tensor([0.6131, 0.1389, 0.3812, 0.3924, 0.1424, 0.6334, 0.5418, 0.1979, 0.2667,\n",
      "        0.8611, 0.3606, 1.0000, 0.4459, 0.1867, 0.5337, 0.6844, 0.2337, 0.3032,\n",
      "        0.8124, 0.8757, 0.4413, 0.6263, 0.3361, 0.5732, 0.4946, 0.3955, 0.2503,\n",
      "        0.0357, 0.9402, 0.8790, 0.3561, 0.6861, 0.4050, 0.2823, 0.2538, 0.4128,\n",
      "        0.6896, 0.8533, 0.4162, 0.0147, 0.1717, 0.2967, 0.3329, 0.6783, 0.3025,\n",
      "        0.8108, 0.2082, 0.9273, 0.7607, 0.8053, 0.9331, 0.0480, 0.6785, 0.4677,\n",
      "        0.1663, 0.4337, 0.8071, 0.6092], grad_fn=<ClampBackward1>)\n",
      "Iter 1000\n",
      "netloss 0.0021 regloss 0.0453(beta=16.4029) closs0.0143(constraint:4087219.1999999997)\n",
      "alpha:\n",
      " tensor([0.8616, 0.4185, 0.6764, 0.6804, 0.4213, 0.8624, 0.7959, 0.4857, 0.5631,\n",
      "        1.0000, 0.6540, 1.0000, 0.7249, 0.4687, 0.7909, 0.9184, 0.5260, 0.5971,\n",
      "        1.0000, 1.0000, 0.7248, 0.3189, 0.6324, 0.8183, 0.7621, 0.6846, 0.5467,\n",
      "        0.0000, 1.0000, 1.0000, 0.6504, 0.8954, 0.6926, 0.5806, 0.5503, 0.6991,\n",
      "        0.8982, 1.0000, 0.7026, 0.0000, 0.4419, 0.5951, 0.6295, 0.8860, 0.6007,\n",
      "        0.9808, 0.4997, 1.0000, 0.9406, 0.9757, 1.0000, 0.3147, 0.8861, 0.7429,\n",
      "        0.4483, 0.7158, 0.9778, 0.8535], grad_fn=<ClampBackward1>)\n",
      "Iter 2000\n",
      "netloss 0.0021 regloss 0.0318(beta=12.8022) closs0.0000(constraint:4087219.1999999997)\n",
      "alpha:\n",
      " tensor([1.0000, 0.5577, 0.7460, 0.7938, 0.5855, 1.0000, 1.0000, 0.5985, 0.7097,\n",
      "        1.0000, 0.7656, 1.0000, 0.8902, 0.5790, 1.0000, 1.0000, 0.6443, 0.6798,\n",
      "        1.0000, 1.0000, 0.7725, 0.0976, 0.7587, 1.0000, 0.8812, 0.7982, 0.6832,\n",
      "        0.0000, 1.0000, 1.0000, 0.7713, 1.0000, 0.8074, 0.7210, 0.6896, 0.8125,\n",
      "        1.0000, 1.0000, 0.7918, 0.0000, 0.4392, 0.7318, 0.7568, 1.0000, 0.7351,\n",
      "        1.0000, 0.6531, 1.0000, 1.0000, 1.0000, 1.0000, 0.4974, 1.0000, 0.8443,\n",
      "        0.6123, 0.8212, 1.0000, 1.0000], grad_fn=<ClampBackward1>)\n",
      "Iter 3000\n",
      "netloss 0.0016 regloss 0.0278(beta=9.2014) closs0.0000(constraint:4087219.1999999997)\n",
      "alpha:\n",
      " tensor([1.0000, 0.4686, 0.5807, 1.0000, 0.5634, 1.0000, 1.0000, 0.4692, 0.7273,\n",
      "        1.0000, 0.7620, 1.0000, 1.0000, 0.4559, 1.0000, 1.0000, 0.5498, 0.5228,\n",
      "        1.0000, 1.0000, 0.5661, 0.0000, 0.7599, 1.0000, 1.0000, 0.8213, 0.6550,\n",
      "        0.0000, 1.0000, 1.0000, 0.7736, 1.0000, 0.8583, 0.7241, 0.6700, 0.8749,\n",
      "        1.0000, 1.0000, 0.7274, 0.0000, 0.1663, 0.7329, 0.7547, 1.0000, 0.7331,\n",
      "        1.0000, 0.6444, 1.0000, 1.0000, 1.0000, 1.0000, 0.4926, 1.0000, 0.8660,\n",
      "        0.6089, 0.8251, 1.0000, 1.0000], grad_fn=<ClampBackward1>)\n",
      "Iter 4000\n",
      "netloss 0.0014 regloss 0.0193(beta=5.6007) closs0.0000(constraint:4087219.1999999997)\n",
      "alpha:\n",
      " tensor([1.0000, 0.3254, 0.3652, 1.0000, 0.5157, 1.0000, 1.0000, 0.2513, 1.0000,\n",
      "        1.0000, 1.0000, 1.0000, 1.0000, 0.2772, 1.0000, 1.0000, 0.4024, 0.3078,\n",
      "        1.0000, 1.0000, 0.3187, 0.0000, 0.9330, 1.0000, 1.0000, 1.0000, 0.6142,\n",
      "        0.0000, 1.0000, 1.0000, 0.9757, 1.0000, 1.0000, 0.8053, 0.6421, 1.0000,\n",
      "        1.0000, 1.0000, 0.6184, 0.0000, 0.0000, 0.7500, 0.7735, 1.0000, 0.7437,\n",
      "        1.0000, 0.6306, 1.0000, 1.0000, 1.0000, 1.0000, 0.4858, 1.0000, 0.9962,\n",
      "        0.6031, 0.9111, 1.0000, 1.0000], grad_fn=<ClampBackward1>)\n",
      "Iter 5000\n",
      "netloss 0.0012 regloss 0.0064(beta=2.0000) closs0.0000(constraint:4087219.1999999997)\n",
      "alpha:\n",
      " tensor([1.0000, 0.0000, 0.0000, 1.0000, 0.2009, 1.0000, 1.0000, 0.0000, 1.0000,\n",
      "        1.0000, 1.0000, 1.0000, 1.0000, 0.0000, 1.0000, 1.0000, 0.0054, 0.0000,\n",
      "        1.0000, 1.0000, 0.0098, 0.0000, 1.0000, 1.0000, 1.0000, 1.0000, 0.7830,\n",
      "        0.0000, 1.0000, 1.0000, 1.0000, 1.0000, 1.0000, 1.0000, 0.8828, 1.0000,\n",
      "        1.0000, 1.0000, 0.4587, 0.0000, 0.0000, 0.9195, 0.9432, 1.0000, 0.9085,\n",
      "        1.0000, 0.6770, 1.0000, 1.0000, 1.0000, 1.0000, 0.4693, 1.0000, 1.0000,\n",
      "        0.6424, 1.0000, 1.0000, 1.0000], grad_fn=<ClampBackward1>)\n"
     ]
    }
   ],
   "source": [
    "v = optimize(n_iteration=5000,lr=1e-3,beta=[20,2],lambda1=1e-3,lambda2=5e-8,naive=False,b=tot_size * 8 * r)"
   ]
  },
  {
   "cell_type": "code",
   "execution_count": 115,
   "id": "cf97384a",
   "metadata": {},
   "outputs": [
    {
     "data": {
      "text/plain": [
       "({'mean_acc': 0.9323,\n",
       "  'qtl_acc': 0.9323,\n",
       "  'mean_loss': 0.31045264349896695,\n",
       "  'qtl_loss': 0.31045264349896695,\n",
       "  'test time': 1.6236681938171387,\n",
       "  'acc_list': array([0.9323]),\n",
       "  'loss_list': array([0.31045264])},\n",
       " 0.46767425537109375)"
      ]
     },
     "execution_count": 115,
     "metadata": {},
     "output_type": "execute_result"
    }
   ],
   "source": [
    "evaluate_decision(v)"
   ]
  },
  {
   "cell_type": "code",
   "execution_count": null,
   "id": "fa2f91e3",
   "metadata": {
    "scrolled": true
   },
   "outputs": [],
   "source": [
    "v = optimize(n_iteration=10000,lr=2e-3,beta=[20,2],lambda1=0,lambda2=0,naive=True)"
   ]
  },
  {
   "cell_type": "code",
   "execution_count": null,
   "id": "36728f57",
   "metadata": {},
   "outputs": [],
   "source": [
    "evaluate_decision(v)"
   ]
  },
  {
   "cell_type": "markdown",
   "id": "50d354c4",
   "metadata": {},
   "source": [
    "## Pareto-Frontier of FeintLady vs Inter-Layer Dependency Unaware Optimization (Naive)"
   ]
  },
  {
   "cell_type": "code",
   "execution_count": null,
   "id": "8f48f9eb",
   "metadata": {
    "scrolled": true
   },
   "outputs": [],
   "source": [
    "# fix lambda1 to 1e-3\n",
    "# search lambda2 from 1e-5 to 1e-10\n",
    "# each HP (lambda2) try 5 runs\n",
    "\n",
    "lambda2s = np.logspace(-5,-10,50) #lambda1=1e-3,n=5000,lr=1e-3,beta=[20,2] for resnet20 on cifar10\n",
    "lambda2s = np.logspace(-5,-10,50) #lambda1=1e-1,n=5000,lr=1e-3,beta=[20,2] for resnet20 on cifar100\n",
    "sample_size = 5\n",
    "naive_loss,naive_size = [],[]\n",
    "feint_loss,feint_size = [],[]\n",
    "\n",
    "for lambda2 in lambda2s:\n",
    "    print('lambda2:',lambda2)\n",
    "    for repeat in range(sample_size):\n",
    "        v = optimize(n_iteration=5000,lr=1e-3,beta=[20,2],lambda1=1e-1,lambda2=lambda2,naive=True)\n",
    "        perf,size = evaluate_decision(v)\n",
    "        naive_loss.append(perf)\n",
    "        naive_size.append(size)\n",
    "\n",
    "        v = optimize(n_iteration=5000,lr=1e-3,beta=[20,2],lambda1=1e-1,lambda2=lambda2,naive=False)\n",
    "        perf,size = evaluate_decision(v)\n",
    "        feint_loss.append(perf)\n",
    "        feint_size.append(size)"
   ]
  },
  {
   "cell_type": "code",
   "execution_count": null,
   "id": "5adb6fd5",
   "metadata": {},
   "outputs": [],
   "source": [
    "naive_size = np.array(naive_size)\n",
    "feint_size = np.array(feint_size)"
   ]
  },
  {
   "cell_type": "code",
   "execution_count": null,
   "id": "f12da08b",
   "metadata": {},
   "outputs": [],
   "source": [
    "naive_acc = [naive_loss[i]['mean_acc'] for i in range(len(naive_loss))]\n",
    "feint_acc = [feint_loss[i]['mean_acc'] for i in range(len(feint_loss))]"
   ]
  },
  {
   "cell_type": "code",
   "execution_count": null,
   "id": "e708cbb1",
   "metadata": {},
   "outputs": [],
   "source": [
    "with open('c100resnet56scatterplot.pkl','wb') as f:\n",
    "    pickle.dump({'naive_size':naive_size,'naive_acc':naive_acc,\n",
    "                 'feint_size':feint_size,'feint_acc':feint_acc},f)\n",
    "    "
   ]
  },
  {
   "cell_type": "code",
   "execution_count": null,
   "id": "aa465467",
   "metadata": {},
   "outputs": [],
   "source": [
    "plt.scatter(naive_size,naive_acc,color='red',alpha=0.5,label='Inter-Layer Depedency Unaware Optimization')\n",
    "plt.scatter(feint_size,feint_acc,color='blue',alpha=0.5,label='FeintLady Optimization')\n",
    "plt.xlabel('Hardware cost')\n",
    "plt.ylabel('Performance')\n",
    "plt.legend()\n",
    "# plt.imshow(X_std,cmap='hot')\n",
    "# plt.xlabel('layer index')\n",
    "# plt.ylabel('layer index')\n",
    "plt.savefig('c100resnet56FeintEffecacy.pdf',transparent=True, bbox_inches='tight', pad_inches=0)"
   ]
  },
  {
   "cell_type": "code",
   "execution_count": null,
   "id": "c2a211db",
   "metadata": {},
   "outputs": [],
   "source": [
    "plt.scatter(naive_size,naive_acc,color='red',alpha=0.5,label='naive')\n",
    "# plt.scatter(naive_size,naive_acc,color='blue',alpha=0.5,label='feint')\n",
    "plt.xlabel('hardware cost')\n",
    "plt.ylabel('performance')\n",
    "plt.legend()\n",
    "plt.show()"
   ]
  },
  {
   "cell_type": "code",
   "execution_count": null,
   "id": "d8252488",
   "metadata": {},
   "outputs": [],
   "source": []
  }
 ],
 "metadata": {
  "kernelspec": {
   "display_name": "Python 3",
   "language": "python",
   "name": "python3"
  },
  "language_info": {
   "codemirror_mode": {
    "name": "ipython",
    "version": 3
   },
   "file_extension": ".py",
   "mimetype": "text/x-python",
   "name": "python",
   "nbconvert_exporter": "python",
   "pygments_lexer": "ipython3",
   "version": "3.6.13"
  }
 },
 "nbformat": 4,
 "nbformat_minor": 5
}
