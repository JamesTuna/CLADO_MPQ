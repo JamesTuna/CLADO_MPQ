{
 "cells": [
  {
   "cell_type": "code",
   "execution_count": null,
   "id": "88916e28",
   "metadata": {},
   "outputs": [],
   "source": [
    "!pwd"
   ]
  },
  {
   "cell_type": "code",
   "execution_count": 1,
   "id": "b5dcb63d",
   "metadata": {},
   "outputs": [],
   "source": [
    "import torch\n",
    "import cvxpy as cp\n",
    "import pickle\n",
    "import numpy as np\n",
    "import os\n",
    "\n",
    "def load_gradients(file_name):\n",
    "    with open(file_name,'rb') as f:\n",
    "        hm = pickle.load(f)\n",
    "\n",
    "    L = hm['Ltilde'].shape[0]\n",
    "    index2layerscheme = [None for i in range(L)]\n",
    "\n",
    "    for name in hm['layer_index']:\n",
    "        index = hm['layer_index'][name]\n",
    "        layer_name = name[:-11]\n",
    "        scheme = name[-11:]\n",
    "        a = hm['Ltilde']\n",
    "        #print(f'index {index} layer {layer_name} scheme {scheme} Ltilde {a[index,index].item():.6f}')\n",
    "        index2layerscheme[index] = (layer_name,scheme)\n",
    "    \n",
    "    cached_grad = np.zeros_like(hm['Ltilde'])\n",
    "    for i in range(L):\n",
    "        for j in range(L):\n",
    "            layer_i,scheme_i = index2layerscheme[i]\n",
    "            layer_j,scheme_j = index2layerscheme[j]\n",
    "            if layer_i == layer_j:\n",
    "                if scheme_i == scheme_j:\n",
    "                    cached_grad[i,j] = cached_grad[j,i] = 2 * hm['Ltilde'][i,j]\n",
    "                else:\n",
    "                    cached_grad[i,j] = cached_grad[j,i] = 0\n",
    "            else:\n",
    "                cached_grad[i,j] = cached_grad[j,i] = hm['Ltilde'][i,j] - hm['Ltilde'][i,i] - hm['Ltilde'][j,j]\n",
    "\n",
    "    return hm, cached_grad, index2layerscheme"
   ]
  },
  {
   "cell_type": "code",
   "execution_count": 2,
   "id": "89e8d36b",
   "metadata": {},
   "outputs": [],
   "source": [
    "batch_Ltildes_clado = []\n",
    "batch_Ltildes_clado2 = []\n",
    "calib_num = 128\n",
    "for b in range(1,2):\n",
    "    \n",
    "#     with open(f'./clado_mpqco_results/bert-base/Ltilde_bert-base/Ltilde_calib{calib_num}_batch{b}(size8).pkl','rb') as f:\n",
    "#         hm = pickle.load(f)\n",
    "#         batch_Ltildes_clado.append(hm['Ltilde'])\n",
    "    hm,cached_grad,_ =  load_gradients(f'./clado_mpqco_results/bert-base/Ltilde_bert-base/Ltilde_calib{calib_num}_batch{b}(size8).pkl')  \n",
    "\n",
    "    batch_Ltildes_clado2.append(hm['Ltilde'])"
   ]
  },
  {
   "cell_type": "code",
   "execution_count": 4,
   "id": "6c9ccba4",
   "metadata": {},
   "outputs": [
    {
     "data": {
      "text/plain": [
       "1"
      ]
     },
     "execution_count": 4,
     "metadata": {},
     "output_type": "execute_result"
    }
   ],
   "source": [
    "len(batch_Ltildes_clado2)"
   ]
  },
  {
   "cell_type": "code",
   "execution_count": 5,
   "id": "ab49bae9",
   "metadata": {},
   "outputs": [],
   "source": [
    "#batch_Ltildes_clado = np.array(batch_Ltildes_clado).mean(axis=0)\n",
    "batch_Ltildes_clado2 = np.array(batch_Ltildes_clado2).mean(axis=0)"
   ]
  },
  {
   "cell_type": "code",
   "execution_count": null,
   "id": "91731558",
   "metadata": {},
   "outputs": [],
   "source": []
  },
  {
   "cell_type": "code",
   "execution_count": null,
   "id": "c9114034",
   "metadata": {},
   "outputs": [],
   "source": [
    "batch_Ltildes_clado2.shape"
   ]
  },
  {
   "cell_type": "code",
   "execution_count": 8,
   "id": "25dc61e7",
   "metadata": {},
   "outputs": [
    {
     "data": {
      "text/plain": [
       "array([[0, 1, 2, 0, 2, 0],\n",
       "       [2, 2, 2, 0, 1, 2],\n",
       "       [1, 2, 1, 1, 1, 0],\n",
       "       [1, 1, 1, 1, 0, 0],\n",
       "       [0, 0, 0, 0, 1, 0],\n",
       "       [0, 0, 0, 0, 0, 1],\n",
       "       [1, 0, 0, 1, 1, 0],\n",
       "       [1, 0, 0, 1, 1, 1],\n",
       "       [2, 1, 2, 2, 0, 0],\n",
       "       [0, 1, 2, 2, 1, 0],\n",
       "       [1, 0, 1, 0, 0, 0],\n",
       "       [0, 0, 0, 0, 1, 1]])"
      ]
     },
     "execution_count": 8,
     "metadata": {},
     "output_type": "execute_result"
    }
   ],
   "source": [
    "x = np.diag(batch_Ltildes_clado2)\n",
    "(np.argmin(x.reshape(-1,3),axis=1)).reshape(-1,6)\n",
    "# q k v AttentionOut intDense OutDense "
   ]
  },
  {
   "cell_type": "code",
   "execution_count": 7,
   "id": "24ac3bc0",
   "metadata": {},
   "outputs": [
    {
     "name": "stdout",
     "output_type": "stream",
     "text": [
      "[1, 0, 0, 0, 1, 0, 0, 0, 1, 1, 0, 0, 0, 0, 1, 1, 0, 0, 0, 0, 1, 0, 0, 1, 0, 0, 1, 1, 0, 0, 0, 1, 0, 0, 0, 1, 0, 1, 0, 0, 0, 1, 0, 1, 0, 0, 1, 0, 0, 1, 0, 1, 0, 0, 0, 1, 0, 0, 1, 0, 0, 1, 0, 0, 1, 0, 1, 0, 0, 1, 0, 0, 1, 0, 0, 1, 0, 0, 1, 0, 0, 1, 0, 0, 0, 1, 0, 1, 0, 0, 1, 0, 0, 1, 0, 0, 1, 0, 0, 1, 0, 0, 1, 0, 0, 0, 1, 0, 0, 1, 0, 1, 0, 0, 1, 0, 0, 0, 1, 0, 0, 1, 0, 1, 0, 0, 0, 1, 0, 1, 0, 0, 1, 0, 0, 0, 1, 0, 0, 1, 0, 0, 1, 0, 0, 0, 1, 0, 1, 0, 0, 0, 1, 0, 0, 1, 1, 0, 0, 1, 0, 0, 1, 0, 0, 0, 1, 0, 0, 0, 1, 0, 0, 1, 0, 1, 0, 1, 0, 0, 0, 1, 0, 1, 0, 0, 0, 1, 0, 1, 0, 0, 1, 0, 0, 1, 0, 0, 1, 0, 0, 1, 0, 0, 1, 0, 0, 1, 0, 0, 0, 1, 0, 0, 1, 0]\n"
     ]
    }
   ],
   "source": [
    "y = []\n",
    "for item in ((np.argmin(x.reshape(-1,3),axis=1))):\n",
    "    if item == 2:\n",
    "        y += [0,0,1]\n",
    "    elif item == 1:\n",
    "        y += [0,1,0]\n",
    "    else:\n",
    "        y += [1,0,0]\n",
    "print(y)"
   ]
  },
  {
   "cell_type": "code",
   "execution_count": null,
   "id": "c76e425e",
   "metadata": {},
   "outputs": [],
   "source": [
    "y = []\n",
    "for item in range(72):\n",
    "    y += [1,0,0]\n",
    "print(y)"
   ]
  },
  {
   "cell_type": "code",
   "execution_count": null,
   "id": "c5cbf793",
   "metadata": {},
   "outputs": [],
   "source": [
    "u,s,v = np.linalg.svd(batch_Ltildes_clado2)\n",
    "s[s<0] = 0\n",
    "psd_ltilde = u@np.diagonal(s)@v\n",
    "(np.argmin(psd_ltilde.reshape(-1,3),axis=1))"
   ]
  },
  {
   "cell_type": "code",
   "execution_count": null,
   "id": "c60b87d8",
   "metadata": {},
   "outputs": [],
   "source": [
    "hm['layer_index']"
   ]
  },
  {
   "cell_type": "code",
   "execution_count": null,
   "id": "adacb6f5",
   "metadata": {},
   "outputs": [],
   "source": []
  }
 ],
 "metadata": {
  "kernelspec": {
   "display_name": "Python 3 (ipykernel)",
   "language": "python",
   "name": "python3"
  },
  "language_info": {
   "codemirror_mode": {
    "name": "ipython",
    "version": 3
   },
   "file_extension": ".py",
   "mimetype": "text/x-python",
   "name": "python",
   "nbconvert_exporter": "python",
   "pygments_lexer": "ipython3",
   "version": "3.9.7"
  }
 },
 "nbformat": 4,
 "nbformat_minor": 5
}
