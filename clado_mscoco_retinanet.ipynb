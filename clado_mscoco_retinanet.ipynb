{
 "cells": [
  {
   "cell_type": "code",
   "execution_count": 1,
   "metadata": {},
   "outputs": [],
   "source": [
    "from torchvision.models.detection import retinanet_resnet50_fpn_v2, RetinaNet_ResNet50_FPN_V2_Weights\n",
    "from torchvision.datasets import CocoDetection"
   ]
  },
  {
   "cell_type": "code",
   "execution_count": 3,
   "metadata": {},
   "outputs": [],
   "source": [
    "weights = RetinaNet_ResNet50_FPN_V2_Weights.DEFAULT\n",
    "model = retinanet_resnet50_fpn_v2(weights=weights)"
   ]
  },
  {
   "cell_type": "code",
   "execution_count": null,
   "metadata": {},
   "outputs": [],
   "source": [
    "from pycocotools import coco\n",
    "data_dir = \"/tools/d-matrix/ml/data/coco\"\n",
    "data_type = \"val2017\"\n",
    "ann_file = f\"{data_dir}/annotations/instances_{data_type}.json\"\n",
    "ds = CocoDetection(root=\"/tools/d-matrix/ml/data/coco/images\", annFile=\"/tools/d-matrix/ml/data/coco/annotations\")"
   ]
  },
  {
   "cell_type": "code",
   "execution_count": null,
   "metadata": {},
   "outputs": [],
   "source": []
  }
 ],
 "metadata": {
  "kernelspec": {
   "display_name": "Python 3.9.12 ('ml')",
   "language": "python",
   "name": "python3"
  },
  "language_info": {
   "codemirror_mode": {
    "name": "ipython",
    "version": 3
   },
   "file_extension": ".py",
   "mimetype": "text/x-python",
   "name": "python",
   "nbconvert_exporter": "python",
   "pygments_lexer": "ipython3",
   "version": "3.9.12"
  },
  "orig_nbformat": 4,
  "vscode": {
   "interpreter": {
    "hash": "b3764ce06cfd54453d31be2df5154d80e2a3eb2b86793c7adc38841b33fab658"
   }
  }
 },
 "nbformat": 4,
 "nbformat_minor": 2
}
