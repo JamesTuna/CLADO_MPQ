{
 "cells": [
  {
   "cell_type": "code",
   "execution_count": 1,
   "id": "ba86fdca",
   "metadata": {},
   "outputs": [
    {
     "name": "stderr",
     "output_type": "stream",
     "text": [
      "Using cache found in /home/zihao/.cache/torch/hub/chenyaofo_pytorch-cifar-models_master\n"
     ]
    }
   ],
   "source": [
    "import torch,torchvision,os,time\n",
    "import torchvision.transforms as transforms\n",
    "import numpy as np\n",
    "from utils.util import get_loader,evaluate\n",
    "from utils.layer import qConv2d,qLinear\n",
    "from utils.train import QAVAT_train\n",
    "import matplotlib.pyplot as plt\n",
    "import torchvision.models as models                           # for example model\n",
    "from mqbench.prepare_by_platform import prepare_by_platform   # add quant nodes for specific Backend\n",
    "from mqbench.prepare_by_platform import BackendType           # contain various Backend, like TensorRT, NNIE, etc.\n",
    "from mqbench.utils.state import enable_calibration            # turn on calibration algorithm, determine scale, zero_point, etc.\n",
    "from mqbench.utils.state import enable_quantization           # turn on actually quantization, like FP32 -> INT8\n",
    "from mqbench.utils.state import disable_all           # turn on actually quantization, like FP32 -> INT8\n",
    "from copy import deepcopy\n",
    "\n",
    "os.environ['CUDA_LAUNCH_BLOCKING'] = '1'\n",
    "\n",
    "model = torch.hub.load(\"chenyaofo/pytorch-cifar-models\", \"cifar10_resnet56\", pretrained=True).cuda()\n",
    "# model = torch.hub.load(\"chenyaofo/pytorch-cifar-models\", \"cifar100_mobilenetv2_x0_5\", pretrained=True).cuda()"
   ]
  },
  {
   "cell_type": "code",
   "execution_count": 2,
   "id": "53657ce1",
   "metadata": {
    "scrolled": true
   },
   "outputs": [
    {
     "name": "stdout",
     "output_type": "stream",
     "text": [
      "Files already downloaded and verified\n",
      "Files already downloaded and verified\n"
     ]
    }
   ],
   "source": [
    "train,test = get_loader('cifar10'.upper(),batch_size=128,test_batch_size=128)\n",
    "train.num_workers = 2\n",
    "test.num_workers = 2\n",
    "train.pin_in_memory = True\n",
    "test.pin_in_memory = True"
   ]
  },
  {
   "cell_type": "code",
   "execution_count": 3,
   "id": "1f67af0a",
   "metadata": {},
   "outputs": [],
   "source": [
    "# calibration data used to calibrate PTQ and MPQ\n",
    "calib_data = []\n",
    "i = 0\n",
    "for img,label in train:\n",
    "    i += 1\n",
    "    calib_data.append((img,label))\n",
    "    if i == 8:\n",
    "        break"
   ]
  },
  {
   "cell_type": "code",
   "execution_count": 4,
   "id": "13c71366",
   "metadata": {},
   "outputs": [],
   "source": [
    "model.eval()\n",
    "mqb_model = deepcopy(model)\n",
    "torch_fp_model = deepcopy(model)\n",
    "torch_quantized_model = deepcopy(model)\n",
    "torch_perturb_model = deepcopy(model)\n",
    "model = None"
   ]
  },
  {
   "cell_type": "code",
   "execution_count": 5,
   "id": "b007f436",
   "metadata": {},
   "outputs": [],
   "source": [
    "# MSE calibration on model parameters\n",
    "backend = BackendType.Academic\n",
    "extra_config = {\n",
    "    'extra_qconfig_dict': {\n",
    "        'w_observer': 'MSEObserver',                              # custom weight observer\n",
    "        'a_observer': 'EMAMSEObserver',                              # custom activation observer\n",
    "        'w_fakequantize': 'FixedFakeQuantize',                    # custom weight fake quantize function\n",
    "        'a_fakequantize': 'FixedFakeQuantize',                    # custom activation fake quantize function\n",
    "        'w_qscheme': {\n",
    "            'bit': 4,                                             # custom bitwidth for weight,\n",
    "            'symmetry': True,                                    # custom whether quant is symmetric for weight,\n",
    "            'per_channel': False,                                  # custom whether quant is per-channel or per-tensor for weight,\n",
    "            'pot_scale': False,                                   # custom whether scale is power of two for weight.\n",
    "        },\n",
    "        'a_qscheme': {\n",
    "            'bit': 8,                                             # custom bitwidth for activation,\n",
    "            'symmetry': False,                                    # custom whether quant is symmetric for activation,\n",
    "            'per_channel': False,                                  # custom whether quant is per-channel or per-tensor for activation,\n",
    "            'pot_scale': False,                                   # custom whether scale is power of two for activation.\n",
    "        }\n",
    "    }                                                         # custom tracer behavior, checkout https://github.com/pytorch/pytorch/blob/efcbbb177eacdacda80b94ad4ce34b9ed6cf687a/torch/fx/_symbolic_trace.py#L836\n",
    "}"
   ]
  },
  {
   "cell_type": "code",
   "execution_count": 6,
   "id": "73e67b39",
   "metadata": {
    "scrolled": true
   },
   "outputs": [
    {
     "name": "stdout",
     "output_type": "stream",
     "text": [
      "[MQBENCH] INFO: Quantize model Scheme: BackendType.Academic Mode: Eval\n",
      "[MQBENCH] INFO: Weight Qconfig:\n",
      "    FakeQuantize: FixedFakeQuantize Params: {}\n",
      "    Oberver:      MSEObserver Params: Symmetric: True / Bitwidth: 4 / Per channel: False / Pot scale: False / Extra kwargs: {}\n",
      "[MQBENCH] INFO: Activation Qconfig:\n",
      "    FakeQuantize: FixedFakeQuantize Params: {}\n",
      "    Oberver:      EMAMSEObserver Params: Symmetric: False / Bitwidth: 8 / Per channel: False / Pot scale: False / Extra kwargs: {}\n",
      "[MQBENCH] INFO: Replace module to qat module.\n",
      "[MQBENCH] INFO: Set layer conv1 to 8 bit.\n",
      "[MQBENCH] INFO: Set layer fc to 8 bit.\n",
      "[MQBENCH] INFO: Set x post act quantize to 8 bit.\n",
      "[MQBENCH] INFO: Insert act quant x_post_act_fake_quantizer\n",
      "[MQBENCH] INFO: Insert act quant relu_post_act_fake_quantizer\n",
      "[MQBENCH] INFO: Insert act quant layer1_0_relu_post_act_fake_quantizer\n",
      "[MQBENCH] INFO: Insert act quant layer1_0_relu_1_post_act_fake_quantizer\n",
      "[MQBENCH] INFO: Insert act quant layer1_1_relu_post_act_fake_quantizer\n",
      "[MQBENCH] INFO: Insert act quant layer1_1_relu_1_post_act_fake_quantizer\n",
      "[MQBENCH] INFO: Insert act quant layer1_2_relu_post_act_fake_quantizer\n",
      "[MQBENCH] INFO: Insert act quant layer1_2_relu_1_post_act_fake_quantizer\n",
      "[MQBENCH] INFO: Insert act quant layer1_3_relu_post_act_fake_quantizer\n",
      "[MQBENCH] INFO: Insert act quant layer1_3_relu_1_post_act_fake_quantizer\n",
      "[MQBENCH] INFO: Insert act quant layer1_4_relu_post_act_fake_quantizer\n",
      "[MQBENCH] INFO: Insert act quant layer1_4_relu_1_post_act_fake_quantizer\n",
      "[MQBENCH] INFO: Insert act quant layer1_5_relu_post_act_fake_quantizer\n",
      "[MQBENCH] INFO: Insert act quant layer1_5_relu_1_post_act_fake_quantizer\n",
      "[MQBENCH] INFO: Insert act quant layer1_6_relu_post_act_fake_quantizer\n",
      "[MQBENCH] INFO: Insert act quant layer1_6_relu_1_post_act_fake_quantizer\n",
      "[MQBENCH] INFO: Insert act quant layer1_7_relu_post_act_fake_quantizer\n",
      "[MQBENCH] INFO: Insert act quant layer1_7_relu_1_post_act_fake_quantizer\n",
      "[MQBENCH] INFO: Insert act quant layer1_8_relu_post_act_fake_quantizer\n",
      "[MQBENCH] INFO: Insert act quant layer1_8_relu_1_post_act_fake_quantizer\n",
      "[MQBENCH] INFO: Insert act quant layer2_0_relu_post_act_fake_quantizer\n",
      "[MQBENCH] INFO: Insert act quant layer2_0_relu_1_post_act_fake_quantizer\n",
      "[MQBENCH] INFO: Insert act quant layer2_1_relu_post_act_fake_quantizer\n",
      "[MQBENCH] INFO: Insert act quant layer2_1_relu_1_post_act_fake_quantizer\n",
      "[MQBENCH] INFO: Insert act quant layer2_2_relu_post_act_fake_quantizer\n",
      "[MQBENCH] INFO: Insert act quant layer2_2_relu_1_post_act_fake_quantizer\n",
      "[MQBENCH] INFO: Insert act quant layer2_3_relu_post_act_fake_quantizer\n",
      "[MQBENCH] INFO: Insert act quant layer2_3_relu_1_post_act_fake_quantizer\n",
      "[MQBENCH] INFO: Insert act quant layer2_4_relu_post_act_fake_quantizer\n",
      "[MQBENCH] INFO: Insert act quant layer2_4_relu_1_post_act_fake_quantizer\n",
      "[MQBENCH] INFO: Insert act quant layer2_5_relu_post_act_fake_quantizer\n",
      "[MQBENCH] INFO: Insert act quant layer2_5_relu_1_post_act_fake_quantizer\n",
      "[MQBENCH] INFO: Insert act quant layer2_6_relu_post_act_fake_quantizer\n",
      "[MQBENCH] INFO: Insert act quant layer2_6_relu_1_post_act_fake_quantizer\n",
      "[MQBENCH] INFO: Insert act quant layer2_7_relu_post_act_fake_quantizer\n",
      "[MQBENCH] INFO: Insert act quant layer2_7_relu_1_post_act_fake_quantizer\n",
      "[MQBENCH] INFO: Insert act quant layer2_8_relu_post_act_fake_quantizer\n",
      "[MQBENCH] INFO: Insert act quant layer2_8_relu_1_post_act_fake_quantizer\n",
      "[MQBENCH] INFO: Insert act quant layer3_0_relu_post_act_fake_quantizer\n",
      "[MQBENCH] INFO: Insert act quant layer3_0_relu_1_post_act_fake_quantizer\n",
      "[MQBENCH] INFO: Insert act quant layer3_1_relu_post_act_fake_quantizer\n",
      "[MQBENCH] INFO: Insert act quant layer3_1_relu_1_post_act_fake_quantizer\n",
      "[MQBENCH] INFO: Insert act quant layer3_2_relu_post_act_fake_quantizer\n",
      "[MQBENCH] INFO: Insert act quant layer3_2_relu_1_post_act_fake_quantizer\n",
      "[MQBENCH] INFO: Insert act quant layer3_3_relu_post_act_fake_quantizer\n",
      "[MQBENCH] INFO: Insert act quant layer3_3_relu_1_post_act_fake_quantizer\n",
      "[MQBENCH] INFO: Insert act quant layer3_4_relu_post_act_fake_quantizer\n",
      "[MQBENCH] INFO: Insert act quant layer3_4_relu_1_post_act_fake_quantizer\n",
      "[MQBENCH] INFO: Insert act quant layer3_5_relu_post_act_fake_quantizer\n",
      "[MQBENCH] INFO: Insert act quant layer3_5_relu_1_post_act_fake_quantizer\n",
      "[MQBENCH] INFO: Insert act quant layer3_6_relu_post_act_fake_quantizer\n",
      "[MQBENCH] INFO: Insert act quant layer3_6_relu_1_post_act_fake_quantizer\n",
      "[MQBENCH] INFO: Insert act quant layer3_7_relu_post_act_fake_quantizer\n",
      "[MQBENCH] INFO: Insert act quant layer3_7_relu_1_post_act_fake_quantizer\n",
      "[MQBENCH] INFO: Insert act quant layer3_8_relu_post_act_fake_quantizer\n",
      "[MQBENCH] INFO: Set view post act quantize to 8 bit.\n",
      "[MQBENCH] INFO: Insert act quant view_post_act_fake_quantizer\n"
     ]
    }
   ],
   "source": [
    "mqb_model = prepare_by_platform(mqb_model, backend,extra_config).cuda()"
   ]
  },
  {
   "cell_type": "code",
   "execution_count": 7,
   "id": "11fa42da",
   "metadata": {},
   "outputs": [
    {
     "name": "stdout",
     "output_type": "stream",
     "text": [
      "[MQBENCH] INFO: Enable observer and Disable quantize.\n"
     ]
    }
   ],
   "source": [
    "# calibration loop\n",
    "enable_calibration(mqb_model)\n",
    "for img,label in calib_data:\n",
    "    mqb_model(img.cuda())  "
   ]
  },
  {
   "cell_type": "code",
   "execution_count": 8,
   "id": "84d500a6",
   "metadata": {},
   "outputs": [
    {
     "name": "stdout",
     "output_type": "stream",
     "text": [
      "[MQBENCH] INFO: Disable observer and Enable quantize.\n"
     ]
    },
    {
     "data": {
      "text/plain": [
       "{'mean_acc': 0.8783,\n",
       " 'qtl_acc': 0.8783,\n",
       " 'mean_loss': 0.5185970482946951,\n",
       " 'qtl_loss': 0.5185970482946951,\n",
       " 'test time': 2.6452865600585938,\n",
       " 'acc_list': array([0.8783]),\n",
       " 'loss_list': array([0.51859705])}"
      ]
     },
     "execution_count": 8,
     "metadata": {},
     "output_type": "execute_result"
    }
   ],
   "source": [
    "# evaluation loop\n",
    "from mqbench.utils.state import disable_all\n",
    "enable_quantization(mqb_model)\n",
    "#disable_all(mqb_model)\n",
    "evaluate(test,mqb_model)"
   ]
  },
  {
   "cell_type": "code",
   "execution_count": 9,
   "id": "993e770f",
   "metadata": {},
   "outputs": [
    {
     "data": {
      "text/plain": [
       "{'mean_acc': 0.9437,\n",
       " 'qtl_acc': 0.9437,\n",
       " 'mean_loss': 0.2539497425284567,\n",
       " 'qtl_loss': 0.2539497425284567,\n",
       " 'test time': 1.6412854194641113,\n",
       " 'acc_list': array([0.9437]),\n",
       " 'loss_list': array([0.25394974])}"
      ]
     },
     "execution_count": 9,
     "metadata": {},
     "output_type": "execute_result"
    }
   ],
   "source": [
    "evaluate(test,torch_fp_model)"
   ]
  },
  {
   "cell_type": "code",
   "execution_count": 10,
   "id": "99e0c6c9",
   "metadata": {
    "scrolled": true
   },
   "outputs": [],
   "source": [
    "def getModuleByName(modelName,moduleName):\n",
    "    '''\n",
    "        replace module with name modelName.moduleName with newModule\n",
    "    '''\n",
    "    tokens = moduleName.split('.')\n",
    "    eval_str = modelName\n",
    "    for token in tokens:\n",
    "        try:\n",
    "            eval_str += f'[{int(token)}]'\n",
    "        except:\n",
    "            eval_str += f'.{token}'\n",
    "            \n",
    "    return eval(eval_str)\n",
    "\n",
    "# pass quantized weight to torch_quantized_model\n",
    "for n,m in mqb_model.named_modules():\n",
    "    if isinstance(m,torch.nn.Linear) or isinstance(m,torch.nn.Conv2d):\n",
    "        # print('loading quantized weight for layer',n)\n",
    "        torch_module = getModuleByName('torch_quantized_model',n)\n",
    "        torch_module.weight.data = m.weight_fake_quant(m.weight).data"
   ]
  },
  {
   "cell_type": "code",
   "execution_count": 11,
   "id": "9c08c97b",
   "metadata": {},
   "outputs": [
    {
     "data": {
      "text/plain": [
       "{'mean_acc': 0.8784,\n",
       " 'qtl_acc': 0.8784,\n",
       " 'mean_loss': 0.5174523803252208,\n",
       " 'qtl_loss': 0.5174523803252208,\n",
       " 'test time': 1.6943764686584473,\n",
       " 'acc_list': array([0.8784]),\n",
       " 'loss_list': array([0.51745238])}"
      ]
     },
     "execution_count": 11,
     "metadata": {},
     "output_type": "execute_result"
    }
   ],
   "source": [
    "evaluate(test,torch_quantized_model) "
   ]
  },
  {
   "cell_type": "code",
   "execution_count": 12,
   "id": "c5773766",
   "metadata": {},
   "outputs": [],
   "source": [
    "mqb_model = None"
   ]
  },
  {
   "cell_type": "markdown",
   "id": "8846ea48",
   "metadata": {},
   "source": [
    "## FeintLady"
   ]
  },
  {
   "cell_type": "code",
   "execution_count": 13,
   "id": "2f9cd5ee",
   "metadata": {},
   "outputs": [],
   "source": [
    "from collections import OrderedDict\n",
    "# 1. record all modules we want to consider\n",
    "layers_to_quant = OrderedDict() # layer_name:[torch_fp_module,torch_q_module,torch_p_module]\n",
    "types_to_quant = (torch.nn.Conv2d,torch.nn.Linear)\n",
    "\n",
    "for n,m in torch_fp_model.named_modules():\n",
    "    if isinstance(m,types_to_quant):\n",
    "        layers_to_quant[n] = [m,]\n",
    "        \n",
    "for n,m in torch_quantized_model.named_modules():\n",
    "    if isinstance(m,types_to_quant):\n",
    "        layers_to_quant[n].append(m)\n",
    "\n",
    "for n,m in torch_perturb_model.named_modules():\n",
    "    if isinstance(m,types_to_quant):\n",
    "        layers_to_quant[n].append(m)"
   ]
  },
  {
   "cell_type": "code",
   "execution_count": 14,
   "id": "98c80e88",
   "metadata": {},
   "outputs": [],
   "source": [
    "res = evaluate(calib_data,torch_fp_model)\n",
    "ref_metric = ('mean_loss',res['mean_loss'])"
   ]
  },
  {
   "cell_type": "code",
   "execution_count": 15,
   "id": "772d2eac",
   "metadata": {},
   "outputs": [
    {
     "data": {
      "text/plain": [
       "{'mean_acc': 1.0,\n",
       " 'qtl_acc': 1.0,\n",
       " 'mean_loss': 0.0010273076622979715,\n",
       " 'qtl_loss': 0.0010273076622979715,\n",
       " 'test time': 0.16436386108398438,\n",
       " 'acc_list': array([1.]),\n",
       " 'loss_list': array([0.00102731])}"
      ]
     },
     "execution_count": 15,
     "metadata": {},
     "output_type": "execute_result"
    }
   ],
   "source": [
    "res"
   ]
  },
  {
   "cell_type": "code",
   "execution_count": 16,
   "id": "aa6716b0",
   "metadata": {},
   "outputs": [],
   "source": [
    "def perturb_loss(perturb_names,ref_metric,eval_data,printInfo=False):\n",
    "    with torch.no_grad():\n",
    "        # perturb layers\n",
    "        for n in perturb_names:\n",
    "            layers_to_quant[n][2].weight.data = layers_to_quant[n][1].weight.data\n",
    "        # do evaluation\n",
    "        res = evaluate(eval_data,torch_perturb_model)\n",
    "        perturbed_loss = res[ref_metric[0]] - ref_metric[1]\n",
    "        \n",
    "        if printInfo:\n",
    "            print(res)\n",
    "        # recover layers\n",
    "        for n in perturb_names:\n",
    "            layers_to_quant[n][2].weight.data = layers_to_quant[n][0].weight.data\n",
    "    return perturbed_loss"
   ]
  },
  {
   "cell_type": "markdown",
   "id": "e47dd85f",
   "metadata": {},
   "source": [
    "## Build Cached Grad if not done before"
   ]
  },
  {
   "cell_type": "code",
   "execution_count": null,
   "id": "8f370df0",
   "metadata": {
    "scrolled": true
   },
   "outputs": [],
   "source": [
    "import time\n",
    "s_time = time.time()\n",
    "cached = {}\n",
    "for n in layers_to_quant:\n",
    "    for m in layers_to_quant:\n",
    "        if n == m:\n",
    "            print('perturb layer',n)\n",
    "            p = perturb_loss([n,],ref_metric,calib_data)\n",
    "            cached[(n,n)] = p\n",
    "        if (n,m) not in cached:\n",
    "            print('perturb layer',n,m)\n",
    "            p = perturb_loss([n,m],ref_metric,calib_data)\n",
    "            cached[(n,m)] = p\n",
    "            cached[(m,n)] = p   \n",
    "print(f'{time.time()-s_time:.2f} seconds elapsed')"
   ]
  },
  {
   "cell_type": "code",
   "execution_count": null,
   "id": "239967a5",
   "metadata": {},
   "outputs": [],
   "source": [
    "layer_index = {}\n",
    "cnt = 0\n",
    "for layer in layers_to_quant:\n",
    "    layer_index[layer] = cnt\n",
    "    cnt += 1\n",
    "L = cnt"
   ]
  },
  {
   "cell_type": "code",
   "execution_count": null,
   "id": "c3fb4786",
   "metadata": {},
   "outputs": [],
   "source": [
    "import numpy as np\n",
    "hm = np.zeros(shape=(L,L))\n",
    "for n in layers_to_quant:\n",
    "    for m in layers_to_quant:\n",
    "        hm[layer_index[n],layer_index[m]] = cached[(n,m)]"
   ]
  },
  {
   "cell_type": "code",
   "execution_count": null,
   "id": "2a31472c",
   "metadata": {},
   "outputs": [],
   "source": [
    "cached_grad = np.zeros_like(hm)"
   ]
  },
  {
   "cell_type": "code",
   "execution_count": null,
   "id": "f99559c6",
   "metadata": {},
   "outputs": [],
   "source": [
    "import pickle\n",
    "with open('feintlady_c100resnet56_calib','wb') as f:\n",
    "    pickle.dump({'Ltilde':hm,'layer_index':layer_index},f)"
   ]
  },
  {
   "cell_type": "code",
   "execution_count": null,
   "id": "9644eaeb",
   "metadata": {},
   "outputs": [],
   "source": [
    "perturb_loss(['conv1',],ref_metric,eval_data=calib_data)"
   ]
  },
  {
   "cell_type": "markdown",
   "id": "babc001d",
   "metadata": {},
   "source": [
    "## Load Cached Grad"
   ]
  },
  {
   "cell_type": "code",
   "execution_count": 17,
   "id": "498e1ffc",
   "metadata": {},
   "outputs": [],
   "source": [
    "import pickle\n",
    "with open('feintlady_resnet56_calib','rb') as f:\n",
    "    hm = pickle.load(f)"
   ]
  },
  {
   "cell_type": "code",
   "execution_count": 18,
   "id": "17bd25f7",
   "metadata": {},
   "outputs": [
    {
     "data": {
      "text/plain": [
       "<matplotlib.image.AxesImage at 0x7f8c7d754320>"
      ]
     },
     "execution_count": 18,
     "metadata": {},
     "output_type": "execute_result"
    },
    {
     "data": {
      "image/png": "[encoded data removed]",
      "text/plain": [
       "<Figure size 432x288 with 1 Axes>"
      ]
     },
     "metadata": {
      "needs_background": "light"
     },
     "output_type": "display_data"
    }
   ],
   "source": [
    "plt.imshow(hm['Ltilde'],cmap='hot')"
   ]
  },
  {
   "cell_type": "code",
   "execution_count": 19,
   "id": "beb3fb93",
   "metadata": {},
   "outputs": [],
   "source": [
    "L = hm['Ltilde'].shape[0]\n",
    "cached_grad = np.zeros_like(hm['Ltilde'])\n",
    "for i in range(L):\n",
    "    for j in range(L):\n",
    "        if i == j:\n",
    "            cached_grad[i,j] = 0.5 * hm['Ltilde'][i,j]\n",
    "        else:\n",
    "            cached_grad[i,j] = 0.25 * (hm['Ltilde'][i,j]-hm['Ltilde'][i,i]-hm['Ltilde'][j,j])"
   ]
  },
  {
   "cell_type": "code",
   "execution_count": 20,
   "id": "ccbde6e7",
   "metadata": {},
   "outputs": [
    {
     "data": {
      "text/plain": [
       "array([[ 4.11324436e-06,  8.01635906e-07,  3.74064257e-07, ...,\n",
       "         1.90833816e-07, -5.82549546e-08,  1.39370968e-08],\n",
       "       [ 8.01635906e-07, -3.38943937e-06,  3.68784094e-06, ...,\n",
       "        -1.63593722e-06, -1.32054993e-06, -8.19891284e-08],\n",
       "       [ 3.74064257e-07,  3.68784094e-06, -2.38365465e-06, ...,\n",
       "        -1.48320032e-06, -2.39680958e-07, -1.61733624e-07],\n",
       "       ...,\n",
       "       [ 1.90833816e-07, -1.63593722e-06, -1.48320032e-06, ...,\n",
       "         1.25698825e-04,  4.74548506e-06, -4.17436240e-07],\n",
       "       [-5.82549546e-08, -1.32054993e-06, -2.39680958e-07, ...,\n",
       "         4.74548506e-06,  6.75085539e-05, -4.71663952e-08],\n",
       "       [ 1.39370968e-08, -8.19891284e-08, -1.61733624e-07, ...,\n",
       "        -4.17436240e-07, -4.71663952e-08, -7.30753527e-07]])"
      ]
     },
     "execution_count": 20,
     "metadata": {},
     "output_type": "execute_result"
    }
   ],
   "source": [
    "cached_grad"
   ]
  },
  {
   "cell_type": "code",
   "execution_count": 21,
   "id": "4e34a3a5",
   "metadata": {},
   "outputs": [
    {
     "data": {
      "text/plain": [
       "<matplotlib.image.AxesImage at 0x7f8c7d698b00>"
      ]
     },
     "execution_count": 21,
     "metadata": {},
     "output_type": "execute_result"
    },
    {
     "data": {
      "image/png": "[encoded data removed]",
      "text/plain": [
       "<Figure size 432x288 with 1 Axes>"
      ]
     },
     "metadata": {
      "needs_background": "light"
     },
     "output_type": "display_data"
    }
   ],
   "source": [
    "# cached_grad[cached_grad<0]=0\n",
    "plt.imshow(cached_grad)"
   ]
  },
  {
   "cell_type": "markdown",
   "id": "7d4555d2",
   "metadata": {},
   "source": [
    "### Define a naive cost function: model size"
   ]
  },
  {
   "cell_type": "code",
   "execution_count": 22,
   "id": "f5886f20",
   "metadata": {},
   "outputs": [],
   "source": [
    "layer_size = np.array([0 for i in range(L)])\n",
    "for l in hm['layer_index']:\n",
    "    layer_size[hm['layer_index'][l]] = torch.numel(layers_to_quant[l][0].weight)"
   ]
  },
  {
   "cell_type": "code",
   "execution_count": 23,
   "id": "b50707a4",
   "metadata": {},
   "outputs": [],
   "source": [
    "layer_size\n",
    "tot_size =  layer_size.sum()"
   ]
  },
  {
   "cell_type": "code",
   "execution_count": 24,
   "id": "4bcd5187",
   "metadata": {},
   "outputs": [],
   "source": [
    "# initialize random variable v\n",
    "# use recitfied sigmoid h(v) to represent alpha\n",
    "# freg is 1-(1-2h(v))**beta, annealing beta to \n",
    "\n",
    "if not isinstance(cached_grad,torch.Tensor):\n",
    "    cached_grad = torch.Tensor(cached_grad)\n",
    "\n",
    "layer_size_tensor = torch.Tensor(layer_size)\n",
    "\n",
    "def lossfunc(v,beta,lambda1,lambda2,printInfo=False,naive=False,b=None):\n",
    "    alpha = (torch.sigmoid(v) * 1.2 - 0.1).clamp(0,1)\n",
    "    if not naive:\n",
    "        \n",
    "        outer_alpha = torch.outer(alpha,alpha)\n",
    "        netloss = torch.sum(outer_alpha * cached_grad)\n",
    "    else:\n",
    "        netloss = torch.sum(torch.diagonal(cached_grad) * alpha)\n",
    "            \n",
    "    regloss = torch.sum(1-(torch.abs(1-2*alpha))**beta)\n",
    "    regloss *= lambda1\n",
    "    \n",
    "    if b is None:\n",
    "        closs = -lambda2 * torch.sum(layer_size_tensor * alpha)\n",
    "    else:\n",
    "        closs = torch.sum(layer_size_tensor * alpha * 4) + torch.sum(layer_size_tensor * (1-alpha) * 8)\n",
    "        closs = torch.clamp(closs-b,0)\n",
    "        closs *= lambda2\n",
    "        \n",
    "    \n",
    "    totloss = netloss + regloss + closs\n",
    "    \n",
    "    if printInfo:\n",
    "        print(f'netloss {netloss.item():.4f} regloss {regloss.item():.4f}(beta={beta:.4f}) closs{closs.item():.4f}(constraint:{b})')\n",
    "        print('alpha:\\n',alpha)\n",
    "        \n",
    "    return totloss    \n",
    "    "
   ]
  },
  {
   "cell_type": "code",
   "execution_count": 25,
   "id": "04760381",
   "metadata": {},
   "outputs": [],
   "source": [
    "def optimize(n_iteration,lr,beta,lambda1,lambda2,b=None,naive=False):\n",
    "    \n",
    "    v = torch.nn.Parameter(torch.randn(L))\n",
    "    optim = torch.optim.Adam([v,],lr=lr)\n",
    "    bs = np.linspace(beta[0],beta[1],n_iteration)\n",
    "    \n",
    "    for i in range(n_iteration):\n",
    "        if i==0 or (i+1) % 1000 == 0:\n",
    "            printInfo = True\n",
    "            print(f'Iter {i+1}')\n",
    "        else:\n",
    "            printInfo = False\n",
    "            \n",
    "        optim.zero_grad()\n",
    "        loss = lossfunc(v,bs[i],lambda1,lambda2,printInfo=printInfo,b=b,naive=naive)\n",
    "        loss.backward()\n",
    "        optim.step()\n",
    "    \n",
    "    return v\n",
    "\n",
    "def evaluate_decision(v,printInfo=False):\n",
    "    v = v.detach()\n",
    "    v[v>0] = 1\n",
    "    v[v<0] = 0\n",
    "    \n",
    "    decision = []\n",
    "    for layer in hm['layer_index']:\n",
    "        if v[hm['layer_index'][layer]] > 0:\n",
    "            decision.append(layer)\n",
    "    \n",
    "    \n",
    "    #ploss = perturb_loss(decision,ref_metric,eval_data=test,printInfo=printInfo)\n",
    "    with torch.no_grad():\n",
    "        # perturb layers\n",
    "        for n in decision:\n",
    "            layers_to_quant[n][2].weight.data = layers_to_quant[n][1].weight.data\n",
    "        # do evaluation\n",
    "        res = evaluate(test,torch_perturb_model)\n",
    "        # recover layers\n",
    "        for n in decision:\n",
    "            layers_to_quant[n][2].weight.data = layers_to_quant[n][0].weight.data\n",
    "    \n",
    "    orig_size = 0\n",
    "    reduced_size = 0\n",
    "    for i in range(L):\n",
    "        orig_size += layer_size[i] * 8\n",
    "        reduced_size += layer_size[i] * 8 if v[i] == 0 else layer_size[i] * 4\n",
    "    if printInfo:\n",
    "        print('result of quantizing the following layers')\n",
    "        print(decision)\n",
    "        print(res)\n",
    "        print(f'8-bit model size {orig_size/8/1024/1024:.2f} MB')\n",
    "        print(f'MP model size {reduced_size/8/1024/1024:.2f} MB') \n",
    "    \n",
    "    return res,reduced_size/8/1024/1024"
   ]
  },
  {
   "cell_type": "code",
   "execution_count": null,
   "id": "04d858bb",
   "metadata": {},
   "outputs": [],
   "source": [
    "r = 0.6"
   ]
  },
  {
   "cell_type": "code",
   "execution_count": null,
   "id": "2ccad800",
   "metadata": {},
   "outputs": [],
   "source": [
    "tot_size * 8 * r, tot_size /1024/1024 * r"
   ]
  },
  {
   "cell_type": "code",
   "execution_count": null,
   "id": "ef4783a1",
   "metadata": {
    "scrolled": true
   },
   "outputs": [],
   "source": [
    "v = optimize(n_iteration=5000,lr=1e-3,beta=[20,2],lambda1=1e-3,lambda2=5e-8,naive=False,b=tot_size * 8 * r)"
   ]
  },
  {
   "cell_type": "code",
   "execution_count": null,
   "id": "cf97384a",
   "metadata": {},
   "outputs": [],
   "source": [
    "evaluate_decision(v)"
   ]
  },
  {
   "cell_type": "code",
   "execution_count": null,
   "id": "fa2f91e3",
   "metadata": {
    "scrolled": true
   },
   "outputs": [],
   "source": [
    "v = optimize(n_iteration=10000,lr=2e-3,beta=[20,2],lambda1=0,lambda2=0,naive=True)"
   ]
  },
  {
   "cell_type": "code",
   "execution_count": null,
   "id": "36728f57",
   "metadata": {},
   "outputs": [],
   "source": [
    "evaluate_decision(v)"
   ]
  },
  {
   "cell_type": "markdown",
   "id": "f242b9d1",
   "metadata": {},
   "source": [
    "## Random MPQ"
   ]
  },
  {
   "cell_type": "code",
   "execution_count": 69,
   "id": "1c568ca9",
   "metadata": {},
   "outputs": [],
   "source": [
    "# random_size = []\n",
    "# random_acc = []\n",
    "for i in range(500):\n",
    "    v = torch.randn(L)\n",
    "    res,size = evaluate_decision(v)\n",
    "    random_size.append(size)\n",
    "    random_acc.append(res['mean_acc'])"
   ]
  },
  {
   "cell_type": "code",
   "execution_count": 31,
   "id": "fd4da697",
   "metadata": {},
   "outputs": [
    {
     "data": {
      "text/plain": [
       "([0.5525360107421875,\n",
       "  0.6884994506835938,\n",
       "  0.5667343139648438,\n",
       "  0.6139984130859375,\n",
       "  0.6052703857421875,\n",
       "  0.6062240600585938,\n",
       "  0.6570281982421875,\n",
       "  0.6274871826171875,\n",
       "  0.6028900146484375,\n",
       "  0.5726776123046875,\n",
       "  0.6190414428710938,\n",
       "  0.5734481811523438,\n",
       "  0.6064910888671875,\n",
       "  0.6416854858398438,\n",
       "  0.6559295654296875,\n",
       "  0.6001434326171875,\n",
       "  0.5703582763671875,\n",
       "  0.6238861083984375,\n",
       "  0.6282577514648438,\n",
       "  0.5379486083984375,\n",
       "  0.5426864624023438,\n",
       "  0.6476058959960938,\n",
       "  0.6846160888671875,\n",
       "  0.5622787475585938,\n",
       "  0.6578598022460938,\n",
       "  0.5973968505859375,\n",
       "  0.5984725952148438,\n",
       "  0.6413803100585938,\n",
       "  0.6251068115234375,\n",
       "  0.5534286499023438,\n",
       "  0.5831527709960938,\n",
       "  0.6311264038085938,\n",
       "  0.6416854858398438,\n",
       "  0.6447601318359375,\n",
       "  0.6757431030273438,\n",
       "  0.6324310302734375,\n",
       "  0.5937728881835938,\n",
       "  0.6346664428710938,\n",
       "  0.6142196655273438,\n",
       "  0.6064910888671875,\n",
       "  0.5968475341796875,\n",
       "  0.6825408935546875,\n",
       "  0.6121063232421875,\n",
       "  0.5844345092773438,\n",
       "  0.6116561889648438,\n",
       "  0.5700302124023438,\n",
       "  0.6125717163085938,\n",
       "  0.6230087280273438,\n",
       "  0.6030120849609375,\n",
       "  0.6107635498046875,\n",
       "  0.5579452514648438,\n",
       "  0.5986785888671875,\n",
       "  0.6437835693359375,\n",
       "  0.5543441772460938,\n",
       "  0.6140975952148438,\n",
       "  0.5778656005859375,\n",
       "  0.5710678100585938,\n",
       "  0.6226425170898438,\n",
       "  0.6500473022460938,\n",
       "  0.6459197998046875,\n",
       "  0.6132049560546875,\n",
       "  0.6404876708984375,\n",
       "  0.6150131225585938,\n",
       "  0.5944442749023438,\n",
       "  0.5774154663085938,\n",
       "  0.6085662841796875,\n",
       "  0.6624374389648438,\n",
       "  0.5977020263671875,\n",
       "  0.6765365600585938,\n",
       "  0.5612411499023438,\n",
       "  0.5275115966796875,\n",
       "  0.6175155639648438,\n",
       "  0.6051864624023438,\n",
       "  0.6152801513671875,\n",
       "  0.6495819091796875,\n",
       "  0.6031341552734375,\n",
       "  0.6284637451171875,\n",
       "  0.5790634155273438,\n",
       "  0.5865936279296875,\n",
       "  0.5886077880859375,\n",
       "  0.6008758544921875,\n",
       "  0.6281356811523438,\n",
       "  0.5976181030273438,\n",
       "  0.6292343139648438,\n",
       "  0.6289291381835938,\n",
       "  0.5050888061523438,\n",
       "  0.6205062866210938,\n",
       "  0.5680770874023438,\n",
       "  0.4866790771484375,\n",
       "  0.6503524780273438,\n",
       "  0.6626434326171875,\n",
       "  0.5821380615234375,\n",
       "  0.5649871826171875,\n",
       "  0.5758514404296875,\n",
       "  0.6070785522460938,\n",
       "  0.6469573974609375,\n",
       "  0.5921249389648438,\n",
       "  0.6698226928710938,\n",
       "  0.5977020263671875,\n",
       "  0.6135482788085938,\n",
       "  0.6031951904296875,\n",
       "  0.5984954833984375,\n",
       "  0.6687240600585938,\n",
       "  0.5576400756835938,\n",
       "  0.5401840209960938,\n",
       "  0.6208114624023438,\n",
       "  0.5604705810546875,\n",
       "  0.6589202880859375,\n",
       "  0.5589218139648438,\n",
       "  0.5921478271484375,\n",
       "  0.5560760498046875,\n",
       "  0.6593475341796875,\n",
       "  0.6227874755859375,\n",
       "  0.5851058959960938,\n",
       "  0.6424179077148438,\n",
       "  0.6666488647460938,\n",
       "  0.5622177124023438,\n",
       "  0.6063690185546875,\n",
       "  0.5757293701171875,\n",
       "  0.6569061279296875,\n",
       "  0.6328582763671875,\n",
       "  0.6193695068359375,\n",
       "  0.6648406982421875,\n",
       "  0.5785980224609375,\n",
       "  0.6051254272460938,\n",
       "  0.6128768920898438,\n",
       "  0.6064910888671875,\n",
       "  0.5811614990234375,\n",
       "  0.5677337646484375,\n",
       "  0.6105804443359375,\n",
       "  0.6532211303710938,\n",
       "  0.6102523803710938,\n",
       "  0.6146469116210938,\n",
       "  0.6061019897460938,\n",
       "  0.6394500732421875,\n",
       "  0.6053924560546875,\n",
       "  0.6509017944335938,\n",
       "  0.5962142944335938,\n",
       "  0.5744476318359375,\n",
       "  0.6069564819335938,\n",
       "  0.5889511108398438,\n",
       "  0.6272430419921875,\n",
       "  0.5962982177734375,\n",
       "  0.6204681396484375,\n",
       "  0.6269760131835938,\n",
       "  0.6011199951171875,\n",
       "  0.5907821655273438,\n",
       "  0.6135482788085938,\n",
       "  0.5470809936523438,\n",
       "  0.6161727905273438,\n",
       "  0.6260833740234375,\n",
       "  0.6148529052734375,\n",
       "  0.6039657592773438,\n",
       "  0.6082992553710938,\n",
       "  0.6347503662109375,\n",
       "  0.5885848999023438,\n",
       "  0.5242156982421875,\n",
       "  0.5783920288085938,\n",
       "  0.5750961303710938,\n",
       "  0.6513290405273438,\n",
       "  0.5293807983398438,\n",
       "  0.7010116577148438,\n",
       "  0.5577621459960938,\n",
       "  0.6008758544921875,\n",
       "  0.6587982177734375,\n",
       "  0.5929183959960938,\n",
       "  0.5576400756835938,\n",
       "  0.6488265991210938,\n",
       "  0.6097869873046875,\n",
       "  0.6415634155273438,\n",
       "  0.5745697021484375,\n",
       "  0.5952987670898438,\n",
       "  0.6236419677734375,\n",
       "  0.6063690185546875,\n",
       "  0.5734481811523438,\n",
       "  0.5756454467773438,\n",
       "  0.6362762451171875,\n",
       "  0.6175994873046875,\n",
       "  0.5797958374023438,\n",
       "  0.5525741577148438,\n",
       "  0.6028671264648438,\n",
       "  0.6594696044921875,\n",
       "  0.5805892944335938,\n",
       "  0.6126556396484375,\n",
       "  0.6446380615234375,\n",
       "  0.6140975952148438,\n",
       "  0.6138534545898438,\n",
       "  0.5922470092773438,\n",
       "  0.5346908569335938,\n",
       "  0.6149749755859375,\n",
       "  0.6391220092773438,\n",
       "  0.5767059326171875,\n",
       "  0.5851898193359375,\n",
       "  0.6171722412109375,\n",
       "  0.5912322998046875,\n",
       "  0.6537322998046875,\n",
       "  0.6137542724609375,\n",
       "  0.6103744506835938,\n",
       "  0.6633148193359375,\n",
       "  0.6350555419921875,\n",
       "  0.6154022216796875,\n",
       "  0.6213607788085938,\n",
       "  0.5955429077148438,\n",
       "  0.5601425170898438,\n",
       "  0.5933456420898438,\n",
       "  0.6689910888671875,\n",
       "  0.6043319702148438,\n",
       "  0.5920867919921875,\n",
       "  0.6325912475585938,\n",
       "  0.5832977294921875,\n",
       "  0.6247787475585938,\n",
       "  0.5789642333984375,\n",
       "  0.6545028686523438,\n",
       "  0.6501693725585938,\n",
       "  0.5708236694335938,\n",
       "  0.5931015014648438,\n",
       "  0.6302719116210938,\n",
       "  0.6547088623046875,\n",
       "  0.6509017944335938,\n",
       "  0.6228866577148438,\n",
       "  0.6027679443359375,\n",
       "  0.5520248413085938,\n",
       "  0.5778427124023438,\n",
       "  0.5465316772460938,\n",
       "  0.5942840576171875,\n",
       "  0.6151962280273438,\n",
       "  0.6385955810546875,\n",
       "  0.5742416381835938,\n",
       "  0.5845565795898438,\n",
       "  0.6175994873046875,\n",
       "  0.6274871826171875,\n",
       "  0.6492156982421875,\n",
       "  0.6799774169921875,\n",
       "  0.6329803466796875,\n",
       "  0.6316757202148438,\n",
       "  0.6017074584960938,\n",
       "  0.5833587646484375,\n",
       "  0.5862045288085938,\n",
       "  0.6369247436523438,\n",
       "  0.6128997802734375,\n",
       "  0.6020355224609375,\n",
       "  0.6260833740234375,\n",
       "  0.6313323974609375,\n",
       "  0.6766815185546875,\n",
       "  0.6126937866210938,\n",
       "  0.6291732788085938,\n",
       "  0.5307235717773438,\n",
       "  0.6800994873046875,\n",
       "  0.6072845458984375,\n",
       "  0.5942001342773438],\n",
       " [0.9112,\n",
       "  0.9366,\n",
       "  0.9283,\n",
       "  0.93,\n",
       "  0.9295,\n",
       "  0.9306,\n",
       "  0.9213,\n",
       "  0.9361,\n",
       "  0.9225,\n",
       "  0.9331,\n",
       "  0.9261,\n",
       "  0.9266,\n",
       "  0.9172,\n",
       "  0.9295,\n",
       "  0.92,\n",
       "  0.9268,\n",
       "  0.9253,\n",
       "  0.9343,\n",
       "  0.9071,\n",
       "  0.917,\n",
       "  0.9268,\n",
       "  0.9121,\n",
       "  0.9383,\n",
       "  0.9324,\n",
       "  0.9397,\n",
       "  0.9252,\n",
       "  0.927,\n",
       "  0.9348,\n",
       "  0.9349,\n",
       "  0.928,\n",
       "  0.9315,\n",
       "  0.9186,\n",
       "  0.9262,\n",
       "  0.939,\n",
       "  0.9379,\n",
       "  0.9269,\n",
       "  0.9326,\n",
       "  0.9372,\n",
       "  0.9246,\n",
       "  0.9194,\n",
       "  0.9268,\n",
       "  0.9379,\n",
       "  0.9307,\n",
       "  0.9336,\n",
       "  0.9142,\n",
       "  0.9101,\n",
       "  0.9269,\n",
       "  0.9323,\n",
       "  0.9389,\n",
       "  0.9237,\n",
       "  0.9245,\n",
       "  0.9178,\n",
       "  0.9334,\n",
       "  0.9121,\n",
       "  0.9298,\n",
       "  0.9293,\n",
       "  0.9303,\n",
       "  0.9258,\n",
       "  0.9325,\n",
       "  0.9287,\n",
       "  0.9265,\n",
       "  0.9256,\n",
       "  0.9348,\n",
       "  0.9201,\n",
       "  0.9302,\n",
       "  0.9267,\n",
       "  0.9317,\n",
       "  0.9365,\n",
       "  0.935,\n",
       "  0.9125,\n",
       "  0.9284,\n",
       "  0.9365,\n",
       "  0.9265,\n",
       "  0.9165,\n",
       "  0.9306,\n",
       "  0.9304,\n",
       "  0.9204,\n",
       "  0.9353,\n",
       "  0.926,\n",
       "  0.9285,\n",
       "  0.9216,\n",
       "  0.9171,\n",
       "  0.9288,\n",
       "  0.9179,\n",
       "  0.9313,\n",
       "  0.9321,\n",
       "  0.9287,\n",
       "  0.9198,\n",
       "  0.9191,\n",
       "  0.9329,\n",
       "  0.9364,\n",
       "  0.9311,\n",
       "  0.9279,\n",
       "  0.9306,\n",
       "  0.9145,\n",
       "  0.9372,\n",
       "  0.9341,\n",
       "  0.932,\n",
       "  0.9268,\n",
       "  0.9259,\n",
       "  0.919,\n",
       "  0.9226,\n",
       "  0.9339,\n",
       "  0.9097,\n",
       "  0.9259,\n",
       "  0.9349,\n",
       "  0.9297,\n",
       "  0.9197,\n",
       "  0.9313,\n",
       "  0.9245,\n",
       "  0.9267,\n",
       "  0.9351,\n",
       "  0.9397,\n",
       "  0.9168,\n",
       "  0.9336,\n",
       "  0.9294,\n",
       "  0.9223,\n",
       "  0.924,\n",
       "  0.9117,\n",
       "  0.9244,\n",
       "  0.9193,\n",
       "  0.9214,\n",
       "  0.9269,\n",
       "  0.9188,\n",
       "  0.9248,\n",
       "  0.9235,\n",
       "  0.9311,\n",
       "  0.9331,\n",
       "  0.9121,\n",
       "  0.9264,\n",
       "  0.9251,\n",
       "  0.9252,\n",
       "  0.9124,\n",
       "  0.9316,\n",
       "  0.9183,\n",
       "  0.9215,\n",
       "  0.9218,\n",
       "  0.9268,\n",
       "  0.9329,\n",
       "  0.9212,\n",
       "  0.931,\n",
       "  0.9285,\n",
       "  0.9153,\n",
       "  0.9155,\n",
       "  0.929,\n",
       "  0.9272,\n",
       "  0.9253,\n",
       "  0.9177,\n",
       "  0.9267,\n",
       "  0.9179,\n",
       "  0.9334,\n",
       "  0.9265,\n",
       "  0.932,\n",
       "  0.929,\n",
       "  0.9311,\n",
       "  0.9254,\n",
       "  0.926,\n",
       "  0.9146,\n",
       "  0.9139,\n",
       "  0.9279,\n",
       "  0.9206,\n",
       "  0.9363,\n",
       "  0.9307,\n",
       "  0.9281,\n",
       "  0.9213,\n",
       "  0.9285,\n",
       "  0.9269,\n",
       "  0.9343,\n",
       "  0.9151,\n",
       "  0.9399,\n",
       "  0.9317,\n",
       "  0.9043,\n",
       "  0.9166,\n",
       "  0.9253,\n",
       "  0.928,\n",
       "  0.931,\n",
       "  0.9338,\n",
       "  0.9297,\n",
       "  0.9283,\n",
       "  0.9291,\n",
       "  0.9254,\n",
       "  0.9325,\n",
       "  0.9122,\n",
       "  0.9225,\n",
       "  0.9216,\n",
       "  0.9264,\n",
       "  0.9269,\n",
       "  0.9282,\n",
       "  0.9223,\n",
       "  0.9151,\n",
       "  0.9288,\n",
       "  0.9185,\n",
       "  0.9137,\n",
       "  0.918,\n",
       "  0.9326,\n",
       "  0.9288,\n",
       "  0.9297,\n",
       "  0.9286,\n",
       "  0.9259,\n",
       "  0.927,\n",
       "  0.929,\n",
       "  0.9327,\n",
       "  0.9254,\n",
       "  0.9194,\n",
       "  0.9322,\n",
       "  0.9244,\n",
       "  0.9221,\n",
       "  0.9155,\n",
       "  0.9295,\n",
       "  0.9326,\n",
       "  0.927,\n",
       "  0.9263,\n",
       "  0.9321,\n",
       "  0.9303,\n",
       "  0.9194,\n",
       "  0.9234,\n",
       "  0.9338,\n",
       "  0.929,\n",
       "  0.9309,\n",
       "  0.9346,\n",
       "  0.9194,\n",
       "  0.9187,\n",
       "  0.9257,\n",
       "  0.9238,\n",
       "  0.9298,\n",
       "  0.9303,\n",
       "  0.9326,\n",
       "  0.9306,\n",
       "  0.9279,\n",
       "  0.9321,\n",
       "  0.9346,\n",
       "  0.9309,\n",
       "  0.9327,\n",
       "  0.937,\n",
       "  0.9314,\n",
       "  0.9288,\n",
       "  0.9321,\n",
       "  0.9237,\n",
       "  0.9258,\n",
       "  0.9378,\n",
       "  0.9316,\n",
       "  0.9356,\n",
       "  0.9247,\n",
       "  0.9288,\n",
       "  0.9319,\n",
       "  0.9343,\n",
       "  0.9232,\n",
       "  0.9342,\n",
       "  0.9149,\n",
       "  0.9201])"
      ]
     },
     "execution_count": 31,
     "metadata": {},
     "output_type": "execute_result"
    }
   ],
   "source": [
    "random_size,random_acc"
   ]
  },
  {
   "cell_type": "code",
   "execution_count": 79,
   "id": "c18de513",
   "metadata": {},
   "outputs": [],
   "source": [
    "with open('resnet56_random_baseline.pkl','wb') as f:\n",
    "    pickle.dump({'size':random_size,'acc':random_acc},f)\n",
    "    "
   ]
  },
  {
   "cell_type": "code",
   "execution_count": 80,
   "id": "61085bf8",
   "metadata": {},
   "outputs": [
    {
     "data": {
      "text/plain": [
       "(array([  2.,  11.,  36.,  76., 139., 174., 163.,  87.,  51.,  11.]),\n",
       " array([0.48667908, 0.50862503, 0.53057098, 0.55251694, 0.57446289,\n",
       "        0.59640884, 0.6183548 , 0.64030075, 0.6622467 , 0.68419266,\n",
       "        0.70613861]),\n",
       " <BarContainer object of 10 artists>)"
      ]
     },
     "execution_count": 80,
     "metadata": {},
     "output_type": "execute_result"
    },
    {
     "data": {
      "image/png": "[encoded data removed]",
      "text/plain": [
       "<Figure size 864x576 with 1 Axes>"
      ]
     },
     "metadata": {
      "needs_background": "light"
     },
     "output_type": "display_data"
    }
   ],
   "source": [
    "plt.hist(random_size)"
   ]
  },
  {
   "cell_type": "markdown",
   "id": "50d354c4",
   "metadata": {},
   "source": [
    "## Pareto-Frontier of FeintLady vs Inter-Layer Dependency Unaware Optimization (Naive)"
   ]
  },
  {
   "cell_type": "code",
   "execution_count": null,
   "id": "8f48f9eb",
   "metadata": {
    "scrolled": true
   },
   "outputs": [],
   "source": [
    "# fix lambda1 to 1e-3\n",
    "# search lambda2 from 1e-5 to 1e-10\n",
    "# each HP (lambda2) try 5 runs\n",
    "\n",
    "lambda2s = np.logspace(-5,-10,50) #lambda1=1e-3,n=5000,lr=1e-3,beta=[20,2] for resnet20 on cifar10\n",
    "lambda2s = np.logspace(-5,-10,50) #lambda1=1e-1,n=5000,lr=1e-3,beta=[20,2] for resnet20 on cifar100\n",
    "sample_size = 5\n",
    "naive_loss,naive_size = [],[]\n",
    "feint_loss,feint_size = [],[]\n",
    "\n",
    "for lambda2 in lambda2s:\n",
    "    print('lambda2:',lambda2)\n",
    "    for repeat in range(sample_size):\n",
    "        v = optimize(n_iteration=5000,lr=1e-3,beta=[20,2],lambda1=1e-1,lambda2=lambda2,naive=True)\n",
    "        perf,size = evaluate_decision(v)\n",
    "        naive_loss.append(perf)\n",
    "        naive_size.append(size)\n",
    "\n",
    "        v = optimize(n_iteration=5000,lr=1e-3,beta=[20,2],lambda1=1e-1,lambda2=lambda2,naive=False)\n",
    "        perf,size = evaluate_decision(v)\n",
    "        feint_loss.append(perf)\n",
    "        feint_size.append(size)"
   ]
  },
  {
   "cell_type": "code",
   "execution_count": null,
   "id": "f12da08b",
   "metadata": {},
   "outputs": [],
   "source": [
    "naive_size = np.array(naive_size)\n",
    "feint_size = np.array(feint_size)\n",
    "naive_acc = [naive_loss[i]['mean_acc'] for i in range(len(naive_loss))]\n",
    "feint_acc = [feint_loss[i]['mean_acc'] for i in range(len(feint_loss))]"
   ]
  },
  {
   "cell_type": "code",
   "execution_count": null,
   "id": "e708cbb1",
   "metadata": {},
   "outputs": [],
   "source": [
    "with open('c100resnet56scatterplot.pkl','wb') as f:\n",
    "    pickle.dump({'naive_size':naive_size,'naive_acc':naive_acc,\n",
    "                 'feint_size':feint_size,'feint_acc':feint_acc},f)\n",
    "    "
   ]
  },
  {
   "cell_type": "code",
   "execution_count": null,
   "id": "aa465467",
   "metadata": {},
   "outputs": [],
   "source": [
    "plt.scatter(naive_size,naive_acc,color='red',alpha=0.5,label='Inter-Layer Depedency Unaware Optimization')\n",
    "plt.scatter(feint_size,feint_acc,color='blue',alpha=0.5,label='FeintLady Optimization')\n",
    "plt.xlabel('Hardware cost')\n",
    "plt.ylabel('Performance')\n",
    "plt.legend()\n",
    "# plt.imshow(X_std,cmap='hot')\n",
    "# plt.xlabel('layer index')\n",
    "# plt.ylabel('layer index')\n",
    "plt.savefig('c100resnet56FeintEffecacy.pdf',transparent=True, bbox_inches='tight', pad_inches=0)"
   ]
  },
  {
   "cell_type": "code",
   "execution_count": null,
   "id": "c2a211db",
   "metadata": {},
   "outputs": [],
   "source": [
    "plt.scatter(naive_size,naive_acc,color='red',alpha=0.5,label='naive')\n",
    "# plt.scatter(naive_size,naive_acc,color='blue',alpha=0.5,label='feint')\n",
    "plt.xlabel('hardware cost')\n",
    "plt.ylabel('performance')\n",
    "plt.legend()\n",
    "plt.show()"
   ]
  },
  {
   "cell_type": "markdown",
   "id": "d1fc8630",
   "metadata": {},
   "source": [
    "## Visualization"
   ]
  },
  {
   "cell_type": "code",
   "execution_count": 66,
   "id": "d8252488",
   "metadata": {},
   "outputs": [],
   "source": [
    "import pickle\n",
    "import numpy as np\n",
    "import matplotlib.pyplot as plt\n",
    "\n",
    "# fname = 'result_cifar100_shufflenetv2_x2_0_mode0_useaccFalse.pkl'\n",
    "# with open(fname,'rb') as f:\n",
    "#     res_sfn = pickle.load(f)\n",
    "    \n",
    "fname = 'result_cifar10_mobilenetv2_x1_4_mode0_useaccFalse.pkl'\n",
    "with open(fname,'rb') as f:\n",
    "    res_mbn = pickle.load(f)\n",
    "\n",
    "fname = 'result_cifar10_resnet56_mode0_useaccFalse.pkl'\n",
    "with open(fname,'rb') as f:\n",
    "    res_rsn = pickle.load(f)"
   ]
  },
  {
   "cell_type": "code",
   "execution_count": 38,
   "id": "6f52e748",
   "metadata": {},
   "outputs": [
    {
     "name": "stdout",
     "output_type": "stream",
     "text": [
      "naive_size\n",
      "naive_acc\n",
      "feint_size\n",
      "feint_acc\n",
      "config\n"
     ]
    }
   ],
   "source": [
    "for k in res_mbn: print(k)"
   ]
  },
  {
   "cell_type": "code",
   "execution_count": 39,
   "id": "72cbf308",
   "metadata": {},
   "outputs": [],
   "source": [
    "def getPF_(xs,ys,mode='max',roundtoprecision=1):\n",
    "    pf = {}\n",
    "    for x,y in zip(xs,ys):\n",
    "        new_x = round(x,roundtoprecision)\n",
    "        if new_x in pf:\n",
    "            pf[new_x] = eval(mode)(pf[new_x],y)\n",
    "        else:\n",
    "            pf[new_x] = y\n",
    "    \n",
    "    pf_x,pf_y = [],[]\n",
    "    \n",
    "    for x in pf:\n",
    "        pf_x.append(x)\n",
    "        pf_y.append(pf[x])\n",
    "    \n",
    "    pf_x, pf_y = np.array(pf_x),np.array(pf_y)\n",
    "    \n",
    "    return pf_x,pf_y\n",
    "\n",
    "def getPF(xs,ys):\n",
    "    xs = np.array(xs)\n",
    "    ys = np.array(ys)\n",
    "    \n",
    "    order = np.argsort(xs)\n",
    "    \n",
    "    xs = xs[order]\n",
    "    ys = ys[order]\n",
    "    \n",
    "    cur_max = -1\n",
    "    for i in range(ys.shape[0]):\n",
    "        if ys[i] > cur_max:\n",
    "            cur_max = ys[i]\n",
    "        ys[i] = cur_max\n",
    "    \n",
    "    return xs,ys\n",
    "        "
   ]
  },
  {
   "cell_type": "code",
   "execution_count": 67,
   "id": "5de56442",
   "metadata": {},
   "outputs": [],
   "source": [
    "x_1_mbn,y_1_mbn = getPF(res_mbn['naive_size'],res_mbn['naive_acc'])\n",
    "x_2_mbn,y_2_mbn = getPF(res_mbn['feint_size'],res_mbn['feint_acc'])\n",
    "\n",
    "# x_1_sfn,y_1_sfn = getPF(res_sfn['naive_size'],res_sfn['naive_acc'])\n",
    "# x_2_sfn,y_2_sfn = getPF(res_sfn['feint_size'],res_sfn['feint_acc'])\n",
    "\n",
    "x_1_rsn,y_1_rsn = getPF(res_rsn['naive_size'],res_rsn['naive_acc'])\n",
    "x_2_rsn,y_2_rsn = getPF(res_rsn['feint_size'],res_rsn['feint_acc'])\n",
    "\n",
    "x_random,y_random = getPF(random_size,random_acc)"
   ]
  },
  {
   "cell_type": "code",
   "execution_count": 77,
   "id": "c8529a24",
   "metadata": {},
   "outputs": [
    {
     "data": {
      "image/png": "[encoded data removed]",
      "text/plain": [
       "<Figure size 864x576 with 1 Axes>"
      ]
     },
     "metadata": {
      "needs_background": "light"
     },
     "output_type": "display_data"
    }
   ],
   "source": [
    "# plt.rcParams['figure.figsize'] = (12,8)\n",
    "\n",
    "plt.scatter(res_rsn['naive_size'][:],res_rsn['naive_acc'][:],color='red',\n",
    "            marker='o',s=20,alpha=0.5,label='Cross-layer Gradients Used')\n",
    "plt.scatter(res_rsn['feint_size'][:],res_rsn['feint_acc'][:],color='blue',\n",
    "            marker='o',s=20,alpha=0.5,label='Cross-layer Gradients Ignored')\n",
    "\n",
    "plt.scatter(random_size,random_acc,color='black',marker='o',s=20,alpha=0.5,\n",
    "            label='Random Guess')\n",
    "plt.xticks(fontsize=15)\n",
    "plt.yticks(fontsize=15)\n",
    "plt.xlabel('Hardware Cost (Model Size in MB)',fontsize=20)\n",
    "plt.ylabel('Performance (Accuracy)',fontsize=20)\n",
    "plt.legend()\n",
    "plt.savefig('c10resnet.pdf',transparent=True, bbox_inches='tight', pad_inches=0)"
   ]
  },
  {
   "cell_type": "code",
   "execution_count": 63,
   "id": "c17867e0",
   "metadata": {},
   "outputs": [
    {
     "data": {
      "text/plain": [
       "[(0.001, 1e-05),\n",
       " (0.001, 1e-05),\n",
       " (0.001, 1e-05),\n",
       " (0.001, 1e-05),\n",
       " (0.001, 1e-05),\n",
       " (0.001, 7.906043210907702e-06),\n",
       " (0.001, 7.906043210907702e-06),\n",
       " (0.001, 7.906043210907702e-06),\n",
       " (0.001, 7.906043210907702e-06),\n",
       " (0.001, 7.906043210907702e-06),\n",
       " (0.001, 6.250551925273976e-06),\n",
       " (0.001, 6.250551925273976e-06),\n",
       " (0.001, 6.250551925273976e-06),\n",
       " (0.001, 6.250551925273976e-06),\n",
       " (0.001, 6.250551925273976e-06),\n",
       " (0.001, 4.941713361323839e-06),\n",
       " (0.001, 4.941713361323839e-06),\n",
       " (0.001, 4.941713361323839e-06),\n",
       " (0.001, 4.941713361323839e-06),\n",
       " (0.001, 4.941713361323839e-06),\n",
       " (0.001, 3.906939937054621e-06),\n",
       " (0.001, 3.906939937054621e-06),\n",
       " (0.001, 3.906939937054621e-06),\n",
       " (0.001, 3.906939937054621e-06),\n",
       " (0.001, 3.906939937054621e-06),\n",
       " (0.001, 3.0888435964774785e-06),\n",
       " (0.001, 3.0888435964774785e-06),\n",
       " (0.001, 3.0888435964774785e-06),\n",
       " (0.001, 3.0888435964774785e-06),\n",
       " (0.001, 3.0888435964774785e-06),\n",
       " (0.001, 2.4420530945486497e-06),\n",
       " (0.001, 2.4420530945486497e-06),\n",
       " (0.001, 2.4420530945486497e-06),\n",
       " (0.001, 2.4420530945486497e-06),\n",
       " (0.001, 2.4420530945486497e-06),\n",
       " (0.001, 1.9306977288832498e-06),\n",
       " (0.001, 1.9306977288832498e-06),\n",
       " (0.001, 1.9306977288832498e-06),\n",
       " (0.001, 1.9306977288832498e-06),\n",
       " (0.001, 1.9306977288832498e-06),\n",
       " (0.001, 1.5264179671752333e-06),\n",
       " (0.001, 1.5264179671752333e-06),\n",
       " (0.001, 1.5264179671752333e-06),\n",
       " (0.001, 1.5264179671752333e-06),\n",
       " (0.001, 1.5264179671752333e-06),\n",
       " (0.001, 1.2067926406393288e-06),\n",
       " (0.001, 1.2067926406393288e-06),\n",
       " (0.001, 1.2067926406393288e-06),\n",
       " (0.001, 1.2067926406393288e-06),\n",
       " (0.001, 1.2067926406393288e-06),\n",
       " (0.001, 9.540954763499944e-07),\n",
       " (0.001, 9.540954763499944e-07),\n",
       " (0.001, 9.540954763499944e-07),\n",
       " (0.001, 9.540954763499944e-07),\n",
       " (0.001, 9.540954763499944e-07),\n",
       " (0.001, 7.543120063354607e-07),\n",
       " (0.001, 7.543120063354607e-07),\n",
       " (0.001, 7.543120063354607e-07),\n",
       " (0.001, 7.543120063354607e-07),\n",
       " (0.001, 7.543120063354607e-07),\n",
       " (0.001, 5.963623316594636e-07),\n",
       " (0.001, 5.963623316594636e-07),\n",
       " (0.001, 5.963623316594636e-07),\n",
       " (0.001, 5.963623316594636e-07),\n",
       " (0.001, 5.963623316594636e-07),\n",
       " (0.001, 4.7148663634573897e-07),\n",
       " (0.001, 4.7148663634573897e-07),\n",
       " (0.001, 4.7148663634573897e-07),\n",
       " (0.001, 4.7148663634573897e-07),\n",
       " (0.001, 4.7148663634573897e-07),\n",
       " (0.001, 3.727593720314938e-07),\n",
       " (0.001, 3.727593720314938e-07),\n",
       " (0.001, 3.727593720314938e-07),\n",
       " (0.001, 3.727593720314938e-07),\n",
       " (0.001, 3.727593720314938e-07),\n",
       " (0.001, 2.94705170255181e-07),\n",
       " (0.001, 2.94705170255181e-07),\n",
       " (0.001, 2.94705170255181e-07),\n",
       " (0.001, 2.94705170255181e-07),\n",
       " (0.001, 2.94705170255181e-07),\n",
       " (0.001, 2.329951810515372e-07),\n",
       " (0.001, 2.329951810515372e-07),\n",
       " (0.001, 2.329951810515372e-07),\n",
       " (0.001, 2.329951810515372e-07),\n",
       " (0.001, 2.329951810515372e-07),\n",
       " (0.001, 1.8420699693267165e-07),\n",
       " (0.001, 1.8420699693267165e-07),\n",
       " (0.001, 1.8420699693267165e-07),\n",
       " (0.001, 1.8420699693267165e-07),\n",
       " (0.001, 1.8420699693267165e-07),\n",
       " (0.001, 1.4563484775012443e-07),\n",
       " (0.001, 1.4563484775012443e-07),\n",
       " (0.001, 1.4563484775012443e-07),\n",
       " (0.001, 1.4563484775012443e-07),\n",
       " (0.001, 1.4563484775012443e-07),\n",
       " (0.001, 1.1513953993264481e-07),\n",
       " (0.001, 1.1513953993264481e-07),\n",
       " (0.001, 1.1513953993264481e-07),\n",
       " (0.001, 1.1513953993264481e-07),\n",
       " (0.001, 1.1513953993264481e-07),\n",
       " (0.001, 9.102981779915227e-08),\n",
       " (0.001, 9.102981779915227e-08),\n",
       " (0.001, 9.102981779915227e-08),\n",
       " (0.001, 9.102981779915227e-08),\n",
       " (0.001, 9.102981779915227e-08),\n",
       " (0.001, 7.196856730011529e-08),\n",
       " (0.001, 7.196856730011529e-08),\n",
       " (0.001, 7.196856730011529e-08),\n",
       " (0.001, 7.196856730011529e-08),\n",
       " (0.001, 7.196856730011529e-08),\n",
       " (0.001, 5.689866029018293e-08),\n",
       " (0.001, 5.689866029018293e-08),\n",
       " (0.001, 5.689866029018293e-08),\n",
       " (0.001, 5.689866029018293e-08),\n",
       " (0.001, 5.689866029018293e-08),\n",
       " (0.001, 4.498432668969444e-08),\n",
       " (0.001, 4.498432668969444e-08),\n",
       " (0.001, 4.498432668969444e-08),\n",
       " (0.001, 4.498432668969444e-08),\n",
       " (0.001, 4.498432668969444e-08),\n",
       " (0.001, 3.556480306223129e-08),\n",
       " (0.001, 3.556480306223129e-08),\n",
       " (0.001, 3.556480306223129e-08),\n",
       " (0.001, 3.556480306223129e-08),\n",
       " (0.001, 3.556480306223129e-08),\n",
       " (0.001, 2.8117686979742307e-08),\n",
       " (0.001, 2.8117686979742307e-08),\n",
       " (0.001, 2.8117686979742307e-08),\n",
       " (0.001, 2.8117686979742307e-08),\n",
       " (0.001, 2.8117686979742307e-08),\n",
       " (0.001, 2.2229964825261957e-08),\n",
       " (0.001, 2.2229964825261957e-08),\n",
       " (0.001, 2.2229964825261957e-08),\n",
       " (0.001, 2.2229964825261957e-08),\n",
       " (0.001, 2.2229964825261957e-08),\n",
       " (0.001, 1.7575106248547893e-08),\n",
       " (0.001, 1.7575106248547893e-08),\n",
       " (0.001, 1.7575106248547893e-08),\n",
       " (0.001, 1.7575106248547893e-08),\n",
       " (0.001, 1.7575106248547893e-08),\n",
       " (0.001, 1.389495494373136e-08),\n",
       " (0.001, 1.389495494373136e-08),\n",
       " (0.001, 1.389495494373136e-08),\n",
       " (0.001, 1.389495494373136e-08),\n",
       " (0.001, 1.389495494373136e-08),\n",
       " (0.001, 1.0985411419875573e-08),\n",
       " (0.001, 1.0985411419875573e-08),\n",
       " (0.001, 1.0985411419875573e-08),\n",
       " (0.001, 1.0985411419875573e-08),\n",
       " (0.001, 1.0985411419875573e-08),\n",
       " (0.001, 8.68511373751352e-09),\n",
       " (0.001, 8.68511373751352e-09),\n",
       " (0.001, 8.68511373751352e-09),\n",
       " (0.001, 8.68511373751352e-09),\n",
       " (0.001, 8.68511373751352e-09),\n",
       " (0.001, 6.866488450042998e-09),\n",
       " (0.001, 6.866488450042998e-09),\n",
       " (0.001, 6.866488450042998e-09),\n",
       " (0.001, 6.866488450042998e-09),\n",
       " (0.001, 6.866488450042998e-09),\n",
       " (0.001, 5.4286754393238595e-09),\n",
       " (0.001, 5.4286754393238595e-09),\n",
       " (0.001, 5.4286754393238595e-09),\n",
       " (0.001, 5.4286754393238595e-09),\n",
       " (0.001, 5.4286754393238595e-09),\n",
       " (0.001, 4.291934260128778e-09),\n",
       " (0.001, 4.291934260128778e-09),\n",
       " (0.001, 4.291934260128778e-09),\n",
       " (0.001, 4.291934260128778e-09),\n",
       " (0.001, 4.291934260128778e-09),\n",
       " (0.001, 3.3932217718953295e-09),\n",
       " (0.001, 3.3932217718953295e-09),\n",
       " (0.001, 3.3932217718953295e-09),\n",
       " (0.001, 3.3932217718953295e-09),\n",
       " (0.001, 3.3932217718953295e-09),\n",
       " (0.001, 2.6826957952797275e-09),\n",
       " (0.001, 2.6826957952797275e-09),\n",
       " (0.001, 2.6826957952797275e-09),\n",
       " (0.001, 2.6826957952797275e-09),\n",
       " (0.001, 2.6826957952797275e-09),\n",
       " (0.001, 2.1209508879201927e-09),\n",
       " (0.001, 2.1209508879201927e-09),\n",
       " (0.001, 2.1209508879201927e-09),\n",
       " (0.001, 2.1209508879201927e-09),\n",
       " (0.001, 2.1209508879201927e-09),\n",
       " (0.001, 1.67683293681101e-09),\n",
       " (0.001, 1.67683293681101e-09),\n",
       " (0.001, 1.67683293681101e-09),\n",
       " (0.001, 1.67683293681101e-09),\n",
       " (0.001, 1.67683293681101e-09),\n",
       " (0.001, 1.3257113655901108e-09),\n",
       " (0.001, 1.3257113655901108e-09),\n",
       " (0.001, 1.3257113655901108e-09),\n",
       " (0.001, 1.3257113655901108e-09),\n",
       " (0.001, 1.3257113655901108e-09),\n",
       " (0.001, 1.048113134154683e-09),\n",
       " (0.001, 1.048113134154683e-09),\n",
       " (0.001, 1.048113134154683e-09),\n",
       " (0.001, 1.048113134154683e-09),\n",
       " (0.001, 1.048113134154683e-09),\n",
       " (0.001, 8.28642772854686e-10),\n",
       " (0.001, 8.28642772854686e-10),\n",
       " (0.001, 8.28642772854686e-10),\n",
       " (0.001, 8.28642772854686e-10),\n",
       " (0.001, 8.28642772854686e-10),\n",
       " (0.001, 6.551285568595495e-10),\n",
       " (0.001, 6.551285568595495e-10),\n",
       " (0.001, 6.551285568595495e-10),\n",
       " (0.001, 6.551285568595495e-10),\n",
       " (0.001, 6.551285568595495e-10),\n",
       " (0.001, 5.179474679231223e-10),\n",
       " (0.001, 5.179474679231223e-10),\n",
       " (0.001, 5.179474679231223e-10),\n",
       " (0.001, 5.179474679231223e-10),\n",
       " (0.001, 5.179474679231223e-10),\n",
       " (0.001, 4.0949150623804193e-10),\n",
       " (0.001, 4.0949150623804193e-10),\n",
       " (0.001, 4.0949150623804193e-10),\n",
       " (0.001, 4.0949150623804193e-10),\n",
       " (0.001, 4.0949150623804193e-10),\n",
       " (0.001, 3.23745754281764e-10),\n",
       " (0.001, 3.23745754281764e-10),\n",
       " (0.001, 3.23745754281764e-10),\n",
       " (0.001, 3.23745754281764e-10),\n",
       " (0.001, 3.23745754281764e-10),\n",
       " (0.001, 2.5595479226995335e-10),\n",
       " (0.001, 2.5595479226995335e-10),\n",
       " (0.001, 2.5595479226995335e-10),\n",
       " (0.001, 2.5595479226995335e-10),\n",
       " (0.001, 2.5595479226995335e-10),\n",
       " (0.001, 2.0235896477251556e-10),\n",
       " (0.001, 2.0235896477251556e-10),\n",
       " (0.001, 2.0235896477251556e-10),\n",
       " (0.001, 2.0235896477251556e-10),\n",
       " (0.001, 2.0235896477251556e-10),\n",
       " (0.001, 1.5998587196060573e-10),\n",
       " (0.001, 1.5998587196060573e-10),\n",
       " (0.001, 1.5998587196060573e-10),\n",
       " (0.001, 1.5998587196060573e-10),\n",
       " (0.001, 1.5998587196060573e-10),\n",
       " (0.001, 1.264855216855296e-10),\n",
       " (0.001, 1.264855216855296e-10),\n",
       " (0.001, 1.264855216855296e-10),\n",
       " (0.001, 1.264855216855296e-10),\n",
       " (0.001, 1.264855216855296e-10),\n",
       " (0.001, 1e-10),\n",
       " (0.001, 1e-10),\n",
       " (0.001, 1e-10),\n",
       " (0.001, 1e-10),\n",
       " (0.001, 1e-10)]"
      ]
     },
     "execution_count": 63,
     "metadata": {},
     "output_type": "execute_result"
    }
   ],
   "source": [
    "res_rsn['config'][:250]"
   ]
  },
  {
   "cell_type": "code",
   "execution_count": 45,
   "id": "f175f816",
   "metadata": {},
   "outputs": [
    {
     "data": {
      "text/plain": [
       "(array([0.92 , 0.925, 0.93 , 0.935, 0.94 , 0.945, 0.95 ]),\n",
       " [Text(0, 0, ''),\n",
       "  Text(0, 0, ''),\n",
       "  Text(0, 0, ''),\n",
       "  Text(0, 0, ''),\n",
       "  Text(0, 0, ''),\n",
       "  Text(0, 0, ''),\n",
       "  Text(0, 0, '')])"
      ]
     },
     "execution_count": 45,
     "metadata": {},
     "output_type": "execute_result"
    },
    {
     "data": {
      "image/png": "[encoded data removed]",
      "text/plain": [
       "<Figure size 864x432 with 1 Axes>"
      ]
     },
     "metadata": {
      "needs_background": "light"
     },
     "output_type": "display_data"
    }
   ],
   "source": [
    "plt.rcParams['figure.figsize'] = (12,6)\n",
    "# plt.plot(x_1_mbn,y_1_mbn,color='red',marker='^',markersize=3,alpha=0.5,linewidth=1,label='mobilenet(A)')\n",
    "# plt.plot(x_2_mbn,y_2_mbn,color='blue',marker='v',markersize=3,alpha=0.5,linewidth=1,label='mobilenet(N)')\n",
    "\n",
    "# plt.plot(x_1_sfn,y_1_sfn,color='lightcoral',marker='^',markersize=3,alpha=0.5,linewidth=1,label='shufflenet(A)')\n",
    "# plt.plot(x_2_sfn,y_2_sfn,color='lightblue',marker='v',markersize=3,alpha=0.5,linewidth=1,label='sufflenet(N)')\n",
    "\n",
    "plt.plot(x_1_rsn,y_1_rsn,color='darkred',marker='^',markersize=3,alpha=0.5,linewidth=1,label='resnet(A)')\n",
    "plt.plot(x_2_rsn,y_2_rsn,color='darkblue',marker='v',markersize=3,alpha=0.5,linewidth=1,label='resnet(N)')\n",
    "\n",
    "plt.plot(x_random,y_random,color='black',marker='^',markersize=3,alpha=0.5,linewidth=1,label='resnet(R)')\n",
    "\n",
    "# plt.scatter(x_1,y_1,color='red',marker='^',s=10,alpha=0.5)\n",
    "# plt.scatter(x_2,y_2,color='blue',marker='v',s=10,alpha=0.5)\n",
    "\n",
    "\n",
    "\n",
    "plt.ylim([0.92,0.95])\n",
    "plt.xlim([0.425,0.6])\n",
    "plt.xticks(fontsize=15)\n",
    "plt.yticks(fontsize=15)\n",
    "plt.xlabel('Hardware Cost (Model Size in MB)',fontsize=20)\n",
    "plt.ylabel('Performance (Accuracy)',fontsize=20)\n",
    "plt.legend()\n",
    "\n",
    "# plt.ylim([0.7,0.755])\n",
    "# plt.xlim([2.7,4.0])\n",
    "#plt.savefig('c100pareto.pdf',transparent=True, bbox_inches='tight', pad_inches=0)"
   ]
  },
  {
   "cell_type": "code",
   "execution_count": 31,
   "id": "d7068778",
   "metadata": {
    "scrolled": false
   },
   "outputs": [
    {
     "data": {
      "text/plain": [
       "(array([0.64, 0.66, 0.68, 0.7 , 0.72, 0.74, 0.76]),\n",
       " [Text(0, 0, ''),\n",
       "  Text(0, 0, ''),\n",
       "  Text(0, 0, ''),\n",
       "  Text(0, 0, ''),\n",
       "  Text(0, 0, ''),\n",
       "  Text(0, 0, ''),\n",
       "  Text(0, 0, '')])"
      ]
     },
     "execution_count": 31,
     "metadata": {},
     "output_type": "execute_result"
    },
    {
     "data": {
      "image/png": "[encoded data removed]",
      "text/plain": [
       "<Figure size 864x432 with 1 Axes>"
      ]
     },
     "metadata": {
      "needs_background": "light"
     },
     "output_type": "display_data"
    }
   ],
   "source": [
    "plt.rcParams['figure.figsize'] = (12,6)\n",
    "plt.plot(np.log(x_1_mbn)[100:],y_1_mbn[100:],color='red',marker='^',markersize=3,alpha=0.5,linewidth=1,label='mobilenet(A)')\n",
    "plt.plot(np.log(x_2_mbn)[100:],y_2_mbn[100:],color='blue',marker='v',markersize=3,alpha=0.5,linewidth=1,label='mobilenet(N)')\n",
    "\n",
    "plt.plot(np.log(x_1_sfn)[200:],y_1_sfn[200:],color='lightcoral',marker='^',markersize=3,alpha=0.5,linewidth=1,label='shufflenet(A)')\n",
    "plt.plot(np.log(x_2_sfn)[200:],y_2_sfn[200:],color='lightblue',marker='v',markersize=3,alpha=0.5,linewidth=1,label='sufflenet(N)')\n",
    "\n",
    "plt.plot(np.log(x_1_rsn)[0:],y_1_rsn[0:],color='darkred',marker='^',markersize=3,alpha=0.5,linewidth=1,label='resnet(A)')\n",
    "plt.plot(np.log(x_2_rsn)[0:],y_2_rsn[0:],color='darkblue',marker='v',markersize=3,alpha=0.5,linewidth=1,label='resnet(N)')\n",
    "# plt.scatter(x_1,y_1,color='red',marker='^',s=10,alpha=0.5)\n",
    "# plt.scatter(x_2,y_2,color='blue',marker='v',s=10,alpha=0.5)\n",
    "# plt.ylim([0.66,0.76])\n",
    "# plt.xlim([0.5,3.5])\n",
    "plt.ylim([0.65,0.76])\n",
    "plt.xlim([-1,1.8])\n",
    "plt.xlabel('Log Model Size (in MB)',fontsize=20)\n",
    "plt.ylabel('Test Accuracy',fontsize=20)\n",
    "plt.legend()\n",
    "plt.xticks(fontsize=15)\n",
    "plt.yticks(fontsize=15)\n",
    "# plt.ylim([0.7,0.755])\n",
    "# plt.xlim([2.7,4.0])\n",
    "#plt.savefig('c100pareto.pdf',transparent=True, bbox_inches='tight', pad_inches=0)"
   ]
  },
  {
   "cell_type": "code",
   "execution_count": null,
   "id": "365e6627",
   "metadata": {},
   "outputs": [],
   "source": []
  }
 ],
 "metadata": {
  "kernelspec": {
   "display_name": "Python 3",
   "language": "python",
   "name": "python3"
  },
  "language_info": {
   "codemirror_mode": {
    "name": "ipython",
    "version": 3
   },
   "file_extension": ".py",
   "mimetype": "text/x-python",
   "name": "python",
   "nbconvert_exporter": "python",
   "pygments_lexer": "ipython3",
   "version": "3.6.13"
  }
 },
 "nbformat": 4,
 "nbformat_minor": 5
}
