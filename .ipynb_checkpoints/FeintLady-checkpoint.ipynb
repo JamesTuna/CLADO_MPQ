{
 "cells": [
  {
   "cell_type": "code",
   "execution_count": null,
   "id": "ba86fdca",
   "metadata": {},
   "outputs": [],
   "source": [
    "import torch,torchvision,os,time\n",
    "import torchvision.transforms as transforms\n",
    "import numpy as np\n",
    "from utils.util import get_loader,evaluate\n",
    "from utils.layer import qConv2d,qLinear\n",
    "from utils.train import QAVAT_train\n",
    "import matplotlib.pyplot as plt\n",
    "import torchvision.models as models                           # for example model\n",
    "from mqbench.prepare_by_platform import prepare_by_platform   # add quant nodes for specific Backend\n",
    "from mqbench.prepare_by_platform import BackendType           # contain various Backend, like TensorRT, NNIE, etc.\n",
    "from mqbench.utils.state import enable_calibration            # turn on calibration algorithm, determine scale, zero_point, etc.\n",
    "from mqbench.utils.state import enable_quantization           # turn on actually quantization, like FP32 -> INT8\n",
    "from mqbench.utils.state import disable_all           # turn on actually quantization, like FP32 -> INT8\n",
    "from copy import deepcopy\n",
    "\n",
    "os.environ['CUDA_LAUNCH_BLOCKING'] = '1'\n",
    "\n",
    "model = torch.hub.load(\"chenyaofo/pytorch-cifar-models\", \"cifar10_resnet56\", pretrained=True).cuda()\n",
    "# model = torch.hub.load(\"chenyaofo/pytorch-cifar-models\", \"cifar100_mobilenetv2_x0_5\", pretrained=True).cuda()"
   ]
  },
  {
   "cell_type": "code",
   "execution_count": null,
   "id": "53657ce1",
   "metadata": {
    "scrolled": true
   },
   "outputs": [],
   "source": [
    "train,test = get_loader('cifar10'.upper(),batch_size=128,test_batch_size=128)\n",
    "train.num_workers = 2\n",
    "test.num_workers = 2\n",
    "train.pin_in_memory = True\n",
    "test.pin_in_memory = True"
   ]
  },
  {
   "cell_type": "code",
   "execution_count": null,
   "id": "1f67af0a",
   "metadata": {},
   "outputs": [],
   "source": [
    "# calibration data used to calibrate PTQ and MPQ\n",
    "calib_data = []\n",
    "i = 0\n",
    "for img,label in train:\n",
    "    i += 1\n",
    "    calib_data.append((img,label))\n",
    "    if i == 8:\n",
    "        break"
   ]
  },
  {
   "cell_type": "code",
   "execution_count": null,
   "id": "13c71366",
   "metadata": {},
   "outputs": [],
   "source": [
    "model.eval()\n",
    "mqb_model = deepcopy(model)\n",
    "torch_fp_model = deepcopy(model)\n",
    "torch_quantized_model = deepcopy(model)\n",
    "torch_perturb_model = deepcopy(model)\n",
    "model = None"
   ]
  },
  {
   "cell_type": "code",
   "execution_count": null,
   "id": "b007f436",
   "metadata": {},
   "outputs": [],
   "source": [
    "# MSE calibration on model parameters\n",
    "backend = BackendType.Academic\n",
    "extra_config = {\n",
    "    'extra_qconfig_dict': {\n",
    "        'w_observer': 'MSEObserver',                              # custom weight observer\n",
    "        'a_observer': 'EMAMSEObserver',                              # custom activation observer\n",
    "        'w_fakequantize': 'FixedFakeQuantize',                    # custom weight fake quantize function\n",
    "        'a_fakequantize': 'FixedFakeQuantize',                    # custom activation fake quantize function\n",
    "        'w_qscheme': {\n",
    "            'bit': 4,                                             # custom bitwidth for weight,\n",
    "            'symmetry': True,                                    # custom whether quant is symmetric for weight,\n",
    "            'per_channel': False,                                  # custom whether quant is per-channel or per-tensor for weight,\n",
    "            'pot_scale': False,                                   # custom whether scale is power of two for weight.\n",
    "        },\n",
    "        'a_qscheme': {\n",
    "            'bit': 8,                                             # custom bitwidth for activation,\n",
    "            'symmetry': False,                                    # custom whether quant is symmetric for activation,\n",
    "            'per_channel': False,                                  # custom whether quant is per-channel or per-tensor for activation,\n",
    "            'pot_scale': False,                                   # custom whether scale is power of two for activation.\n",
    "        }\n",
    "    }                                                         # custom tracer behavior, checkout https://github.com/pytorch/pytorch/blob/efcbbb177eacdacda80b94ad4ce34b9ed6cf687a/torch/fx/_symbolic_trace.py#L836\n",
    "}"
   ]
  },
  {
   "cell_type": "code",
   "execution_count": null,
   "id": "73e67b39",
   "metadata": {
    "scrolled": true
   },
   "outputs": [],
   "source": [
    "mqb_model = prepare_by_platform(mqb_model, backend,extra_config).cuda()"
   ]
  },
  {
   "cell_type": "code",
   "execution_count": null,
   "id": "11fa42da",
   "metadata": {},
   "outputs": [],
   "source": [
    "# calibration loop\n",
    "enable_calibration(mqb_model)\n",
    "for img,label in calib_data:\n",
    "    mqb_model(img.cuda())  "
   ]
  },
  {
   "cell_type": "code",
   "execution_count": null,
   "id": "84d500a6",
   "metadata": {},
   "outputs": [],
   "source": [
    "# evaluation loop\n",
    "from mqbench.utils.state import disable_all\n",
    "enable_quantization(mqb_model)\n",
    "#disable_all(mqb_model)\n",
    "evaluate(test,mqb_model)"
   ]
  },
  {
   "cell_type": "code",
   "execution_count": null,
   "id": "993e770f",
   "metadata": {},
   "outputs": [],
   "source": [
    "evaluate(test,torch_fp_model)"
   ]
  },
  {
   "cell_type": "code",
   "execution_count": null,
   "id": "99e0c6c9",
   "metadata": {
    "scrolled": true
   },
   "outputs": [],
   "source": [
    "def getModuleByName(modelName,moduleName):\n",
    "    '''\n",
    "        replace module with name modelName.moduleName with newModule\n",
    "    '''\n",
    "    tokens = moduleName.split('.')\n",
    "    eval_str = modelName\n",
    "    for token in tokens:\n",
    "        try:\n",
    "            eval_str += f'[{int(token)}]'\n",
    "        except:\n",
    "            eval_str += f'.{token}'\n",
    "            \n",
    "    return eval(eval_str)\n",
    "\n",
    "# pass quantized weight to torch_quantized_model\n",
    "for n,m in mqb_model.named_modules():\n",
    "    if isinstance(m,torch.nn.Linear) or isinstance(m,torch.nn.Conv2d):\n",
    "        # print('loading quantized weight for layer',n)\n",
    "        torch_module = getModuleByName('torch_quantized_model',n)\n",
    "        torch_module.weight.data = m.weight_fake_quant(m.weight).data"
   ]
  },
  {
   "cell_type": "code",
   "execution_count": null,
   "id": "9c08c97b",
   "metadata": {},
   "outputs": [],
   "source": [
    "evaluate(test,torch_quantized_model) "
   ]
  },
  {
   "cell_type": "code",
   "execution_count": null,
   "id": "c5773766",
   "metadata": {},
   "outputs": [],
   "source": [
    "mqb_model = None"
   ]
  },
  {
   "cell_type": "markdown",
   "id": "8846ea48",
   "metadata": {},
   "source": [
    "## FeintLady"
   ]
  },
  {
   "cell_type": "code",
   "execution_count": null,
   "id": "2f9cd5ee",
   "metadata": {},
   "outputs": [],
   "source": [
    "from collections import OrderedDict\n",
    "# 1. record all modules we want to consider\n",
    "layers_to_quant = OrderedDict() # layer_name:[torch_fp_module,torch_q_module,torch_p_module]\n",
    "types_to_quant = (torch.nn.Conv2d,torch.nn.Linear)\n",
    "\n",
    "for n,m in torch_fp_model.named_modules():\n",
    "    if isinstance(m,types_to_quant):\n",
    "        layers_to_quant[n] = [m,]\n",
    "        \n",
    "for n,m in torch_quantized_model.named_modules():\n",
    "    if isinstance(m,types_to_quant):\n",
    "        layers_to_quant[n].append(m)\n",
    "\n",
    "for n,m in torch_perturb_model.named_modules():\n",
    "    if isinstance(m,types_to_quant):\n",
    "        layers_to_quant[n].append(m)"
   ]
  },
  {
   "cell_type": "code",
   "execution_count": null,
   "id": "98c80e88",
   "metadata": {},
   "outputs": [],
   "source": [
    "res = evaluate(calib_data,torch_fp_model)\n",
    "ref_metric = ('mean_loss',res['mean_loss'])"
   ]
  },
  {
   "cell_type": "code",
   "execution_count": null,
   "id": "772d2eac",
   "metadata": {},
   "outputs": [],
   "source": [
    "res"
   ]
  },
  {
   "cell_type": "code",
   "execution_count": null,
   "id": "aa6716b0",
   "metadata": {},
   "outputs": [],
   "source": [
    "def perturb_loss(perturb_names,ref_metric,eval_data,printInfo=False):\n",
    "    with torch.no_grad():\n",
    "        # perturb layers\n",
    "        for n in perturb_names:\n",
    "            layers_to_quant[n][2].weight.data = layers_to_quant[n][1].weight.data\n",
    "        # do evaluation\n",
    "        res = evaluate(eval_data,torch_perturb_model)\n",
    "        perturbed_loss = res[ref_metric[0]] - ref_metric[1]\n",
    "        \n",
    "        if printInfo:\n",
    "            print(res)\n",
    "        # recover layers\n",
    "        for n in perturb_names:\n",
    "            layers_to_quant[n][2].weight.data = layers_to_quant[n][0].weight.data\n",
    "    return perturbed_loss"
   ]
  },
  {
   "cell_type": "markdown",
   "id": "e47dd85f",
   "metadata": {},
   "source": [
    "## Build Cached Grad if not done before"
   ]
  },
  {
   "cell_type": "code",
   "execution_count": null,
   "id": "8f370df0",
   "metadata": {
    "scrolled": true
   },
   "outputs": [],
   "source": [
    "import time\n",
    "s_time = time.time()\n",
    "cached = {}\n",
    "for n in layers_to_quant:\n",
    "    for m in layers_to_quant:\n",
    "        if n == m:\n",
    "            print('perturb layer',n)\n",
    "            p = perturb_loss([n,],ref_metric,calib_data)\n",
    "            cached[(n,n)] = p\n",
    "        if (n,m) not in cached:\n",
    "            print('perturb layer',n,m)\n",
    "            p = perturb_loss([n,m],ref_metric,calib_data)\n",
    "            cached[(n,m)] = p\n",
    "            cached[(m,n)] = p   \n",
    "print(f'{time.time()-s_time:.2f} seconds elapsed')"
   ]
  },
  {
   "cell_type": "code",
   "execution_count": null,
   "id": "239967a5",
   "metadata": {},
   "outputs": [],
   "source": [
    "layer_index = {}\n",
    "cnt = 0\n",
    "for layer in layers_to_quant:\n",
    "    layer_index[layer] = cnt\n",
    "    cnt += 1\n",
    "L = cnt"
   ]
  },
  {
   "cell_type": "code",
   "execution_count": null,
   "id": "c3fb4786",
   "metadata": {},
   "outputs": [],
   "source": [
    "import numpy as np\n",
    "hm = np.zeros(shape=(L,L))\n",
    "for n in layers_to_quant:\n",
    "    for m in layers_to_quant:\n",
    "        hm[layer_index[n],layer_index[m]] = cached[(n,m)]"
   ]
  },
  {
   "cell_type": "code",
   "execution_count": null,
   "id": "2a31472c",
   "metadata": {},
   "outputs": [],
   "source": [
    "cached_grad = np.zeros_like(hm)"
   ]
  },
  {
   "cell_type": "code",
   "execution_count": null,
   "id": "f99559c6",
   "metadata": {},
   "outputs": [],
   "source": [
    "import pickle\n",
    "with open('feintlady_c100resnet56_calib','wb') as f:\n",
    "    pickle.dump({'Ltilde':hm,'layer_index':layer_index},f)"
   ]
  },
  {
   "cell_type": "code",
   "execution_count": null,
   "id": "9644eaeb",
   "metadata": {},
   "outputs": [],
   "source": [
    "perturb_loss(['conv1',],ref_metric,eval_data=calib_data)"
   ]
  },
  {
   "cell_type": "markdown",
   "id": "babc001d",
   "metadata": {},
   "source": [
    "## Load Cached Grad"
   ]
  },
  {
   "cell_type": "code",
   "execution_count": null,
   "id": "498e1ffc",
   "metadata": {},
   "outputs": [],
   "source": [
    "import pickle\n",
    "with open('feintlady_resnet56_calib','rb') as f:\n",
    "    hm = pickle.load(f)"
   ]
  },
  {
   "cell_type": "code",
   "execution_count": null,
   "id": "17bd25f7",
   "metadata": {},
   "outputs": [],
   "source": [
    "plt.imshow(hm['Ltilde'],cmap='hot')"
   ]
  },
  {
   "cell_type": "code",
   "execution_count": null,
   "id": "beb3fb93",
   "metadata": {},
   "outputs": [],
   "source": [
    "L = hm['Ltilde'].shape[0]\n",
    "cached_grad = np.zeros_like(hm['Ltilde'])\n",
    "for i in range(L):\n",
    "    for j in range(L):\n",
    "        if i == j:\n",
    "            cached_grad[i,j] = 0.5 * hm['Ltilde'][i,j]\n",
    "        else:\n",
    "            cached_grad[i,j] = 0.25 * (hm['Ltilde'][i,j]-hm['Ltilde'][i,i]-hm['Ltilde'][j,j])"
   ]
  },
  {
   "cell_type": "code",
   "execution_count": null,
   "id": "ccbde6e7",
   "metadata": {},
   "outputs": [],
   "source": [
    "cached_grad"
   ]
  },
  {
   "cell_type": "code",
   "execution_count": null,
   "id": "4e34a3a5",
   "metadata": {},
   "outputs": [],
   "source": [
    "# cached_grad[cached_grad<0]=0\n",
    "plt.imshow(cached_grad)"
   ]
  },
  {
   "cell_type": "markdown",
   "id": "7d4555d2",
   "metadata": {},
   "source": [
    "### Define a naive cost function: model size"
   ]
  },
  {
   "cell_type": "code",
   "execution_count": null,
   "id": "f5886f20",
   "metadata": {},
   "outputs": [],
   "source": [
    "layer_size = np.array([0 for i in range(L)])\n",
    "for l in hm['layer_index']:\n",
    "    layer_size[hm['layer_index'][l]] = torch.numel(layers_to_quant[l][0].weight)"
   ]
  },
  {
   "cell_type": "code",
   "execution_count": null,
   "id": "b50707a4",
   "metadata": {},
   "outputs": [],
   "source": [
    "layer_size\n",
    "tot_size =  layer_size.sum()"
   ]
  },
  {
   "cell_type": "code",
   "execution_count": null,
   "id": "4bcd5187",
   "metadata": {},
   "outputs": [],
   "source": [
    "# initialize random variable v\n",
    "# use recitfied sigmoid h(v) to represent alpha\n",
    "# freg is 1-(1-2h(v))**beta, annealing beta to \n",
    "\n",
    "if not isinstance(cached_grad,torch.Tensor):\n",
    "    cached_grad = torch.Tensor(cached_grad)\n",
    "\n",
    "layer_size_tensor = torch.Tensor(layer_size)\n",
    "\n",
    "def lossfunc(v,beta,lambda1,lambda2,printInfo=False,naive=False,b=None):\n",
    "    alpha = (torch.sigmoid(v) * 1.2 - 0.1).clamp(0,1)\n",
    "    if not naive:\n",
    "        \n",
    "        outer_alpha = torch.outer(alpha,alpha)\n",
    "        netloss = torch.sum(outer_alpha * cached_grad)\n",
    "    else:\n",
    "        netloss = torch.sum(torch.diagonal(cached_grad) * alpha)\n",
    "            \n",
    "    regloss = torch.sum(1-(torch.abs(1-2*alpha))**beta)\n",
    "    regloss *= lambda1\n",
    "    \n",
    "    if b is None:\n",
    "        closs = -lambda2 * torch.sum(layer_size_tensor * alpha)\n",
    "    else:\n",
    "        closs = torch.sum(layer_size_tensor * alpha * 4) + torch.sum(layer_size_tensor * (1-alpha) * 8)\n",
    "        closs = torch.clamp(closs-b,0)\n",
    "        closs *= lambda2\n",
    "        \n",
    "    \n",
    "    totloss = netloss + regloss + closs\n",
    "    \n",
    "    if printInfo:\n",
    "        print(f'netloss {netloss.item():.4f} regloss {regloss.item():.4f}(beta={beta:.4f}) closs{closs.item():.4f}(constraint:{b})')\n",
    "        print('alpha:\\n',alpha)\n",
    "        \n",
    "    return totloss    \n",
    "    "
   ]
  },
  {
   "cell_type": "code",
   "execution_count": null,
   "id": "04760381",
   "metadata": {},
   "outputs": [],
   "source": [
    "def optimize(n_iteration,lr,beta,lambda1,lambda2,b=None,naive=False):\n",
    "    \n",
    "    v = torch.nn.Parameter(torch.randn(L))\n",
    "    optim = torch.optim.Adam([v,],lr=lr)\n",
    "    bs = np.linspace(beta[0],beta[1],n_iteration)\n",
    "    \n",
    "    for i in range(n_iteration):\n",
    "        if i==0 or (i+1) % 1000 == 0:\n",
    "            printInfo = True\n",
    "            print(f'Iter {i+1}')\n",
    "        else:\n",
    "            printInfo = False\n",
    "            \n",
    "        optim.zero_grad()\n",
    "        loss = lossfunc(v,bs[i],lambda1,lambda2,printInfo=printInfo,b=b,naive=naive)\n",
    "        loss.backward()\n",
    "        optim.step()\n",
    "    \n",
    "    return v\n",
    "\n",
    "def evaluate_decision(v,printInfo=False):\n",
    "    v = v.detach()\n",
    "    v[v>0] = 1\n",
    "    v[v<0] = 0\n",
    "    \n",
    "    decision = []\n",
    "    for layer in hm['layer_index']:\n",
    "        if v[hm['layer_index'][layer]] > 0:\n",
    "            decision.append(layer)\n",
    "    \n",
    "    \n",
    "    #ploss = perturb_loss(decision,ref_metric,eval_data=test,printInfo=printInfo)\n",
    "    with torch.no_grad():\n",
    "        # perturb layers\n",
    "        for n in decision:\n",
    "            layers_to_quant[n][2].weight.data = layers_to_quant[n][1].weight.data\n",
    "        # do evaluation\n",
    "        res = evaluate(test,torch_perturb_model)\n",
    "        # recover layers\n",
    "        for n in decision:\n",
    "            layers_to_quant[n][2].weight.data = layers_to_quant[n][0].weight.data\n",
    "    \n",
    "    orig_size = 0\n",
    "    reduced_size = 0\n",
    "    for i in range(L):\n",
    "        orig_size += layer_size[i] * 8\n",
    "        reduced_size += layer_size[i] * 8 if v[i] == 0 else layer_size[i] * 4\n",
    "    if printInfo:\n",
    "        print('result of quantizing the following layers')\n",
    "        print(decision)\n",
    "        print(res)\n",
    "        print(f'8-bit model size {orig_size/8/1024/1024:.2f} MB')\n",
    "        print(f'MP model size {reduced_size/8/1024/1024:.2f} MB') \n",
    "    \n",
    "    return res,reduced_size/8/1024/1024"
   ]
  },
  {
   "cell_type": "code",
   "execution_count": null,
   "id": "04d858bb",
   "metadata": {},
   "outputs": [],
   "source": [
    "r = 0.6"
   ]
  },
  {
   "cell_type": "code",
   "execution_count": null,
   "id": "2ccad800",
   "metadata": {},
   "outputs": [],
   "source": [
    "tot_size * 8 * r, tot_size /1024/1024 * r"
   ]
  },
  {
   "cell_type": "code",
   "execution_count": null,
   "id": "ef4783a1",
   "metadata": {
    "scrolled": true
   },
   "outputs": [],
   "source": [
    "v = optimize(n_iteration=5000,lr=1e-3,beta=[20,2],lambda1=1e-3,lambda2=5e-8,naive=False,b=tot_size * 8 * r)"
   ]
  },
  {
   "cell_type": "code",
   "execution_count": null,
   "id": "cf97384a",
   "metadata": {},
   "outputs": [],
   "source": [
    "evaluate_decision(v)"
   ]
  },
  {
   "cell_type": "code",
   "execution_count": null,
   "id": "fa2f91e3",
   "metadata": {
    "scrolled": true
   },
   "outputs": [],
   "source": [
    "v = optimize(n_iteration=10000,lr=2e-3,beta=[20,2],lambda1=0,lambda2=0,naive=True)"
   ]
  },
  {
   "cell_type": "code",
   "execution_count": null,
   "id": "36728f57",
   "metadata": {},
   "outputs": [],
   "source": [
    "evaluate_decision(v)"
   ]
  },
  {
   "cell_type": "markdown",
   "id": "50d354c4",
   "metadata": {},
   "source": [
    "## Pareto-Frontier of FeintLady vs Inter-Layer Dependency Unaware Optimization (Naive)"
   ]
  },
  {
   "cell_type": "code",
   "execution_count": null,
   "id": "8f48f9eb",
   "metadata": {
    "scrolled": true
   },
   "outputs": [],
   "source": [
    "# fix lambda1 to 1e-3\n",
    "# search lambda2 from 1e-5 to 1e-10\n",
    "# each HP (lambda2) try 5 runs\n",
    "\n",
    "lambda2s = np.logspace(-5,-10,50) #lambda1=1e-3,n=5000,lr=1e-3,beta=[20,2] for resnet20 on cifar10\n",
    "lambda2s = np.logspace(-5,-10,50) #lambda1=1e-1,n=5000,lr=1e-3,beta=[20,2] for resnet20 on cifar100\n",
    "sample_size = 5\n",
    "naive_loss,naive_size = [],[]\n",
    "feint_loss,feint_size = [],[]\n",
    "\n",
    "for lambda2 in lambda2s:\n",
    "    print('lambda2:',lambda2)\n",
    "    for repeat in range(sample_size):\n",
    "        v = optimize(n_iteration=5000,lr=1e-3,beta=[20,2],lambda1=1e-1,lambda2=lambda2,naive=True)\n",
    "        perf,size = evaluate_decision(v)\n",
    "        naive_loss.append(perf)\n",
    "        naive_size.append(size)\n",
    "\n",
    "        v = optimize(n_iteration=5000,lr=1e-3,beta=[20,2],lambda1=1e-1,lambda2=lambda2,naive=False)\n",
    "        perf,size = evaluate_decision(v)\n",
    "        feint_loss.append(perf)\n",
    "        feint_size.append(size)"
   ]
  },
  {
   "cell_type": "code",
   "execution_count": null,
   "id": "f12da08b",
   "metadata": {},
   "outputs": [],
   "source": [
    "naive_size = np.array(naive_size)\n",
    "feint_size = np.array(feint_size)\n",
    "naive_acc = [naive_loss[i]['mean_acc'] for i in range(len(naive_loss))]\n",
    "feint_acc = [feint_loss[i]['mean_acc'] for i in range(len(feint_loss))]"
   ]
  },
  {
   "cell_type": "code",
   "execution_count": null,
   "id": "e708cbb1",
   "metadata": {},
   "outputs": [],
   "source": [
    "with open('c100resnet56scatterplot.pkl','wb') as f:\n",
    "    pickle.dump({'naive_size':naive_size,'naive_acc':naive_acc,\n",
    "                 'feint_size':feint_size,'feint_acc':feint_acc},f)\n",
    "    "
   ]
  },
  {
   "cell_type": "code",
   "execution_count": null,
   "id": "aa465467",
   "metadata": {},
   "outputs": [],
   "source": [
    "plt.scatter(naive_size,naive_acc,color='red',alpha=0.5,label='Inter-Layer Depedency Unaware Optimization')\n",
    "plt.scatter(feint_size,feint_acc,color='blue',alpha=0.5,label='FeintLady Optimization')\n",
    "plt.xlabel('Hardware cost')\n",
    "plt.ylabel('Performance')\n",
    "plt.legend()\n",
    "# plt.imshow(X_std,cmap='hot')\n",
    "# plt.xlabel('layer index')\n",
    "# plt.ylabel('layer index')\n",
    "plt.savefig('c100resnet56FeintEffecacy.pdf',transparent=True, bbox_inches='tight', pad_inches=0)"
   ]
  },
  {
   "cell_type": "code",
   "execution_count": null,
   "id": "c2a211db",
   "metadata": {},
   "outputs": [],
   "source": [
    "plt.scatter(naive_size,naive_acc,color='red',alpha=0.5,label='naive')\n",
    "# plt.scatter(naive_size,naive_acc,color='blue',alpha=0.5,label='feint')\n",
    "plt.xlabel('hardware cost')\n",
    "plt.ylabel('performance')\n",
    "plt.legend()\n",
    "plt.show()"
   ]
  },
  {
   "cell_type": "markdown",
   "id": "b58a9245",
   "metadata": {},
   "source": [
    "## Visualization"
   ]
  },
  {
   "cell_type": "code",
   "execution_count": 32,
   "id": "d8252488",
   "metadata": {},
   "outputs": [],
   "source": [
    "import pickle\n",
    "import numpy as np\n",
    "import matplotlib.pyplot as plt\n",
    "\n",
    "fname = 'result_cifar100_shufflenetv2_x2_0_mode0_useaccFalse.pkl'\n",
    "with open(fname,'rb') as f:\n",
    "    res_sfn = pickle.load(f)\n",
    "    \n",
    "fname = 'result_cifar100_mobilenetv2_x1_4_mode0_useaccFalse.pkl'\n",
    "with open(fname,'rb') as f:\n",
    "    res_mbn = pickle.load(f)\n",
    "    "
   ]
  },
  {
   "cell_type": "code",
   "execution_count": 34,
   "id": "bab7e407",
   "metadata": {},
   "outputs": [
    {
     "name": "stdout",
     "output_type": "stream",
     "text": [
      "naive_size\n",
      "naive_acc\n",
      "feint_size\n",
      "feint_acc\n",
      "config\n"
     ]
    }
   ],
   "source": [
    "for k in res_mbn: print(k)"
   ]
  },
  {
   "cell_type": "code",
   "execution_count": 35,
   "id": "114db324",
   "metadata": {},
   "outputs": [],
   "source": [
    "def getPF_(xs,ys,mode='max',roundtoprecision=1):\n",
    "    pf = {}\n",
    "    for x,y in zip(xs,ys):\n",
    "        new_x = round(x,roundtoprecision)\n",
    "        if new_x in pf:\n",
    "            pf[new_x] = eval(mode)(pf[new_x],y)\n",
    "        else:\n",
    "            pf[new_x] = y\n",
    "    \n",
    "    pf_x,pf_y = [],[]\n",
    "    \n",
    "    for x in pf:\n",
    "        pf_x.append(x)\n",
    "        pf_y.append(pf[x])\n",
    "    \n",
    "    pf_x, pf_y = np.array(pf_x),np.array(pf_y)\n",
    "    \n",
    "    return pf_x,pf_y\n",
    "\n",
    "def getPF(xs,ys):\n",
    "    xs = np.array(xs)\n",
    "    ys = np.array(ys)\n",
    "    \n",
    "    order = np.argsort(xs)\n",
    "    \n",
    "    xs = xs[order]\n",
    "    ys = ys[order]\n",
    "    \n",
    "    cur_max = -1\n",
    "    for i in range(ys.shape[0]):\n",
    "        if ys[i] > cur_max:\n",
    "            cur_max = ys[i]\n",
    "        ys[i] = cur_max\n",
    "    \n",
    "    return xs,ys\n",
    "        "
   ]
  },
  {
   "cell_type": "code",
   "execution_count": 36,
   "id": "8186fbe1",
   "metadata": {},
   "outputs": [],
   "source": [
    "x_1_mbn,y_1_mbn = getPF(res_mbn['naive_size'],res_mbn['naive_acc'])\n",
    "x_2_mbn,y_2_mbn = getPF(res_mbn['feint_size'],res_mbn['feint_acc'])\n",
    "\n",
    "x_1_sfn,y_1_sfn = getPF(res_sfn['naive_size'],res_sfn['naive_acc'])\n",
    "x_2_sfn,y_2_sfn = getPF(res_sfn['feint_size'],res_sfn['feint_acc'])"
   ]
  },
  {
   "cell_type": "code",
   "execution_count": 46,
   "id": "b6d05679",
   "metadata": {},
   "outputs": [
    {
     "data": {
      "image/png": "[encoded data removed]",
      "text/plain": [
       "<Figure size 720x432 with 1 Axes>"
      ]
     },
     "metadata": {
      "needs_background": "light"
     },
     "output_type": "display_data"
    }
   ],
   "source": [
    "plt.rcParams['figure.figsize'] = (10,6)\n",
    "plt.plot(x_1_mbn,y_1_mbn,color='red',marker='^',markersize=3,alpha=0.5,linewidth=1,label='mobilenet(A)')\n",
    "plt.plot(x_2_mbn,y_2_mbn,color='blue',marker='v',markersize=3,alpha=0.5,linewidth=1,label='mobilenet(N)')\n",
    "\n",
    "plt.plot(x_1_sfn,y_1_sfn,color='lightcoral',marker='^',markersize=3,alpha=0.5,linewidth=1,label='shufflenet(A)')\n",
    "plt.plot(x_2_sfn,y_2_sfn,color='lightblue',marker='v',markersize=3,alpha=0.5,linewidth=1,label='sufflenet(N)')\n",
    "# plt.scatter(x_1,y_1,color='red',marker='^',s=10,alpha=0.5)\n",
    "# plt.scatter(x_2,y_2,color='blue',marker='v',s=10,alpha=0.5)\n",
    "plt.ylim([0.7,0.765])\n",
    "plt.xlim([2.,3.5])\n",
    "plt.xlabel('Hardware Cost (Model Size in MB)')\n",
    "plt.ylabel('Performance (Accuracy)')\n",
    "plt.legend()\n",
    "\n",
    "# plt.ylim([0.7,0.755])\n",
    "# plt.xlim([2.7,4.0])\n",
    "plt.savefig('c100pareto.pdf',transparent=True, bbox_inches='tight', pad_inches=0)"
   ]
  },
  {
   "cell_type": "code",
   "execution_count": null,
   "id": "d7b02e64",
   "metadata": {},
   "outputs": [],
   "source": [
    "x_1[np.argsort(x_1)]"
   ]
  },
  {
   "cell_type": "code",
   "execution_count": null,
   "id": "fd13ad63",
   "metadata": {},
   "outputs": [],
   "source": []
  }
 ],
 "metadata": {
  "kernelspec": {
   "display_name": "Python 3 (ipykernel)",
   "language": "python",
   "name": "python3"
  },
  "language_info": {
   "codemirror_mode": {
    "name": "ipython",
    "version": 3
   },
   "file_extension": ".py",
   "mimetype": "text/x-python",
   "name": "python",
   "nbconvert_exporter": "python",
   "pygments_lexer": "ipython3",
   "version": "3.9.12"
  }
 },
 "nbformat": 4,
 "nbformat_minor": 5
}
