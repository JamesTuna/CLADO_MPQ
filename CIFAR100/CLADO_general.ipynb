{
 "cells": [
  {
   "cell_type": "code",
   "execution_count": null,
   "id": "3f1149d6",
   "metadata": {},
   "outputs": [],
   "source": [
    "import torch,torchvision,os,time\n",
    "import torchvision.transforms as transforms\n",
    "import numpy as np\n",
    "from utils.util import get_loader,evaluate\n",
    "from utils.layer import qConv2d,qLinear\n",
    "from utils.train import QAVAT_train\n",
    "import matplotlib.pyplot as plt\n",
    "import torchvision.models as models             \n",
    "\n",
    "from mqbench.prepare_by_platform import prepare_by_platform   # add quant nodes for specific Backend\n",
    "from mqbench.prepare_by_platform import BackendType           # contain various Backend, like TensorRT, NNIE, etc.\n",
    "from mqbench.utils.state import enable_calibration            # turn on calibration algorithm, determine scale, zero_point, etc.\n",
    "from mqbench.utils.state import enable_quantization           # turn on actually quantization, like FP32 -> INT8\n",
    "from mqbench.utils.state import disable_all           \n",
    "from copy import deepcopy\n",
    "from mqbench.advanced_ptq import ptq_reconstruction\n",
    "torch.manual_seed(0)\n",
    "np.random.seed(0)"
   ]
  },
  {
   "cell_type": "code",
   "execution_count": null,
   "id": "9a4e0889",
   "metadata": {
    "scrolled": true
   },
   "outputs": [],
   "source": [
    "def accuracy(output, target, topk=(1,)):\n",
    "    \"\"\"Computes the accuracy over the k top predictions for the specified values of k\"\"\"\n",
    "    with torch.no_grad():\n",
    "        maxk = max(topk)\n",
    "        batch_size = target.size(0)\n",
    "\n",
    "        _, pred = output.topk(maxk, 1, True, True)\n",
    "        pred = pred.t()\n",
    "        correct = pred.eq(target.view(1, -1).expand_as(pred))\n",
    "\n",
    "        res = []\n",
    "        for k in topk:\n",
    "            correct_k = correct[:k].reshape(-1).float().sum(0, keepdim=True)\n",
    "            res.append(correct_k.mul_(100.0 / batch_size))\n",
    "        return res\n",
    "\n",
    "\n",
    "def evaluate(val_loader, model,\n",
    "             criterion = torch.nn.CrossEntropyLoss().cuda(),device='cuda'):\n",
    "    s_time = time.time()\n",
    "    # switch to evaluate mode\n",
    "    model.eval()\n",
    "    count,top1,top5,losses = 0,0,0,0\n",
    "    with torch.no_grad():\n",
    "        for i, (images, target) in enumerate(val_loader):\n",
    "            images, target = images.to(device), target.to(device)\n",
    "            # compute output\n",
    "            output = model(images)\n",
    "            loss = criterion(output, target)\n",
    "            # measure accuracy and record loss\n",
    "            acc1, acc5 = accuracy(output, target, topk=(1, 5))\n",
    "            losses = losses * count/(count+images.size(0)) + loss * images.size(0)/(count+images.size(0))\n",
    "            top1 = top1 * count/(count+images.size(0)) + acc1 * images.size(0)/(count+images.size(0))\n",
    "            top5 = top5 * count/(count+images.size(0)) + acc5 * images.size(0)/(count+images.size(0))\n",
    "            count += images.size(0)\n",
    "    test_time = time.time() - s_time\n",
    "    \n",
    "    return {'top1':top1,'top5':top5,'loss':losses,'time':test_time}\n",
    "\n",
    "    "
   ]
  },
  {
   "cell_type": "code",
   "execution_count": null,
   "id": "b2109f72",
   "metadata": {},
   "outputs": [],
   "source": [
    "adv_ptq = False\n",
    "dataset = 'cifar100'\n",
    "modelname = 'resnet56'\n",
    "mn = dataset.lower()+ '_' + modelname\n",
    "model = torch.hub.load(\"chenyaofo/pytorch-cifar-models\", mn, pretrained=True).cuda()\n",
    "# model = torch.hub.load(\"chenyaofo/pytorch-cifar-models\", \"cifar100_mobilenetv2_x0_5\", pretrained=True).cuda()\n",
    "model.eval()\n",
    "torch.manual_seed(0)\n",
    "np.random.seed(0)\n",
    "train,test = get_loader(dataset.upper(),batch_size=128,test_batch_size=128)\n",
    "train.num_workers = 2\n",
    "test.num_workers = 2\n",
    "train.pin_in_memory = True\n",
    "test.pin_in_memory = True"
   ]
  },
  {
   "cell_type": "code",
   "execution_count": null,
   "id": "84d104e8",
   "metadata": {},
   "outputs": [],
   "source": [
    "evaluate(test,model)"
   ]
  },
  {
   "cell_type": "code",
   "execution_count": 4,
   "id": "1f67af0a",
   "metadata": {},
   "outputs": [],
   "source": [
    "# calibration data used to calibrate PTQ and MPQ\n",
    "calib_data = []\n",
    "stacked_tensor = []\n",
    "calib_fp_output = []\n",
    "i = 0\n",
    "with torch.no_grad():\n",
    "    for img,label in train:\n",
    "        i += 1\n",
    "        stacked_tensor.append(img)\n",
    "        calib_data.append((img,label))\n",
    "        calib_fp_output.append(model(img.cuda()))\n",
    "        if i == 32: # remember to modify this to get 1024 images\n",
    "            break\n"
   ]
  },
  {
   "cell_type": "code",
   "execution_count": 5,
   "id": "f3d31b23",
   "metadata": {},
   "outputs": [
    {
     "data": {
      "text/plain": [
       "ResNet(\n",
       "  (conv1): Conv2d(3, 64, kernel_size=(7, 7), stride=(2, 2), padding=(3, 3), bias=False)\n",
       "  (bn1): BatchNorm2d(64, eps=1e-05, momentum=0.1, affine=True, track_running_stats=True)\n",
       "  (relu): ReLU(inplace=True)\n",
       "  (maxpool): MaxPool2d(kernel_size=3, stride=2, padding=1, dilation=1, ceil_mode=False)\n",
       "  (layer1): Sequential(\n",
       "    (0): Bottleneck(\n",
       "      (conv1): Conv2d(64, 64, kernel_size=(1, 1), stride=(1, 1), bias=False)\n",
       "      (bn1): BatchNorm2d(64, eps=1e-05, momentum=0.1, affine=True, track_running_stats=True)\n",
       "      (conv2): Conv2d(64, 64, kernel_size=(3, 3), stride=(1, 1), padding=(1, 1), bias=False)\n",
       "      (bn2): BatchNorm2d(64, eps=1e-05, momentum=0.1, affine=True, track_running_stats=True)\n",
       "      (conv3): Conv2d(64, 256, kernel_size=(1, 1), stride=(1, 1), bias=False)\n",
       "      (bn3): BatchNorm2d(256, eps=1e-05, momentum=0.1, affine=True, track_running_stats=True)\n",
       "      (relu): ReLU(inplace=True)\n",
       "      (downsample): Sequential(\n",
       "        (0): Conv2d(64, 256, kernel_size=(1, 1), stride=(1, 1), bias=False)\n",
       "        (1): BatchNorm2d(256, eps=1e-05, momentum=0.1, affine=True, track_running_stats=True)\n",
       "      )\n",
       "    )\n",
       "    (1): Bottleneck(\n",
       "      (conv1): Conv2d(256, 64, kernel_size=(1, 1), stride=(1, 1), bias=False)\n",
       "      (bn1): BatchNorm2d(64, eps=1e-05, momentum=0.1, affine=True, track_running_stats=True)\n",
       "      (conv2): Conv2d(64, 64, kernel_size=(3, 3), stride=(1, 1), padding=(1, 1), bias=False)\n",
       "      (bn2): BatchNorm2d(64, eps=1e-05, momentum=0.1, affine=True, track_running_stats=True)\n",
       "      (conv3): Conv2d(64, 256, kernel_size=(1, 1), stride=(1, 1), bias=False)\n",
       "      (bn3): BatchNorm2d(256, eps=1e-05, momentum=0.1, affine=True, track_running_stats=True)\n",
       "      (relu): ReLU(inplace=True)\n",
       "    )\n",
       "    (2): Bottleneck(\n",
       "      (conv1): Conv2d(256, 64, kernel_size=(1, 1), stride=(1, 1), bias=False)\n",
       "      (bn1): BatchNorm2d(64, eps=1e-05, momentum=0.1, affine=True, track_running_stats=True)\n",
       "      (conv2): Conv2d(64, 64, kernel_size=(3, 3), stride=(1, 1), padding=(1, 1), bias=False)\n",
       "      (bn2): BatchNorm2d(64, eps=1e-05, momentum=0.1, affine=True, track_running_stats=True)\n",
       "      (conv3): Conv2d(64, 256, kernel_size=(1, 1), stride=(1, 1), bias=False)\n",
       "      (bn3): BatchNorm2d(256, eps=1e-05, momentum=0.1, affine=True, track_running_stats=True)\n",
       "      (relu): ReLU(inplace=True)\n",
       "    )\n",
       "  )\n",
       "  (layer2): Sequential(\n",
       "    (0): Bottleneck(\n",
       "      (conv1): Conv2d(256, 128, kernel_size=(1, 1), stride=(1, 1), bias=False)\n",
       "      (bn1): BatchNorm2d(128, eps=1e-05, momentum=0.1, affine=True, track_running_stats=True)\n",
       "      (conv2): Conv2d(128, 128, kernel_size=(3, 3), stride=(2, 2), padding=(1, 1), bias=False)\n",
       "      (bn2): BatchNorm2d(128, eps=1e-05, momentum=0.1, affine=True, track_running_stats=True)\n",
       "      (conv3): Conv2d(128, 512, kernel_size=(1, 1), stride=(1, 1), bias=False)\n",
       "      (bn3): BatchNorm2d(512, eps=1e-05, momentum=0.1, affine=True, track_running_stats=True)\n",
       "      (relu): ReLU(inplace=True)\n",
       "      (downsample): Sequential(\n",
       "        (0): Conv2d(256, 512, kernel_size=(1, 1), stride=(2, 2), bias=False)\n",
       "        (1): BatchNorm2d(512, eps=1e-05, momentum=0.1, affine=True, track_running_stats=True)\n",
       "      )\n",
       "    )\n",
       "    (1): Bottleneck(\n",
       "      (conv1): Conv2d(512, 128, kernel_size=(1, 1), stride=(1, 1), bias=False)\n",
       "      (bn1): BatchNorm2d(128, eps=1e-05, momentum=0.1, affine=True, track_running_stats=True)\n",
       "      (conv2): Conv2d(128, 128, kernel_size=(3, 3), stride=(1, 1), padding=(1, 1), bias=False)\n",
       "      (bn2): BatchNorm2d(128, eps=1e-05, momentum=0.1, affine=True, track_running_stats=True)\n",
       "      (conv3): Conv2d(128, 512, kernel_size=(1, 1), stride=(1, 1), bias=False)\n",
       "      (bn3): BatchNorm2d(512, eps=1e-05, momentum=0.1, affine=True, track_running_stats=True)\n",
       "      (relu): ReLU(inplace=True)\n",
       "    )\n",
       "    (2): Bottleneck(\n",
       "      (conv1): Conv2d(512, 128, kernel_size=(1, 1), stride=(1, 1), bias=False)\n",
       "      (bn1): BatchNorm2d(128, eps=1e-05, momentum=0.1, affine=True, track_running_stats=True)\n",
       "      (conv2): Conv2d(128, 128, kernel_size=(3, 3), stride=(1, 1), padding=(1, 1), bias=False)\n",
       "      (bn2): BatchNorm2d(128, eps=1e-05, momentum=0.1, affine=True, track_running_stats=True)\n",
       "      (conv3): Conv2d(128, 512, kernel_size=(1, 1), stride=(1, 1), bias=False)\n",
       "      (bn3): BatchNorm2d(512, eps=1e-05, momentum=0.1, affine=True, track_running_stats=True)\n",
       "      (relu): ReLU(inplace=True)\n",
       "    )\n",
       "    (3): Bottleneck(\n",
       "      (conv1): Conv2d(512, 128, kernel_size=(1, 1), stride=(1, 1), bias=False)\n",
       "      (bn1): BatchNorm2d(128, eps=1e-05, momentum=0.1, affine=True, track_running_stats=True)\n",
       "      (conv2): Conv2d(128, 128, kernel_size=(3, 3), stride=(1, 1), padding=(1, 1), bias=False)\n",
       "      (bn2): BatchNorm2d(128, eps=1e-05, momentum=0.1, affine=True, track_running_stats=True)\n",
       "      (conv3): Conv2d(128, 512, kernel_size=(1, 1), stride=(1, 1), bias=False)\n",
       "      (bn3): BatchNorm2d(512, eps=1e-05, momentum=0.1, affine=True, track_running_stats=True)\n",
       "      (relu): ReLU(inplace=True)\n",
       "    )\n",
       "  )\n",
       "  (layer3): Sequential(\n",
       "    (0): Bottleneck(\n",
       "      (conv1): Conv2d(512, 256, kernel_size=(1, 1), stride=(1, 1), bias=False)\n",
       "      (bn1): BatchNorm2d(256, eps=1e-05, momentum=0.1, affine=True, track_running_stats=True)\n",
       "      (conv2): Conv2d(256, 256, kernel_size=(3, 3), stride=(2, 2), padding=(1, 1), bias=False)\n",
       "      (bn2): BatchNorm2d(256, eps=1e-05, momentum=0.1, affine=True, track_running_stats=True)\n",
       "      (conv3): Conv2d(256, 1024, kernel_size=(1, 1), stride=(1, 1), bias=False)\n",
       "      (bn3): BatchNorm2d(1024, eps=1e-05, momentum=0.1, affine=True, track_running_stats=True)\n",
       "      (relu): ReLU(inplace=True)\n",
       "      (downsample): Sequential(\n",
       "        (0): Conv2d(512, 1024, kernel_size=(1, 1), stride=(2, 2), bias=False)\n",
       "        (1): BatchNorm2d(1024, eps=1e-05, momentum=0.1, affine=True, track_running_stats=True)\n",
       "      )\n",
       "    )\n",
       "    (1): Bottleneck(\n",
       "      (conv1): Conv2d(1024, 256, kernel_size=(1, 1), stride=(1, 1), bias=False)\n",
       "      (bn1): BatchNorm2d(256, eps=1e-05, momentum=0.1, affine=True, track_running_stats=True)\n",
       "      (conv2): Conv2d(256, 256, kernel_size=(3, 3), stride=(1, 1), padding=(1, 1), bias=False)\n",
       "      (bn2): BatchNorm2d(256, eps=1e-05, momentum=0.1, affine=True, track_running_stats=True)\n",
       "      (conv3): Conv2d(256, 1024, kernel_size=(1, 1), stride=(1, 1), bias=False)\n",
       "      (bn3): BatchNorm2d(1024, eps=1e-05, momentum=0.1, affine=True, track_running_stats=True)\n",
       "      (relu): ReLU(inplace=True)\n",
       "    )\n",
       "    (2): Bottleneck(\n",
       "      (conv1): Conv2d(1024, 256, kernel_size=(1, 1), stride=(1, 1), bias=False)\n",
       "      (bn1): BatchNorm2d(256, eps=1e-05, momentum=0.1, affine=True, track_running_stats=True)\n",
       "      (conv2): Conv2d(256, 256, kernel_size=(3, 3), stride=(1, 1), padding=(1, 1), bias=False)\n",
       "      (bn2): BatchNorm2d(256, eps=1e-05, momentum=0.1, affine=True, track_running_stats=True)\n",
       "      (conv3): Conv2d(256, 1024, kernel_size=(1, 1), stride=(1, 1), bias=False)\n",
       "      (bn3): BatchNorm2d(1024, eps=1e-05, momentum=0.1, affine=True, track_running_stats=True)\n",
       "      (relu): ReLU(inplace=True)\n",
       "    )\n",
       "    (3): Bottleneck(\n",
       "      (conv1): Conv2d(1024, 256, kernel_size=(1, 1), stride=(1, 1), bias=False)\n",
       "      (bn1): BatchNorm2d(256, eps=1e-05, momentum=0.1, affine=True, track_running_stats=True)\n",
       "      (conv2): Conv2d(256, 256, kernel_size=(3, 3), stride=(1, 1), padding=(1, 1), bias=False)\n",
       "      (bn2): BatchNorm2d(256, eps=1e-05, momentum=0.1, affine=True, track_running_stats=True)\n",
       "      (conv3): Conv2d(256, 1024, kernel_size=(1, 1), stride=(1, 1), bias=False)\n",
       "      (bn3): BatchNorm2d(1024, eps=1e-05, momentum=0.1, affine=True, track_running_stats=True)\n",
       "      (relu): ReLU(inplace=True)\n",
       "    )\n",
       "    (4): Bottleneck(\n",
       "      (conv1): Conv2d(1024, 256, kernel_size=(1, 1), stride=(1, 1), bias=False)\n",
       "      (bn1): BatchNorm2d(256, eps=1e-05, momentum=0.1, affine=True, track_running_stats=True)\n",
       "      (conv2): Conv2d(256, 256, kernel_size=(3, 3), stride=(1, 1), padding=(1, 1), bias=False)\n",
       "      (bn2): BatchNorm2d(256, eps=1e-05, momentum=0.1, affine=True, track_running_stats=True)\n",
       "      (conv3): Conv2d(256, 1024, kernel_size=(1, 1), stride=(1, 1), bias=False)\n",
       "      (bn3): BatchNorm2d(1024, eps=1e-05, momentum=0.1, affine=True, track_running_stats=True)\n",
       "      (relu): ReLU(inplace=True)\n",
       "    )\n",
       "    (5): Bottleneck(\n",
       "      (conv1): Conv2d(1024, 256, kernel_size=(1, 1), stride=(1, 1), bias=False)\n",
       "      (bn1): BatchNorm2d(256, eps=1e-05, momentum=0.1, affine=True, track_running_stats=True)\n",
       "      (conv2): Conv2d(256, 256, kernel_size=(3, 3), stride=(1, 1), padding=(1, 1), bias=False)\n",
       "      (bn2): BatchNorm2d(256, eps=1e-05, momentum=0.1, affine=True, track_running_stats=True)\n",
       "      (conv3): Conv2d(256, 1024, kernel_size=(1, 1), stride=(1, 1), bias=False)\n",
       "      (bn3): BatchNorm2d(1024, eps=1e-05, momentum=0.1, affine=True, track_running_stats=True)\n",
       "      (relu): ReLU(inplace=True)\n",
       "    )\n",
       "  )\n",
       "  (layer4): Sequential(\n",
       "    (0): Bottleneck(\n",
       "      (conv1): Conv2d(1024, 512, kernel_size=(1, 1), stride=(1, 1), bias=False)\n",
       "      (bn1): BatchNorm2d(512, eps=1e-05, momentum=0.1, affine=True, track_running_stats=True)\n",
       "      (conv2): Conv2d(512, 512, kernel_size=(3, 3), stride=(2, 2), padding=(1, 1), bias=False)\n",
       "      (bn2): BatchNorm2d(512, eps=1e-05, momentum=0.1, affine=True, track_running_stats=True)\n",
       "      (conv3): Conv2d(512, 2048, kernel_size=(1, 1), stride=(1, 1), bias=False)\n",
       "      (bn3): BatchNorm2d(2048, eps=1e-05, momentum=0.1, affine=True, track_running_stats=True)\n",
       "      (relu): ReLU(inplace=True)\n",
       "      (downsample): Sequential(\n",
       "        (0): Conv2d(1024, 2048, kernel_size=(1, 1), stride=(2, 2), bias=False)\n",
       "        (1): BatchNorm2d(2048, eps=1e-05, momentum=0.1, affine=True, track_running_stats=True)\n",
       "      )\n",
       "    )\n",
       "    (1): Bottleneck(\n",
       "      (conv1): Conv2d(2048, 512, kernel_size=(1, 1), stride=(1, 1), bias=False)\n",
       "      (bn1): BatchNorm2d(512, eps=1e-05, momentum=0.1, affine=True, track_running_stats=True)\n",
       "      (conv2): Conv2d(512, 512, kernel_size=(3, 3), stride=(1, 1), padding=(1, 1), bias=False)\n",
       "      (bn2): BatchNorm2d(512, eps=1e-05, momentum=0.1, affine=True, track_running_stats=True)\n",
       "      (conv3): Conv2d(512, 2048, kernel_size=(1, 1), stride=(1, 1), bias=False)\n",
       "      (bn3): BatchNorm2d(2048, eps=1e-05, momentum=0.1, affine=True, track_running_stats=True)\n",
       "      (relu): ReLU(inplace=True)\n",
       "    )\n",
       "    (2): Bottleneck(\n",
       "      (conv1): Conv2d(2048, 512, kernel_size=(1, 1), stride=(1, 1), bias=False)\n",
       "      (bn1): BatchNorm2d(512, eps=1e-05, momentum=0.1, affine=True, track_running_stats=True)\n",
       "      (conv2): Conv2d(512, 512, kernel_size=(3, 3), stride=(1, 1), padding=(1, 1), bias=False)\n",
       "      (bn2): BatchNorm2d(512, eps=1e-05, momentum=0.1, affine=True, track_running_stats=True)\n",
       "      (conv3): Conv2d(512, 2048, kernel_size=(1, 1), stride=(1, 1), bias=False)\n",
       "      (bn3): BatchNorm2d(2048, eps=1e-05, momentum=0.1, affine=True, track_running_stats=True)\n",
       "      (relu): ReLU(inplace=True)\n",
       "    )\n",
       "  )\n",
       "  (avgpool): AdaptiveAvgPool2d(output_size=(1, 1))\n",
       "  (fc): Linear(in_features=2048, out_features=1000, bias=True)\n",
       ")"
      ]
     },
     "execution_count": 5,
     "metadata": {},
     "output_type": "execute_result"
    }
   ],
   "source": [
    "MPQ_scheme = (2,4,8)\n",
    "model.eval()"
   ]
  },
  {
   "cell_type": "code",
   "execution_count": 6,
   "id": "b007f436",
   "metadata": {
    "scrolled": true
   },
   "outputs": [
    {
     "name": "stdout",
     "output_type": "stream",
     "text": [
      "Prepare 2bits model using MQBench\n",
      "[MQBENCH] INFO: Quantize model Scheme: BackendType.Academic Mode: Eval\n",
      "[MQBENCH] INFO: Weight Qconfig:\n",
      "    FakeQuantize: FixedFakeQuantize Params: {}\n",
      "    Oberver:      MSEObserver Params: Symmetric: True / Bitwidth: 2 / Per channel: False / Pot scale: False / Extra kwargs: {}\n",
      "[MQBENCH] INFO: Activation Qconfig:\n",
      "    FakeQuantize: FixedFakeQuantize Params: {}\n",
      "    Oberver:      EMAMSEObserver Params: Symmetric: False / Bitwidth: 8 / Per channel: False / Pot scale: False / Extra kwargs: {}\n",
      "[MQBENCH] INFO: Replace module to qat module.\n",
      "[MQBENCH] INFO: Set layer conv1 to 8 bit.\n",
      "[MQBENCH] INFO: Set layer fc to 8 bit.\n",
      "dbg node_to_quantize_output\n",
      " odict_keys([x, maxpool, layer1_0_relu, layer1_0_relu_1, layer1_0_relu_2, layer1_1_relu, layer1_1_relu_1, layer1_1_relu_2, layer1_2_relu, layer1_2_relu_1, layer1_2_relu_2, layer2_0_relu, layer2_0_relu_1, layer2_0_relu_2, layer2_1_relu, layer2_1_relu_1, layer2_1_relu_2, layer2_2_relu, layer2_2_relu_1, layer2_2_relu_2, layer2_3_relu, layer2_3_relu_1, layer2_3_relu_2, layer3_0_relu, layer3_0_relu_1, layer3_0_relu_2, layer3_1_relu, layer3_1_relu_1, layer3_1_relu_2, layer3_2_relu, layer3_2_relu_1, layer3_2_relu_2, layer3_3_relu, layer3_3_relu_1, layer3_3_relu_2, layer3_4_relu, layer3_4_relu_1, layer3_4_relu_2, layer3_5_relu, layer3_5_relu_1, layer3_5_relu_2, layer4_0_relu, layer4_0_relu_1, layer4_0_relu_2, layer4_1_relu, layer4_1_relu_1, layer4_1_relu_2, layer4_2_relu, layer4_2_relu_1, flatten])\n",
      "[MQBENCH] INFO: Set x post act quantize to 8 bit.\n",
      "[MQBENCH] INFO: Insert act quant x_post_act_fake_quantizer\n",
      "[MQBENCH] INFO: Insert act quant maxpool_post_act_fake_quantizer\n",
      "[MQBENCH] INFO: Insert act quant layer1_0_relu_post_act_fake_quantizer\n",
      "[MQBENCH] INFO: Insert act quant layer1_0_relu_1_post_act_fake_quantizer\n",
      "[MQBENCH] INFO: Insert act quant layer1_0_relu_2_post_act_fake_quantizer\n",
      "[MQBENCH] INFO: Insert act quant layer1_1_relu_post_act_fake_quantizer\n",
      "[MQBENCH] INFO: Insert act quant layer1_1_relu_1_post_act_fake_quantizer\n",
      "[MQBENCH] INFO: Insert act quant layer1_1_relu_2_post_act_fake_quantizer\n",
      "[MQBENCH] INFO: Insert act quant layer1_2_relu_post_act_fake_quantizer\n",
      "[MQBENCH] INFO: Insert act quant layer1_2_relu_1_post_act_fake_quantizer\n",
      "[MQBENCH] INFO: Insert act quant layer1_2_relu_2_post_act_fake_quantizer\n",
      "[MQBENCH] INFO: Insert act quant layer2_0_relu_post_act_fake_quantizer\n",
      "[MQBENCH] INFO: Insert act quant layer2_0_relu_1_post_act_fake_quantizer\n",
      "[MQBENCH] INFO: Insert act quant layer2_0_relu_2_post_act_fake_quantizer\n",
      "[MQBENCH] INFO: Insert act quant layer2_1_relu_post_act_fake_quantizer\n",
      "[MQBENCH] INFO: Insert act quant layer2_1_relu_1_post_act_fake_quantizer\n",
      "[MQBENCH] INFO: Insert act quant layer2_1_relu_2_post_act_fake_quantizer\n",
      "[MQBENCH] INFO: Insert act quant layer2_2_relu_post_act_fake_quantizer\n",
      "[MQBENCH] INFO: Insert act quant layer2_2_relu_1_post_act_fake_quantizer\n",
      "[MQBENCH] INFO: Insert act quant layer2_2_relu_2_post_act_fake_quantizer\n",
      "[MQBENCH] INFO: Insert act quant layer2_3_relu_post_act_fake_quantizer\n",
      "[MQBENCH] INFO: Insert act quant layer2_3_relu_1_post_act_fake_quantizer\n",
      "[MQBENCH] INFO: Insert act quant layer2_3_relu_2_post_act_fake_quantizer\n",
      "[MQBENCH] INFO: Insert act quant layer3_0_relu_post_act_fake_quantizer\n",
      "[MQBENCH] INFO: Insert act quant layer3_0_relu_1_post_act_fake_quantizer\n",
      "[MQBENCH] INFO: Insert act quant layer3_0_relu_2_post_act_fake_quantizer\n",
      "[MQBENCH] INFO: Insert act quant layer3_1_relu_post_act_fake_quantizer\n",
      "[MQBENCH] INFO: Insert act quant layer3_1_relu_1_post_act_fake_quantizer\n",
      "[MQBENCH] INFO: Insert act quant layer3_1_relu_2_post_act_fake_quantizer\n",
      "[MQBENCH] INFO: Insert act quant layer3_2_relu_post_act_fake_quantizer\n",
      "[MQBENCH] INFO: Insert act quant layer3_2_relu_1_post_act_fake_quantizer\n",
      "[MQBENCH] INFO: Insert act quant layer3_2_relu_2_post_act_fake_quantizer\n",
      "[MQBENCH] INFO: Insert act quant layer3_3_relu_post_act_fake_quantizer\n",
      "[MQBENCH] INFO: Insert act quant layer3_3_relu_1_post_act_fake_quantizer\n",
      "[MQBENCH] INFO: Insert act quant layer3_3_relu_2_post_act_fake_quantizer\n",
      "[MQBENCH] INFO: Insert act quant layer3_4_relu_post_act_fake_quantizer\n",
      "[MQBENCH] INFO: Insert act quant layer3_4_relu_1_post_act_fake_quantizer\n",
      "[MQBENCH] INFO: Insert act quant layer3_4_relu_2_post_act_fake_quantizer\n",
      "[MQBENCH] INFO: Insert act quant layer3_5_relu_post_act_fake_quantizer\n",
      "[MQBENCH] INFO: Insert act quant layer3_5_relu_1_post_act_fake_quantizer\n",
      "[MQBENCH] INFO: Insert act quant layer3_5_relu_2_post_act_fake_quantizer\n",
      "[MQBENCH] INFO: Insert act quant layer4_0_relu_post_act_fake_quantizer\n",
      "[MQBENCH] INFO: Insert act quant layer4_0_relu_1_post_act_fake_quantizer\n",
      "[MQBENCH] INFO: Insert act quant layer4_0_relu_2_post_act_fake_quantizer\n",
      "[MQBENCH] INFO: Insert act quant layer4_1_relu_post_act_fake_quantizer\n",
      "[MQBENCH] INFO: Insert act quant layer4_1_relu_1_post_act_fake_quantizer\n",
      "[MQBENCH] INFO: Insert act quant layer4_1_relu_2_post_act_fake_quantizer\n",
      "[MQBENCH] INFO: Insert act quant layer4_2_relu_post_act_fake_quantizer\n",
      "[MQBENCH] INFO: Insert act quant layer4_2_relu_1_post_act_fake_quantizer\n",
      "[MQBENCH] INFO: Set flatten post act quantize to 8 bit.\n",
      "[MQBENCH] INFO: Insert act quant flatten_post_act_fake_quantizer\n",
      "[MQBENCH] INFO: Enable observer and Disable quantize.\n",
      "Prepare 4bits model using MQBench\n",
      "[MQBENCH] INFO: Quantize model Scheme: BackendType.Academic Mode: Eval\n",
      "[MQBENCH] INFO: Weight Qconfig:\n",
      "    FakeQuantize: FixedFakeQuantize Params: {}\n",
      "    Oberver:      MSEObserver Params: Symmetric: True / Bitwidth: 4 / Per channel: False / Pot scale: False / Extra kwargs: {}\n",
      "[MQBENCH] INFO: Activation Qconfig:\n",
      "    FakeQuantize: FixedFakeQuantize Params: {}\n",
      "    Oberver:      EMAMSEObserver Params: Symmetric: False / Bitwidth: 8 / Per channel: False / Pot scale: False / Extra kwargs: {}\n",
      "[MQBENCH] INFO: Replace module to qat module.\n",
      "[MQBENCH] INFO: Set layer conv1 to 8 bit.\n",
      "[MQBENCH] INFO: Set layer fc to 8 bit.\n",
      "dbg node_to_quantize_output\n",
      " odict_keys([x, maxpool, layer1_0_relu, layer1_0_relu_1, layer1_0_relu_2, layer1_1_relu, layer1_1_relu_1, layer1_1_relu_2, layer1_2_relu, layer1_2_relu_1, layer1_2_relu_2, layer2_0_relu, layer2_0_relu_1, layer2_0_relu_2, layer2_1_relu, layer2_1_relu_1, layer2_1_relu_2, layer2_2_relu, layer2_2_relu_1, layer2_2_relu_2, layer2_3_relu, layer2_3_relu_1, layer2_3_relu_2, layer3_0_relu, layer3_0_relu_1, layer3_0_relu_2, layer3_1_relu, layer3_1_relu_1, layer3_1_relu_2, layer3_2_relu, layer3_2_relu_1, layer3_2_relu_2, layer3_3_relu, layer3_3_relu_1, layer3_3_relu_2, layer3_4_relu, layer3_4_relu_1, layer3_4_relu_2, layer3_5_relu, layer3_5_relu_1, layer3_5_relu_2, layer4_0_relu, layer4_0_relu_1, layer4_0_relu_2, layer4_1_relu, layer4_1_relu_1, layer4_1_relu_2, layer4_2_relu, layer4_2_relu_1, flatten])\n",
      "[MQBENCH] INFO: Set x post act quantize to 8 bit.\n",
      "[MQBENCH] INFO: Insert act quant x_post_act_fake_quantizer\n",
      "[MQBENCH] INFO: Insert act quant maxpool_post_act_fake_quantizer\n",
      "[MQBENCH] INFO: Insert act quant layer1_0_relu_post_act_fake_quantizer\n",
      "[MQBENCH] INFO: Insert act quant layer1_0_relu_1_post_act_fake_quantizer\n",
      "[MQBENCH] INFO: Insert act quant layer1_0_relu_2_post_act_fake_quantizer\n",
      "[MQBENCH] INFO: Insert act quant layer1_1_relu_post_act_fake_quantizer\n",
      "[MQBENCH] INFO: Insert act quant layer1_1_relu_1_post_act_fake_quantizer\n",
      "[MQBENCH] INFO: Insert act quant layer1_1_relu_2_post_act_fake_quantizer\n",
      "[MQBENCH] INFO: Insert act quant layer1_2_relu_post_act_fake_quantizer\n",
      "[MQBENCH] INFO: Insert act quant layer1_2_relu_1_post_act_fake_quantizer\n",
      "[MQBENCH] INFO: Insert act quant layer1_2_relu_2_post_act_fake_quantizer\n",
      "[MQBENCH] INFO: Insert act quant layer2_0_relu_post_act_fake_quantizer\n",
      "[MQBENCH] INFO: Insert act quant layer2_0_relu_1_post_act_fake_quantizer\n",
      "[MQBENCH] INFO: Insert act quant layer2_0_relu_2_post_act_fake_quantizer\n",
      "[MQBENCH] INFO: Insert act quant layer2_1_relu_post_act_fake_quantizer\n",
      "[MQBENCH] INFO: Insert act quant layer2_1_relu_1_post_act_fake_quantizer\n",
      "[MQBENCH] INFO: Insert act quant layer2_1_relu_2_post_act_fake_quantizer\n",
      "[MQBENCH] INFO: Insert act quant layer2_2_relu_post_act_fake_quantizer\n",
      "[MQBENCH] INFO: Insert act quant layer2_2_relu_1_post_act_fake_quantizer\n",
      "[MQBENCH] INFO: Insert act quant layer2_2_relu_2_post_act_fake_quantizer\n",
      "[MQBENCH] INFO: Insert act quant layer2_3_relu_post_act_fake_quantizer\n"
     ]
    },
    {
     "name": "stdout",
     "output_type": "stream",
     "text": [
      "[MQBENCH] INFO: Insert act quant layer2_3_relu_1_post_act_fake_quantizer\n",
      "[MQBENCH] INFO: Insert act quant layer2_3_relu_2_post_act_fake_quantizer\n",
      "[MQBENCH] INFO: Insert act quant layer3_0_relu_post_act_fake_quantizer\n",
      "[MQBENCH] INFO: Insert act quant layer3_0_relu_1_post_act_fake_quantizer\n",
      "[MQBENCH] INFO: Insert act quant layer3_0_relu_2_post_act_fake_quantizer\n",
      "[MQBENCH] INFO: Insert act quant layer3_1_relu_post_act_fake_quantizer\n",
      "[MQBENCH] INFO: Insert act quant layer3_1_relu_1_post_act_fake_quantizer\n",
      "[MQBENCH] INFO: Insert act quant layer3_1_relu_2_post_act_fake_quantizer\n",
      "[MQBENCH] INFO: Insert act quant layer3_2_relu_post_act_fake_quantizer\n",
      "[MQBENCH] INFO: Insert act quant layer3_2_relu_1_post_act_fake_quantizer\n",
      "[MQBENCH] INFO: Insert act quant layer3_2_relu_2_post_act_fake_quantizer\n",
      "[MQBENCH] INFO: Insert act quant layer3_3_relu_post_act_fake_quantizer\n",
      "[MQBENCH] INFO: Insert act quant layer3_3_relu_1_post_act_fake_quantizer\n",
      "[MQBENCH] INFO: Insert act quant layer3_3_relu_2_post_act_fake_quantizer\n",
      "[MQBENCH] INFO: Insert act quant layer3_4_relu_post_act_fake_quantizer\n",
      "[MQBENCH] INFO: Insert act quant layer3_4_relu_1_post_act_fake_quantizer\n",
      "[MQBENCH] INFO: Insert act quant layer3_4_relu_2_post_act_fake_quantizer\n",
      "[MQBENCH] INFO: Insert act quant layer3_5_relu_post_act_fake_quantizer\n",
      "[MQBENCH] INFO: Insert act quant layer3_5_relu_1_post_act_fake_quantizer\n",
      "[MQBENCH] INFO: Insert act quant layer3_5_relu_2_post_act_fake_quantizer\n",
      "[MQBENCH] INFO: Insert act quant layer4_0_relu_post_act_fake_quantizer\n",
      "[MQBENCH] INFO: Insert act quant layer4_0_relu_1_post_act_fake_quantizer\n",
      "[MQBENCH] INFO: Insert act quant layer4_0_relu_2_post_act_fake_quantizer\n",
      "[MQBENCH] INFO: Insert act quant layer4_1_relu_post_act_fake_quantizer\n",
      "[MQBENCH] INFO: Insert act quant layer4_1_relu_1_post_act_fake_quantizer\n",
      "[MQBENCH] INFO: Insert act quant layer4_1_relu_2_post_act_fake_quantizer\n",
      "[MQBENCH] INFO: Insert act quant layer4_2_relu_post_act_fake_quantizer\n",
      "[MQBENCH] INFO: Insert act quant layer4_2_relu_1_post_act_fake_quantizer\n",
      "[MQBENCH] INFO: Set flatten post act quantize to 8 bit.\n",
      "[MQBENCH] INFO: Insert act quant flatten_post_act_fake_quantizer\n",
      "[MQBENCH] INFO: Enable observer and Disable quantize.\n",
      "Prepare 8bits model using MQBench\n",
      "[MQBENCH] INFO: Quantize model Scheme: BackendType.Academic Mode: Eval\n",
      "[MQBENCH] INFO: Weight Qconfig:\n",
      "    FakeQuantize: FixedFakeQuantize Params: {}\n",
      "    Oberver:      MSEObserver Params: Symmetric: True / Bitwidth: 8 / Per channel: False / Pot scale: False / Extra kwargs: {}\n",
      "[MQBENCH] INFO: Activation Qconfig:\n",
      "    FakeQuantize: FixedFakeQuantize Params: {}\n",
      "    Oberver:      EMAMSEObserver Params: Symmetric: False / Bitwidth: 8 / Per channel: False / Pot scale: False / Extra kwargs: {}\n",
      "[MQBENCH] INFO: Replace module to qat module.\n",
      "[MQBENCH] INFO: Set layer conv1 to 8 bit.\n",
      "[MQBENCH] INFO: Set layer fc to 8 bit.\n",
      "dbg node_to_quantize_output\n",
      " odict_keys([x, maxpool, layer1_0_relu, layer1_0_relu_1, layer1_0_relu_2, layer1_1_relu, layer1_1_relu_1, layer1_1_relu_2, layer1_2_relu, layer1_2_relu_1, layer1_2_relu_2, layer2_0_relu, layer2_0_relu_1, layer2_0_relu_2, layer2_1_relu, layer2_1_relu_1, layer2_1_relu_2, layer2_2_relu, layer2_2_relu_1, layer2_2_relu_2, layer2_3_relu, layer2_3_relu_1, layer2_3_relu_2, layer3_0_relu, layer3_0_relu_1, layer3_0_relu_2, layer3_1_relu, layer3_1_relu_1, layer3_1_relu_2, layer3_2_relu, layer3_2_relu_1, layer3_2_relu_2, layer3_3_relu, layer3_3_relu_1, layer3_3_relu_2, layer3_4_relu, layer3_4_relu_1, layer3_4_relu_2, layer3_5_relu, layer3_5_relu_1, layer3_5_relu_2, layer4_0_relu, layer4_0_relu_1, layer4_0_relu_2, layer4_1_relu, layer4_1_relu_1, layer4_1_relu_2, layer4_2_relu, layer4_2_relu_1, flatten])\n",
      "[MQBENCH] INFO: Set x post act quantize to 8 bit.\n",
      "[MQBENCH] INFO: Insert act quant x_post_act_fake_quantizer\n",
      "[MQBENCH] INFO: Insert act quant maxpool_post_act_fake_quantizer\n",
      "[MQBENCH] INFO: Insert act quant layer1_0_relu_post_act_fake_quantizer\n",
      "[MQBENCH] INFO: Insert act quant layer1_0_relu_1_post_act_fake_quantizer\n",
      "[MQBENCH] INFO: Insert act quant layer1_0_relu_2_post_act_fake_quantizer\n",
      "[MQBENCH] INFO: Insert act quant layer1_1_relu_post_act_fake_quantizer\n",
      "[MQBENCH] INFO: Insert act quant layer1_1_relu_1_post_act_fake_quantizer\n",
      "[MQBENCH] INFO: Insert act quant layer1_1_relu_2_post_act_fake_quantizer\n",
      "[MQBENCH] INFO: Insert act quant layer1_2_relu_post_act_fake_quantizer\n",
      "[MQBENCH] INFO: Insert act quant layer1_2_relu_1_post_act_fake_quantizer\n",
      "[MQBENCH] INFO: Insert act quant layer1_2_relu_2_post_act_fake_quantizer\n",
      "[MQBENCH] INFO: Insert act quant layer2_0_relu_post_act_fake_quantizer\n",
      "[MQBENCH] INFO: Insert act quant layer2_0_relu_1_post_act_fake_quantizer\n",
      "[MQBENCH] INFO: Insert act quant layer2_0_relu_2_post_act_fake_quantizer\n",
      "[MQBENCH] INFO: Insert act quant layer2_1_relu_post_act_fake_quantizer\n",
      "[MQBENCH] INFO: Insert act quant layer2_1_relu_1_post_act_fake_quantizer\n",
      "[MQBENCH] INFO: Insert act quant layer2_1_relu_2_post_act_fake_quantizer\n",
      "[MQBENCH] INFO: Insert act quant layer2_2_relu_post_act_fake_quantizer\n",
      "[MQBENCH] INFO: Insert act quant layer2_2_relu_1_post_act_fake_quantizer\n",
      "[MQBENCH] INFO: Insert act quant layer2_2_relu_2_post_act_fake_quantizer\n",
      "[MQBENCH] INFO: Insert act quant layer2_3_relu_post_act_fake_quantizer\n",
      "[MQBENCH] INFO: Insert act quant layer2_3_relu_1_post_act_fake_quantizer\n",
      "[MQBENCH] INFO: Insert act quant layer2_3_relu_2_post_act_fake_quantizer\n",
      "[MQBENCH] INFO: Insert act quant layer3_0_relu_post_act_fake_quantizer\n",
      "[MQBENCH] INFO: Insert act quant layer3_0_relu_1_post_act_fake_quantizer\n",
      "[MQBENCH] INFO: Insert act quant layer3_0_relu_2_post_act_fake_quantizer\n",
      "[MQBENCH] INFO: Insert act quant layer3_1_relu_post_act_fake_quantizer\n",
      "[MQBENCH] INFO: Insert act quant layer3_1_relu_1_post_act_fake_quantizer\n",
      "[MQBENCH] INFO: Insert act quant layer3_1_relu_2_post_act_fake_quantizer\n",
      "[MQBENCH] INFO: Insert act quant layer3_2_relu_post_act_fake_quantizer\n",
      "[MQBENCH] INFO: Insert act quant layer3_2_relu_1_post_act_fake_quantizer\n",
      "[MQBENCH] INFO: Insert act quant layer3_2_relu_2_post_act_fake_quantizer\n",
      "[MQBENCH] INFO: Insert act quant layer3_3_relu_post_act_fake_quantizer\n",
      "[MQBENCH] INFO: Insert act quant layer3_3_relu_1_post_act_fake_quantizer\n",
      "[MQBENCH] INFO: Insert act quant layer3_3_relu_2_post_act_fake_quantizer\n",
      "[MQBENCH] INFO: Insert act quant layer3_4_relu_post_act_fake_quantizer\n",
      "[MQBENCH] INFO: Insert act quant layer3_4_relu_1_post_act_fake_quantizer\n",
      "[MQBENCH] INFO: Insert act quant layer3_4_relu_2_post_act_fake_quantizer\n",
      "[MQBENCH] INFO: Insert act quant layer3_5_relu_post_act_fake_quantizer\n",
      "[MQBENCH] INFO: Insert act quant layer3_5_relu_1_post_act_fake_quantizer\n",
      "[MQBENCH] INFO: Insert act quant layer3_5_relu_2_post_act_fake_quantizer\n",
      "[MQBENCH] INFO: Insert act quant layer4_0_relu_post_act_fake_quantizer\n",
      "[MQBENCH] INFO: Insert act quant layer4_0_relu_1_post_act_fake_quantizer\n",
      "[MQBENCH] INFO: Insert act quant layer4_0_relu_2_post_act_fake_quantizer\n",
      "[MQBENCH] INFO: Insert act quant layer4_1_relu_post_act_fake_quantizer\n",
      "[MQBENCH] INFO: Insert act quant layer4_1_relu_1_post_act_fake_quantizer\n",
      "[MQBENCH] INFO: Insert act quant layer4_1_relu_2_post_act_fake_quantizer\n",
      "[MQBENCH] INFO: Insert act quant layer4_2_relu_post_act_fake_quantizer\n",
      "[MQBENCH] INFO: Insert act quant layer4_2_relu_1_post_act_fake_quantizer\n",
      "[MQBENCH] INFO: Set flatten post act quantize to 8 bit.\n",
      "[MQBENCH] INFO: Insert act quant flatten_post_act_fake_quantizer\n",
      "[MQBENCH] INFO: Enable observer and Disable quantize.\n"
     ]
    }
   ],
   "source": [
    "# configuration\n",
    "ptq_reconstruction_config_init = {\n",
    "    'pattern': 'block',                   #? 'layer' for Adaround or 'block' for BRECQ and QDROP\n",
    "    'scale_lr': 4.0e-5,                   #? learning rate for learning step size of activation\n",
    "    'warm_up': 0.2,                       #? 0.2 * max_count iters without regularization to floor or ceil\n",
    "    'weight': 0.01,                       #? loss weight for regularization item\n",
    "    'max_count': 1,                   #? optimization iteration\n",
    "    'b_range': [20,2],                    #? beta decaying range\n",
    "    'keep_gpu': True,                     #? calibration data restore in gpu or cpu\n",
    "    'round_mode': 'learned_hard_sigmoid', #? ways to reconstruct the weight, currently only support learned_hard_sigmoid\n",
    "    'prob': 0.5,                          #? dropping probability of QDROP, 1.0 for Adaround and BRECQ\n",
    "}\n",
    "\n",
    "\n",
    "ptq_reconstruction_config = {\n",
    "    'pattern': 'block',                   #? 'layer' for Adaround or 'block' for BRECQ and QDROP\n",
    "    'scale_lr': 4.0e-5,                   #? learning rate for learning step size of activation\n",
    "    'warm_up': 0.2,                       #? 0.2 * max_count iters without regularization to floor or ceil\n",
    "    'weight': 0.01,                       #? loss weight for regularization item\n",
    "    'max_count': 20000,                   #? optimization iteration\n",
    "    'b_range': [20,2],                    #? beta decaying range\n",
    "    'keep_gpu': True,                     #? calibration data restore in gpu or cpu\n",
    "    'round_mode': 'learned_hard_sigmoid', #? ways to reconstruct the weight, currently only support learned_hard_sigmoid\n",
    "    'prob': 0.5,                          #? dropping probability of QDROP, 1.0 for Adaround and BRECQ\n",
    "}\n",
    "\n",
    "class dotdict(dict):\n",
    "    \"\"\"dot.notation access to dictionary attributes\"\"\"\n",
    "    __getattr__ = dict.get\n",
    "    __setattr__ = dict.__setitem__\n",
    "    __delattr__ = dict.__delitem__\n",
    "ptq_reconstruction_config = dotdict(ptq_reconstruction_config)\n",
    "ptq_reconstruction_config_init = dotdict(ptq_reconstruction_config_init)\n",
    "\n",
    "def getModuleByName(model,moduleName):\n",
    "    '''\n",
    "        replace module with name modelName.moduleName with newModule\n",
    "    '''\n",
    "    tokens = moduleName.split('.')\n",
    "    m = model\n",
    "    for tok in tokens:\n",
    "        m = getattr(m,tok)\n",
    "    return m\n",
    "\n",
    "for b in MPQ_scheme:\n",
    "    mqb_fp_model = deepcopy(model)\n",
    "    \n",
    "    # MSE calibration on model parameters\n",
    "    backend = BackendType.Academic\n",
    "    extra_config = {\n",
    "        'extra_qconfig_dict': {\n",
    "            'w_observer': 'MSEObserver',                              # custom weight observer\n",
    "            'a_observer': 'EMAMSEObserver',                              # custom activation observer\n",
    "            'w_fakequantize': 'AdaRoundFakeQuantize' if adv_ptq else 'FixedFakeQuantize',\n",
    "            'a_fakequantize': 'QDropFakeQuantize' if adv_ptq else 'FixedFakeQuantize',\n",
    "            'w_qscheme': {\n",
    "                'bit': b,                                             # custom bitwidth for weight,\n",
    "                'symmetry': True,                                    # custom whether quant is symmetric for weight,\n",
    "                'per_channel': False,                                  # custom whether quant is per-channel or per-tensor for weight,\n",
    "                'pot_scale': False,                                   # custom whether scale is power of two for weight.\n",
    "            },\n",
    "            'a_qscheme': {\n",
    "                'bit': 8,                                             # custom bitwidth for activation,\n",
    "                'symmetry': False,                                    # custom whether quant is symmetric for activation,\n",
    "                'per_channel': False,                                  # custom whether quant is per-channel or per-tensor for activation,\n",
    "                'pot_scale': False,                                   # custom whether scale is power of two for activation.\n",
    "            }\n",
    "        }                                                         # custom tracer behavior, checkout https://github.com/pytorch/pytorch/blob/efcbbb177eacdacda80b94ad4ce34b9ed6cf687a/torch/fx/_symbolic_trace.py#L836\n",
    "    }\n",
    "    print(f'Prepare {b}bits model using MQBench')\n",
    "\n",
    "    exec(f'mqb_{b}bits_model=prepare_by_platform(mqb_fp_model, backend,extra_config).cuda()')\n",
    "    \n",
    "    # calibration loop\n",
    "    enable_calibration(eval(f'mqb_{b}bits_model'))\n",
    "    for img,label in calib_data:\n",
    "        eval(f'mqb_{b}bits_model')(img.cuda())\n",
    "    \n",
    "    if adv_ptq:\n",
    "        if os.path.exists(f'QDROP_{b}bits_{mn}.pt'):\n",
    "            exec(f'mqb_{b}bits_model=ptq_reconstruction(mqb_{b}bits_model, stacked_tensor, ptq_reconstruction_config_init).cuda()')\n",
    "            print(f'QDROP model already saved, now loading QDROP_{b}bits_{mn}.pt')\n",
    "            load_from = f'QDROP_{b}bits_{mn}.pt'\n",
    "            exec(f'mqb_{b}bits_model.load_state_dict(torch.load(load_from))')\n",
    "        else:\n",
    "            \n",
    "            exec(f'mqb_{b}bits_model=ptq_reconstruction(mqb_{b}bits_model, stacked_tensor, ptq_reconstruction_config).cuda()')\n",
    "            print(f'saving QDROP tuned model: QDROP_{b}bits_{mn}.pt...')\n",
    "            torch.save(eval(f'mqb_{b}bits_model').state_dict(),f'QDROP_{b}bits_{mn}.pt')"
   ]
  },
  {
   "cell_type": "code",
   "execution_count": 7,
   "id": "9c08c97b",
   "metadata": {},
   "outputs": [
    {
     "name": "stdout",
     "output_type": "stream",
     "text": [
      "[MQBENCH] INFO: Disable observer and Disable quantize.\n",
      "[MQBENCH] INFO: Disable observer and Enable quantize.\n",
      "evaluate mqb quantized model\n",
      "{'top1': tensor([0.0780], device='cuda:0'), 'top5': tensor([0.5000], device='cuda:0'), 'loss': tensor(6.9105, device='cuda:0'), 'time': 131.25816941261292}\n",
      "[MQBENCH] INFO: Disable observer and Disable quantize.\n",
      "[MQBENCH] INFO: Disable observer and Enable quantize.\n",
      "evaluate mqb quantized model\n",
      "{'top1': tensor([44.4021], device='cuda:0'), 'top5': tensor([69.3261], device='cuda:0'), 'loss': tensor(2.6122, device='cuda:0'), 'time': 103.63284277915955}\n",
      "[MQBENCH] INFO: Disable observer and Disable quantize.\n",
      "[MQBENCH] INFO: Disable observer and Enable quantize.\n",
      "evaluate mqb quantized model\n",
      "{'top1': tensor([75.9601], device='cuda:0'), 'top5': tensor([92.7021], device='cuda:0'), 'loss': tensor(0.9644, device='cuda:0'), 'time': 104.68781566619873}\n"
     ]
    }
   ],
   "source": [
    "for b in MPQ_scheme: \n",
    "    disable_all(eval(f'mqb_{b}bits_model'))\n",
    "    # evaluation loop\n",
    "    enable_quantization(eval(f'mqb_{b}bits_model'))\n",
    "    eval(f'mqb_{b}bits_model').eval()\n",
    "    print('evaluate mqb quantized model')\n",
    "    print(evaluate(test,eval(f'mqb_{b}bits_model')))"
   ]
  },
  {
   "cell_type": "code",
   "execution_count": 8,
   "id": "4f1d8226",
   "metadata": {
    "scrolled": true
   },
   "outputs": [
    {
     "name": "stdout",
     "output_type": "stream",
     "text": [
      "[MQBENCH] INFO: Disable observer and Disable quantize.\n",
      "input of  conv1  is  x_post_act_fake_quantizer\n",
      "input of  layer1.0.conv1  is  maxpool_post_act_fake_quantizer\n",
      "input of  layer1.0.conv2  is  layer1_0_relu_post_act_fake_quantizer\n",
      "input of  layer1.0.conv3  is  layer1_0_relu_1_post_act_fake_quantizer\n",
      "input of  layer1.0.downsample.0  is  maxpool_post_act_fake_quantizer\n",
      "input of  layer1.1.conv1  is  layer1_0_relu_2_post_act_fake_quantizer\n",
      "input of  layer1.1.conv2  is  layer1_1_relu_post_act_fake_quantizer\n",
      "input of  layer1.1.conv3  is  layer1_1_relu_1_post_act_fake_quantizer\n",
      "input of  layer1.2.conv1  is  layer1_1_relu_2_post_act_fake_quantizer\n",
      "input of  layer1.2.conv2  is  layer1_2_relu_post_act_fake_quantizer\n",
      "input of  layer1.2.conv3  is  layer1_2_relu_1_post_act_fake_quantizer\n",
      "input of  layer2.0.conv1  is  layer1_2_relu_2_post_act_fake_quantizer\n",
      "input of  layer2.0.conv2  is  layer2_0_relu_post_act_fake_quantizer\n",
      "input of  layer2.0.conv3  is  layer2_0_relu_1_post_act_fake_quantizer\n",
      "input of  layer2.0.downsample.0  is  layer1_2_relu_2_post_act_fake_quantizer\n",
      "input of  layer2.1.conv1  is  layer2_0_relu_2_post_act_fake_quantizer\n",
      "input of  layer2.1.conv2  is  layer2_1_relu_post_act_fake_quantizer\n",
      "input of  layer2.1.conv3  is  layer2_1_relu_1_post_act_fake_quantizer\n",
      "input of  layer2.2.conv1  is  layer2_1_relu_2_post_act_fake_quantizer\n",
      "input of  layer2.2.conv2  is  layer2_2_relu_post_act_fake_quantizer\n",
      "input of  layer2.2.conv3  is  layer2_2_relu_1_post_act_fake_quantizer\n",
      "input of  layer2.3.conv1  is  layer2_2_relu_2_post_act_fake_quantizer\n",
      "input of  layer2.3.conv2  is  layer2_3_relu_post_act_fake_quantizer\n",
      "input of  layer2.3.conv3  is  layer2_3_relu_1_post_act_fake_quantizer\n",
      "input of  layer3.0.conv1  is  layer2_3_relu_2_post_act_fake_quantizer\n",
      "input of  layer3.0.conv2  is  layer3_0_relu_post_act_fake_quantizer\n",
      "input of  layer3.0.conv3  is  layer3_0_relu_1_post_act_fake_quantizer\n",
      "input of  layer3.0.downsample.0  is  layer2_3_relu_2_post_act_fake_quantizer\n",
      "input of  layer3.1.conv1  is  layer3_0_relu_2_post_act_fake_quantizer\n",
      "input of  layer3.1.conv2  is  layer3_1_relu_post_act_fake_quantizer\n",
      "input of  layer3.1.conv3  is  layer3_1_relu_1_post_act_fake_quantizer\n",
      "input of  layer3.2.conv1  is  layer3_1_relu_2_post_act_fake_quantizer\n",
      "input of  layer3.2.conv2  is  layer3_2_relu_post_act_fake_quantizer\n",
      "input of  layer3.2.conv3  is  layer3_2_relu_1_post_act_fake_quantizer\n",
      "input of  layer3.3.conv1  is  layer3_2_relu_2_post_act_fake_quantizer\n",
      "input of  layer3.3.conv2  is  layer3_3_relu_post_act_fake_quantizer\n",
      "input of  layer3.3.conv3  is  layer3_3_relu_1_post_act_fake_quantizer\n",
      "input of  layer3.4.conv1  is  layer3_3_relu_2_post_act_fake_quantizer\n",
      "input of  layer3.4.conv2  is  layer3_4_relu_post_act_fake_quantizer\n",
      "input of  layer3.4.conv3  is  layer3_4_relu_1_post_act_fake_quantizer\n",
      "input of  layer3.5.conv1  is  layer3_4_relu_2_post_act_fake_quantizer\n",
      "input of  layer3.5.conv2  is  layer3_5_relu_post_act_fake_quantizer\n",
      "input of  layer3.5.conv3  is  layer3_5_relu_1_post_act_fake_quantizer\n",
      "input of  layer4.0.conv1  is  layer3_5_relu_2_post_act_fake_quantizer\n",
      "input of  layer4.0.conv2  is  layer4_0_relu_post_act_fake_quantizer\n",
      "input of  layer4.0.conv3  is  layer4_0_relu_1_post_act_fake_quantizer\n",
      "input of  layer4.0.downsample.0  is  layer3_5_relu_2_post_act_fake_quantizer\n",
      "input of  layer4.1.conv1  is  layer4_0_relu_2_post_act_fake_quantizer\n",
      "input of  layer4.1.conv2  is  layer4_1_relu_post_act_fake_quantizer\n",
      "input of  layer4.1.conv3  is  layer4_1_relu_1_post_act_fake_quantizer\n",
      "input of  layer4.2.conv1  is  layer4_1_relu_2_post_act_fake_quantizer\n",
      "input of  layer4.2.conv2  is  layer4_2_relu_post_act_fake_quantizer\n",
      "input of  layer4.2.conv3  is  layer4_2_relu_1_post_act_fake_quantizer\n",
      "input of  fc  is  flatten_post_act_fake_quantizer\n"
     ]
    }
   ],
   "source": [
    "mqb_fp_model = deepcopy(mqb_8bits_model)\n",
    "disable_all(mqb_fp_model)\n",
    "mqb_mix_model = deepcopy(mqb_fp_model)\n",
    "\n",
    "# 1. record all modules we want to consider\n",
    "types_to_quant = (torch.nn.Conv2d,torch.nn.Linear)\n",
    "\n",
    "layer_input_map = {}\n",
    "\n",
    "for node in mqb_8bits_model.graph.nodes:\n",
    "    try:\n",
    "        node_target = getModuleByName(mqb_mix_model,node.target)\n",
    "        if isinstance(node_target,types_to_quant):\n",
    "            node_args = node.args[0]\n",
    "            print('input of ',node.target,' is ',node_args)\n",
    "            layer_input_map[node.target] = str(node_args.target)\n",
    "    except:\n",
    "        continue"
   ]
  },
  {
   "cell_type": "code",
   "execution_count": null,
   "id": "51e5cf5b",
   "metadata": {},
   "outputs": [],
   "source": [
    "ref_metric = ('mean_acc',evaluate(test,mqb_fp_model)['mean_acc'])\n",
    "ref_metric = ('mean_loss',evaluate(calib_data,mqb_fp_model)['mean_loss'])"
   ]
  },
  {
   "cell_type": "code",
   "execution_count": 9,
   "id": "ecaa6af1",
   "metadata": {},
   "outputs": [],
   "source": [
    "ref_metric = ('loss',evaluate(calib_data,mqb_fp_model)['loss'])"
   ]
  },
  {
   "cell_type": "code",
   "execution_count": 10,
   "id": "bdeec63b",
   "metadata": {},
   "outputs": [],
   "source": [
    "def perturb(perturb_scheme):\n",
    "    # perturb_scheme: {layer_name:(act_bits,weight_bits)}\n",
    "    for layer_name in perturb_scheme:\n",
    "        a_bits,w_bits = perturb_scheme[layer_name]\n",
    "        \n",
    "        if w_bits is not None:\n",
    "            mix_module = getModuleByName(mqb_mix_model,layer_name)\n",
    "            tar_module = getModuleByName(eval(f'mqb_{w_bits}bits_model'),layer_name)\n",
    "            # replace weight quant to use a_bits quantization\n",
    "            w_cmd = f'mix_module.weight_fake_quant=tar_module.weight_fake_quant'\n",
    "            exec(w_cmd)\n",
    "        \n",
    "        if a_bits is not None:\n",
    "        \n",
    "            # replace act quant to use w_bits quantization\n",
    "            a_cmd = f'mqb_mix_model.{layer_input_map[layer_name]}=mqb_{a_bits}bits_model.{layer_input_map[layer_name]}'\n",
    "            exec(a_cmd)\n",
    "        \n",
    "        #print(layer_name)\n",
    "        #print(a_cmd)\n",
    "        #print(w_cmd)\n"
   ]
  },
  {
   "cell_type": "code",
   "execution_count": null,
   "id": "8ee550ee",
   "metadata": {},
   "outputs": [],
   "source": [
    "# perturb functionality test\n",
    "perturb_scheme = {}\n",
    "for layer_name in layer_input_map:\n",
    "    perturb_scheme[layer_name] = (8,8)\n",
    "perturb(perturb_scheme)"
   ]
  },
  {
   "cell_type": "code",
   "execution_count": null,
   "id": "42af6e8d",
   "metadata": {},
   "outputs": [],
   "source": [
    "evaluate(test,mqb_mix_model)"
   ]
  },
  {
   "cell_type": "code",
   "execution_count": null,
   "id": "6987f2a0",
   "metadata": {},
   "outputs": [],
   "source": [
    "mqb_mix_model = deepcopy(mqb_8bits_model)\n",
    "disable_all(mqb_mix_model)\n",
    "evaluate(test,mqb_mix_model)"
   ]
  },
  {
   "cell_type": "markdown",
   "id": "8846ea48",
   "metadata": {},
   "source": [
    "## CLADO"
   ]
  },
  {
   "cell_type": "code",
   "execution_count": 11,
   "id": "aa6716b0",
   "metadata": {},
   "outputs": [],
   "source": [
    "import torch.nn.functional as F\n",
    "kl_loss = torch.nn.KLDivLoss(reduction=\"batchmean\")\n",
    "def kldiv(quant_logit,fp_logit):\n",
    "    inp = F.log_softmax(quant_logit,dim=-1)\n",
    "    tar = F.softmax(fp_logit,dim=-1)\n",
    "    return kl_loss(inp,tar)\n",
    "\n",
    "def perturb_loss(perturb_scheme,ref_metric=ref_metric,\n",
    "                 eval_data=calib_data,printInfo=False,KL=False):\n",
    "    \n",
    "    global mqb_mix_model\n",
    "    mqb_mix_model.eval()\n",
    "    \n",
    "    with torch.no_grad():\n",
    "        # perturb layers\n",
    "        perturb(perturb_scheme)\n",
    "            \n",
    "        # do evaluation\n",
    "        if not KL:\n",
    "            res = evaluate(eval_data,mqb_mix_model)\n",
    "            perturbed_loss = res[ref_metric[0]] - ref_metric[1]\n",
    "        else:\n",
    "            perturbed_loss = []\n",
    "            \n",
    "            for (data,fp_out) in zip(calib_data,calib_fp_output):\n",
    "                img,label = data\n",
    "                quant_out = mqb_mix_model(img.cuda())\n",
    "                perturbed_loss.append(kldiv(quant_out,fp_out))\n",
    "            #print(perturbed_loss)\n",
    "            perturbed_loss = torch.tensor(perturbed_loss).mean()    \n",
    "        \n",
    "        if printInfo:\n",
    "            print(f'use kl {KL} perturbed loss {perturbed_loss}')\n",
    "        \n",
    "        # recover layers\n",
    "        mqb_mix_model = deepcopy(mqb_fp_model)\n",
    "            \n",
    "    return perturbed_loss"
   ]
  },
  {
   "cell_type": "code",
   "execution_count": null,
   "id": "de4162ce",
   "metadata": {},
   "outputs": [],
   "source": [
    "# perturb loss functionality check\n",
    "# del layer_input_map['conv1']\n",
    "# del layer_input_map['fc']\n",
    "\n",
    "# for layer in layer_input_map:\n",
    "#     for a_bits in MPQ_scheme:\n",
    "#         for w_bits in MPQ_scheme:\n",
    "#             print(f'{layer} (a:{a_bits} bits,w:{w_bits} bits))')\n",
    "#             p = perturb_loss({layer:(a_bits,w_bits)},eval_data=test,printInfo=True,KL=False)\n",
    "#             #print(f'{layer} (a:{a_bits} bits,w:{w_bits} bits), accuracy degradation: {p*100:.2f}%')"
   ]
  },
  {
   "cell_type": "markdown",
   "id": "e47dd85f",
   "metadata": {},
   "source": [
    "## Build Cached Grad if not done before"
   ]
  },
  {
   "cell_type": "code",
   "execution_count": null,
   "id": "7319de56",
   "metadata": {},
   "outputs": [],
   "source": [
    "del layer_input_map['conv1']\n",
    "del layer_input_map['fc']\n",
    "\n",
    "import time\n",
    "s_time = time.time()\n",
    "cached = {}\n",
    "aw_scheme = []\n",
    "for a_bits in MPQ_scheme:\n",
    "    for w_bits in MPQ_scheme:\n",
    "        aw_scheme.append((a_bits,w_bits))\n",
    "\n",
    "aw_scheme = [(8,2),(8,4),(8,8)]"
   ]
  },
  {
   "cell_type": "code",
   "execution_count": null,
   "id": "89d37d7a",
   "metadata": {},
   "outputs": [],
   "source": [
    "aw_scheme"
   ]
  },
  {
   "cell_type": "code",
   "execution_count": null,
   "id": "8f370df0",
   "metadata": {},
   "outputs": [],
   "source": [
    "KL=True\n",
    "for n in layer_input_map:\n",
    "    for m in layer_input_map:\n",
    "        for naw in aw_scheme:\n",
    "            for maw in aw_scheme:\n",
    "                if (n,m,naw,maw) not in cached:\n",
    "                    if n == m:\n",
    "                        if naw == maw:\n",
    "                            \n",
    "                            p = perturb_loss({n:naw},ref_metric,calib_data,KL=KL)\n",
    "                            print(f'perturb layer {n} to A{naw[0]}W{naw[1]} p={p}')\n",
    "                        else:\n",
    "                            p = 0\n",
    "\n",
    "                    else:\n",
    "                        \n",
    "                        p = perturb_loss({n:naw,m:maw},ref_metric,calib_data,KL=KL)\n",
    "                        print(f'perturb layer {n} to A{naw[0]}W{naw[1]} and layer {m} to A{maw[0]}W{maw[1]} p={p}')\n",
    "                    \n",
    "                    cached[(n,m,naw,maw)] = cached[(m,n,maw,naw)] = p\n",
    "                    \n",
    "print(f'{time.time()-s_time:.2f} seconds elapsed')"
   ]
  },
  {
   "cell_type": "code",
   "execution_count": null,
   "id": "7cf90f5d",
   "metadata": {},
   "outputs": [],
   "source": [
    "cached"
   ]
  },
  {
   "cell_type": "code",
   "execution_count": null,
   "id": "239967a5",
   "metadata": {},
   "outputs": [],
   "source": [
    "layer_index = {}\n",
    "cnt = 0\n",
    "for layer in layer_input_map:\n",
    "    for s in aw_scheme:\n",
    "        layer_index[layer+f'{s}bits'] = cnt\n",
    "        cnt += 1\n",
    "L = cnt"
   ]
  },
  {
   "cell_type": "code",
   "execution_count": null,
   "id": "ece828de",
   "metadata": {},
   "outputs": [],
   "source": [
    "layer_index"
   ]
  },
  {
   "cell_type": "code",
   "execution_count": null,
   "id": "c3fb4786",
   "metadata": {},
   "outputs": [],
   "source": [
    "import numpy as np\n",
    "hm = np.zeros(shape=(L,L))\n",
    "for n in layer_input_map:\n",
    "    for m in layer_input_map:\n",
    "        for naw in aw_scheme:\n",
    "            for maw in aw_scheme:\n",
    "                hm[layer_index[n+f'{naw}bits'],layer_index[m+f'{maw}bits']] = cached[(n,m,naw,maw)]"
   ]
  },
  {
   "cell_type": "code",
   "execution_count": null,
   "id": "2a31472c",
   "metadata": {},
   "outputs": [],
   "source": [
    "cached_grad = np.zeros_like(hm)"
   ]
  },
  {
   "cell_type": "code",
   "execution_count": null,
   "id": "f99559c6",
   "metadata": {},
   "outputs": [],
   "source": [
    "import pickle\n",
    "with open('generala248w248_i1kresnet50_calib','wb') as f:\n",
    "    pickle.dump({'Ltilde':hm,'layer_index':layer_index},f)"
   ]
  },
  {
   "cell_type": "code",
   "execution_count": null,
   "id": "9644eaeb",
   "metadata": {},
   "outputs": [],
   "source": [
    "perturb_loss(['conv1',],ref_metric,eval_data=calib_data)"
   ]
  },
  {
   "cell_type": "markdown",
   "id": "babc001d",
   "metadata": {},
   "source": [
    "## Load Cached Grad"
   ]
  },
  {
   "cell_type": "code",
   "execution_count": 47,
   "id": "498e1ffc",
   "metadata": {},
   "outputs": [],
   "source": [
    "import pickle\n",
    "import numpy as np\n",
    "# with open('generala248w248_c100resnet56_calib','rb') as f:\n",
    "# with open('CachedGrad_QDROP(2, 4, 8)cifar100_resnet56.pkl','rb') as f:\n",
    "with open('CachedGrad_((8, 2), (8, 4), (8, 8))i1k_resnet50KL.pkl','rb') as f:\n",
    "    hm = pickle.load(f)"
   ]
  },
  {
   "cell_type": "code",
   "execution_count": 48,
   "id": "bb1de436",
   "metadata": {},
   "outputs": [
    {
     "data": {
      "text/plain": [
       "dict_keys(['Ltilde', 'layer_index'])"
      ]
     },
     "execution_count": 48,
     "metadata": {},
     "output_type": "execute_result"
    }
   ],
   "source": [
    "hm.keys()"
   ]
  },
  {
   "cell_type": "code",
   "execution_count": 49,
   "id": "bdf70d07",
   "metadata": {},
   "outputs": [
    {
     "data": {
      "text/plain": [
       "{'layer1.0.conv1(8, 2)bits': 0,\n",
       " 'layer1.0.conv1(8, 4)bits': 1,\n",
       " 'layer1.0.conv1(8, 8)bits': 2,\n",
       " 'layer1.0.conv2(8, 2)bits': 3,\n",
       " 'layer1.0.conv2(8, 4)bits': 4,\n",
       " 'layer1.0.conv2(8, 8)bits': 5,\n",
       " 'layer1.0.conv3(8, 2)bits': 6,\n",
       " 'layer1.0.conv3(8, 4)bits': 7,\n",
       " 'layer1.0.conv3(8, 8)bits': 8,\n",
       " 'layer1.0.downsample.0(8, 2)bits': 9,\n",
       " 'layer1.0.downsample.0(8, 4)bits': 10,\n",
       " 'layer1.0.downsample.0(8, 8)bits': 11,\n",
       " 'layer1.1.conv1(8, 2)bits': 12,\n",
       " 'layer1.1.conv1(8, 4)bits': 13,\n",
       " 'layer1.1.conv1(8, 8)bits': 14,\n",
       " 'layer1.1.conv2(8, 2)bits': 15,\n",
       " 'layer1.1.conv2(8, 4)bits': 16,\n",
       " 'layer1.1.conv2(8, 8)bits': 17,\n",
       " 'layer1.1.conv3(8, 2)bits': 18,\n",
       " 'layer1.1.conv3(8, 4)bits': 19,\n",
       " 'layer1.1.conv3(8, 8)bits': 20,\n",
       " 'layer1.2.conv1(8, 2)bits': 21,\n",
       " 'layer1.2.conv1(8, 4)bits': 22,\n",
       " 'layer1.2.conv1(8, 8)bits': 23,\n",
       " 'layer1.2.conv2(8, 2)bits': 24,\n",
       " 'layer1.2.conv2(8, 4)bits': 25,\n",
       " 'layer1.2.conv2(8, 8)bits': 26,\n",
       " 'layer1.2.conv3(8, 2)bits': 27,\n",
       " 'layer1.2.conv3(8, 4)bits': 28,\n",
       " 'layer1.2.conv3(8, 8)bits': 29,\n",
       " 'layer2.0.conv1(8, 2)bits': 30,\n",
       " 'layer2.0.conv1(8, 4)bits': 31,\n",
       " 'layer2.0.conv1(8, 8)bits': 32,\n",
       " 'layer2.0.conv2(8, 2)bits': 33,\n",
       " 'layer2.0.conv2(8, 4)bits': 34,\n",
       " 'layer2.0.conv2(8, 8)bits': 35,\n",
       " 'layer2.0.conv3(8, 2)bits': 36,\n",
       " 'layer2.0.conv3(8, 4)bits': 37,\n",
       " 'layer2.0.conv3(8, 8)bits': 38,\n",
       " 'layer2.0.downsample.0(8, 2)bits': 39,\n",
       " 'layer2.0.downsample.0(8, 4)bits': 40,\n",
       " 'layer2.0.downsample.0(8, 8)bits': 41,\n",
       " 'layer2.1.conv1(8, 2)bits': 42,\n",
       " 'layer2.1.conv1(8, 4)bits': 43,\n",
       " 'layer2.1.conv1(8, 8)bits': 44,\n",
       " 'layer2.1.conv2(8, 2)bits': 45,\n",
       " 'layer2.1.conv2(8, 4)bits': 46,\n",
       " 'layer2.1.conv2(8, 8)bits': 47,\n",
       " 'layer2.1.conv3(8, 2)bits': 48,\n",
       " 'layer2.1.conv3(8, 4)bits': 49,\n",
       " 'layer2.1.conv3(8, 8)bits': 50,\n",
       " 'layer2.2.conv1(8, 2)bits': 51,\n",
       " 'layer2.2.conv1(8, 4)bits': 52,\n",
       " 'layer2.2.conv1(8, 8)bits': 53,\n",
       " 'layer2.2.conv2(8, 2)bits': 54,\n",
       " 'layer2.2.conv2(8, 4)bits': 55,\n",
       " 'layer2.2.conv2(8, 8)bits': 56,\n",
       " 'layer2.2.conv3(8, 2)bits': 57,\n",
       " 'layer2.2.conv3(8, 4)bits': 58,\n",
       " 'layer2.2.conv3(8, 8)bits': 59,\n",
       " 'layer2.3.conv1(8, 2)bits': 60,\n",
       " 'layer2.3.conv1(8, 4)bits': 61,\n",
       " 'layer2.3.conv1(8, 8)bits': 62,\n",
       " 'layer2.3.conv2(8, 2)bits': 63,\n",
       " 'layer2.3.conv2(8, 4)bits': 64,\n",
       " 'layer2.3.conv2(8, 8)bits': 65,\n",
       " 'layer2.3.conv3(8, 2)bits': 66,\n",
       " 'layer2.3.conv3(8, 4)bits': 67,\n",
       " 'layer2.3.conv3(8, 8)bits': 68,\n",
       " 'layer3.0.conv1(8, 2)bits': 69,\n",
       " 'layer3.0.conv1(8, 4)bits': 70,\n",
       " 'layer3.0.conv1(8, 8)bits': 71,\n",
       " 'layer3.0.conv2(8, 2)bits': 72,\n",
       " 'layer3.0.conv2(8, 4)bits': 73,\n",
       " 'layer3.0.conv2(8, 8)bits': 74,\n",
       " 'layer3.0.conv3(8, 2)bits': 75,\n",
       " 'layer3.0.conv3(8, 4)bits': 76,\n",
       " 'layer3.0.conv3(8, 8)bits': 77,\n",
       " 'layer3.0.downsample.0(8, 2)bits': 78,\n",
       " 'layer3.0.downsample.0(8, 4)bits': 79,\n",
       " 'layer3.0.downsample.0(8, 8)bits': 80,\n",
       " 'layer3.1.conv1(8, 2)bits': 81,\n",
       " 'layer3.1.conv1(8, 4)bits': 82,\n",
       " 'layer3.1.conv1(8, 8)bits': 83,\n",
       " 'layer3.1.conv2(8, 2)bits': 84,\n",
       " 'layer3.1.conv2(8, 4)bits': 85,\n",
       " 'layer3.1.conv2(8, 8)bits': 86,\n",
       " 'layer3.1.conv3(8, 2)bits': 87,\n",
       " 'layer3.1.conv3(8, 4)bits': 88,\n",
       " 'layer3.1.conv3(8, 8)bits': 89,\n",
       " 'layer3.2.conv1(8, 2)bits': 90,\n",
       " 'layer3.2.conv1(8, 4)bits': 91,\n",
       " 'layer3.2.conv1(8, 8)bits': 92,\n",
       " 'layer3.2.conv2(8, 2)bits': 93,\n",
       " 'layer3.2.conv2(8, 4)bits': 94,\n",
       " 'layer3.2.conv2(8, 8)bits': 95,\n",
       " 'layer3.2.conv3(8, 2)bits': 96,\n",
       " 'layer3.2.conv3(8, 4)bits': 97,\n",
       " 'layer3.2.conv3(8, 8)bits': 98,\n",
       " 'layer3.3.conv1(8, 2)bits': 99,\n",
       " 'layer3.3.conv1(8, 4)bits': 100,\n",
       " 'layer3.3.conv1(8, 8)bits': 101,\n",
       " 'layer3.3.conv2(8, 2)bits': 102,\n",
       " 'layer3.3.conv2(8, 4)bits': 103,\n",
       " 'layer3.3.conv2(8, 8)bits': 104,\n",
       " 'layer3.3.conv3(8, 2)bits': 105,\n",
       " 'layer3.3.conv3(8, 4)bits': 106,\n",
       " 'layer3.3.conv3(8, 8)bits': 107,\n",
       " 'layer3.4.conv1(8, 2)bits': 108,\n",
       " 'layer3.4.conv1(8, 4)bits': 109,\n",
       " 'layer3.4.conv1(8, 8)bits': 110,\n",
       " 'layer3.4.conv2(8, 2)bits': 111,\n",
       " 'layer3.4.conv2(8, 4)bits': 112,\n",
       " 'layer3.4.conv2(8, 8)bits': 113,\n",
       " 'layer3.4.conv3(8, 2)bits': 114,\n",
       " 'layer3.4.conv3(8, 4)bits': 115,\n",
       " 'layer3.4.conv3(8, 8)bits': 116,\n",
       " 'layer3.5.conv1(8, 2)bits': 117,\n",
       " 'layer3.5.conv1(8, 4)bits': 118,\n",
       " 'layer3.5.conv1(8, 8)bits': 119,\n",
       " 'layer3.5.conv2(8, 2)bits': 120,\n",
       " 'layer3.5.conv2(8, 4)bits': 121,\n",
       " 'layer3.5.conv2(8, 8)bits': 122,\n",
       " 'layer3.5.conv3(8, 2)bits': 123,\n",
       " 'layer3.5.conv3(8, 4)bits': 124,\n",
       " 'layer3.5.conv3(8, 8)bits': 125,\n",
       " 'layer4.0.conv1(8, 2)bits': 126,\n",
       " 'layer4.0.conv1(8, 4)bits': 127,\n",
       " 'layer4.0.conv1(8, 8)bits': 128,\n",
       " 'layer4.0.conv2(8, 2)bits': 129,\n",
       " 'layer4.0.conv2(8, 4)bits': 130,\n",
       " 'layer4.0.conv2(8, 8)bits': 131,\n",
       " 'layer4.0.conv3(8, 2)bits': 132,\n",
       " 'layer4.0.conv3(8, 4)bits': 133,\n",
       " 'layer4.0.conv3(8, 8)bits': 134,\n",
       " 'layer4.0.downsample.0(8, 2)bits': 135,\n",
       " 'layer4.0.downsample.0(8, 4)bits': 136,\n",
       " 'layer4.0.downsample.0(8, 8)bits': 137,\n",
       " 'layer4.1.conv1(8, 2)bits': 138,\n",
       " 'layer4.1.conv1(8, 4)bits': 139,\n",
       " 'layer4.1.conv1(8, 8)bits': 140,\n",
       " 'layer4.1.conv2(8, 2)bits': 141,\n",
       " 'layer4.1.conv2(8, 4)bits': 142,\n",
       " 'layer4.1.conv2(8, 8)bits': 143,\n",
       " 'layer4.1.conv3(8, 2)bits': 144,\n",
       " 'layer4.1.conv3(8, 4)bits': 145,\n",
       " 'layer4.1.conv3(8, 8)bits': 146,\n",
       " 'layer4.2.conv1(8, 2)bits': 147,\n",
       " 'layer4.2.conv1(8, 4)bits': 148,\n",
       " 'layer4.2.conv1(8, 8)bits': 149,\n",
       " 'layer4.2.conv2(8, 2)bits': 150,\n",
       " 'layer4.2.conv2(8, 4)bits': 151,\n",
       " 'layer4.2.conv2(8, 8)bits': 152,\n",
       " 'layer4.2.conv3(8, 2)bits': 153,\n",
       " 'layer4.2.conv3(8, 4)bits': 154,\n",
       " 'layer4.2.conv3(8, 8)bits': 155}"
      ]
     },
     "execution_count": 49,
     "metadata": {},
     "output_type": "execute_result"
    }
   ],
   "source": [
    "hm['layer_index']"
   ]
  },
  {
   "cell_type": "code",
   "execution_count": 50,
   "id": "561a7c28",
   "metadata": {},
   "outputs": [
    {
     "data": {
      "text/plain": [
       "(156, 156)"
      ]
     },
     "execution_count": 50,
     "metadata": {},
     "output_type": "execute_result"
    }
   ],
   "source": [
    "hm['Ltilde'].shape"
   ]
  },
  {
   "cell_type": "code",
   "execution_count": 51,
   "id": "bf87d3f9",
   "metadata": {},
   "outputs": [
    {
     "name": "stdout",
     "output_type": "stream",
     "text": [
      "index 0 layer layer1.0.conv1 scheme (8, 2)bits Ltilde 0.130510\n",
      "index 1 layer layer1.0.conv1 scheme (8, 4)bits Ltilde 0.044633\n",
      "index 2 layer layer1.0.conv1 scheme (8, 8)bits Ltilde 0.001955\n",
      "index 3 layer layer1.0.conv2 scheme (8, 2)bits Ltilde 0.454489\n",
      "index 4 layer layer1.0.conv2 scheme (8, 4)bits Ltilde 0.096717\n",
      "index 5 layer layer1.0.conv2 scheme (8, 8)bits Ltilde 0.000384\n",
      "index 6 layer layer1.0.conv3 scheme (8, 2)bits Ltilde 0.676383\n",
      "index 7 layer layer1.0.conv3 scheme (8, 4)bits Ltilde 0.024555\n",
      "index 8 layer layer1.0.conv3 scheme (8, 8)bits Ltilde 0.000159\n",
      "index 9 layer layer1.0.downsample.0 scheme (8, 2)bits Ltilde 1.619576\n",
      "index 10 layer layer1.0.downsample.0 scheme (8, 4)bits Ltilde 0.197855\n",
      "index 11 layer layer1.0.downsample.0 scheme (8, 8)bits Ltilde 0.002924\n",
      "index 12 layer layer1.1.conv1 scheme (8, 2)bits Ltilde 0.161679\n",
      "index 13 layer layer1.1.conv1 scheme (8, 4)bits Ltilde 0.004693\n",
      "index 14 layer layer1.1.conv1 scheme (8, 8)bits Ltilde 0.000088\n",
      "index 15 layer layer1.1.conv2 scheme (8, 2)bits Ltilde 0.179423\n",
      "index 16 layer layer1.1.conv2 scheme (8, 4)bits Ltilde 0.009516\n",
      "index 17 layer layer1.1.conv2 scheme (8, 8)bits Ltilde 0.000305\n",
      "index 18 layer layer1.1.conv3 scheme (8, 2)bits Ltilde 0.105572\n",
      "index 19 layer layer1.1.conv3 scheme (8, 4)bits Ltilde 0.005363\n",
      "index 20 layer layer1.1.conv3 scheme (8, 8)bits Ltilde 0.000033\n",
      "index 21 layer layer1.2.conv1 scheme (8, 2)bits Ltilde 0.201656\n",
      "index 22 layer layer1.2.conv1 scheme (8, 4)bits Ltilde 0.002117\n",
      "index 23 layer layer1.2.conv1 scheme (8, 8)bits Ltilde 0.000083\n",
      "index 24 layer layer1.2.conv2 scheme (8, 2)bits Ltilde 1.068692\n",
      "index 25 layer layer1.2.conv2 scheme (8, 4)bits Ltilde 0.005736\n",
      "index 26 layer layer1.2.conv2 scheme (8, 8)bits Ltilde 0.000073\n",
      "index 27 layer layer1.2.conv3 scheme (8, 2)bits Ltilde 0.079466\n",
      "index 28 layer layer1.2.conv3 scheme (8, 4)bits Ltilde 0.004822\n",
      "index 29 layer layer1.2.conv3 scheme (8, 8)bits Ltilde 0.000033\n",
      "index 30 layer layer2.0.conv1 scheme (8, 2)bits Ltilde 0.271540\n",
      "index 31 layer layer2.0.conv1 scheme (8, 4)bits Ltilde 0.013600\n",
      "index 32 layer layer2.0.conv1 scheme (8, 8)bits Ltilde 0.000175\n",
      "index 33 layer layer2.0.conv2 scheme (8, 2)bits Ltilde 0.546789\n",
      "index 34 layer layer2.0.conv2 scheme (8, 4)bits Ltilde 0.008969\n",
      "index 35 layer layer2.0.conv2 scheme (8, 8)bits Ltilde 0.000053\n",
      "index 36 layer layer2.0.conv3 scheme (8, 2)bits Ltilde 0.771775\n",
      "index 37 layer layer2.0.conv3 scheme (8, 4)bits Ltilde 0.029354\n",
      "index 38 layer layer2.0.conv3 scheme (8, 8)bits Ltilde 0.000289\n",
      "index 39 layer layer2.0.downsample.0 scheme (8, 2)bits Ltilde 0.941005\n",
      "index 40 layer layer2.0.downsample.0 scheme (8, 4)bits Ltilde 0.040544\n",
      "index 41 layer layer2.0.downsample.0 scheme (8, 8)bits Ltilde 0.000390\n",
      "index 42 layer layer2.1.conv1 scheme (8, 2)bits Ltilde 0.105454\n",
      "index 43 layer layer2.1.conv1 scheme (8, 4)bits Ltilde 0.005313\n",
      "index 44 layer layer2.1.conv1 scheme (8, 8)bits Ltilde 0.000048\n",
      "index 45 layer layer2.1.conv2 scheme (8, 2)bits Ltilde 0.816042\n",
      "index 46 layer layer2.1.conv2 scheme (8, 4)bits Ltilde 0.042021\n",
      "index 47 layer layer2.1.conv2 scheme (8, 8)bits Ltilde 0.000116\n",
      "index 48 layer layer2.1.conv3 scheme (8, 2)bits Ltilde 0.104554\n",
      "index 49 layer layer2.1.conv3 scheme (8, 4)bits Ltilde 0.007859\n",
      "index 50 layer layer2.1.conv3 scheme (8, 8)bits Ltilde 0.000070\n",
      "index 51 layer layer2.2.conv1 scheme (8, 2)bits Ltilde 0.131168\n",
      "index 52 layer layer2.2.conv1 scheme (8, 4)bits Ltilde 0.004014\n",
      "index 53 layer layer2.2.conv1 scheme (8, 8)bits Ltilde 0.000048\n",
      "index 54 layer layer2.2.conv2 scheme (8, 2)bits Ltilde 0.376178\n",
      "index 55 layer layer2.2.conv2 scheme (8, 4)bits Ltilde 0.009405\n",
      "index 56 layer layer2.2.conv2 scheme (8, 8)bits Ltilde 0.000049\n",
      "index 57 layer layer2.2.conv3 scheme (8, 2)bits Ltilde 0.318067\n",
      "index 58 layer layer2.2.conv3 scheme (8, 4)bits Ltilde 0.015219\n",
      "index 59 layer layer2.2.conv3 scheme (8, 8)bits Ltilde 0.000109\n",
      "index 60 layer layer2.3.conv1 scheme (8, 2)bits Ltilde 0.136781\n",
      "index 61 layer layer2.3.conv1 scheme (8, 4)bits Ltilde 0.003471\n",
      "index 62 layer layer2.3.conv1 scheme (8, 8)bits Ltilde 0.000048\n",
      "index 63 layer layer2.3.conv2 scheme (8, 2)bits Ltilde 1.844815\n",
      "index 64 layer layer2.3.conv2 scheme (8, 4)bits Ltilde 0.005531\n",
      "index 65 layer layer2.3.conv2 scheme (8, 8)bits Ltilde 0.000043\n",
      "index 66 layer layer2.3.conv3 scheme (8, 2)bits Ltilde 0.129237\n",
      "index 67 layer layer2.3.conv3 scheme (8, 4)bits Ltilde 0.008010\n",
      "index 68 layer layer2.3.conv3 scheme (8, 8)bits Ltilde 0.000052\n",
      "index 69 layer layer3.0.conv1 scheme (8, 2)bits Ltilde 0.876981\n",
      "index 70 layer layer3.0.conv1 scheme (8, 4)bits Ltilde 0.040769\n",
      "index 71 layer layer3.0.conv1 scheme (8, 8)bits Ltilde 0.000173\n",
      "index 72 layer layer3.0.conv2 scheme (8, 2)bits Ltilde 0.475966\n",
      "index 73 layer layer3.0.conv2 scheme (8, 4)bits Ltilde 0.011949\n",
      "index 74 layer layer3.0.conv2 scheme (8, 8)bits Ltilde 0.000057\n",
      "index 75 layer layer3.0.conv3 scheme (8, 2)bits Ltilde 0.430296\n",
      "index 76 layer layer3.0.conv3 scheme (8, 4)bits Ltilde 0.016251\n",
      "index 77 layer layer3.0.conv3 scheme (8, 8)bits Ltilde 0.000176\n",
      "index 78 layer layer3.0.downsample.0 scheme (8, 2)bits Ltilde 0.497442\n",
      "index 79 layer layer3.0.downsample.0 scheme (8, 4)bits Ltilde 0.028993\n",
      "index 80 layer layer3.0.downsample.0 scheme (8, 8)bits Ltilde 0.000305\n",
      "index 81 layer layer3.1.conv1 scheme (8, 2)bits Ltilde 0.963626\n",
      "index 82 layer layer3.1.conv1 scheme (8, 4)bits Ltilde 0.009459\n",
      "index 83 layer layer3.1.conv1 scheme (8, 8)bits Ltilde 0.000117\n",
      "index 84 layer layer3.1.conv2 scheme (8, 2)bits Ltilde 0.984308\n",
      "index 85 layer layer3.1.conv2 scheme (8, 4)bits Ltilde 0.005547\n",
      "index 86 layer layer3.1.conv2 scheme (8, 8)bits Ltilde 0.000159\n",
      "index 87 layer layer3.1.conv3 scheme (8, 2)bits Ltilde 0.139234\n",
      "index 88 layer layer3.1.conv3 scheme (8, 4)bits Ltilde 0.021862\n",
      "index 89 layer layer3.1.conv3 scheme (8, 8)bits Ltilde 0.000458\n",
      "index 90 layer layer3.2.conv1 scheme (8, 2)bits Ltilde 0.258662\n",
      "index 91 layer layer3.2.conv1 scheme (8, 4)bits Ltilde 0.008449\n",
      "index 92 layer layer3.2.conv1 scheme (8, 8)bits Ltilde 0.000136\n",
      "index 93 layer layer3.2.conv2 scheme (8, 2)bits Ltilde 0.368568\n",
      "index 94 layer layer3.2.conv2 scheme (8, 4)bits Ltilde 0.004828\n",
      "index 95 layer layer3.2.conv2 scheme (8, 8)bits Ltilde 0.000057\n",
      "index 96 layer layer3.2.conv3 scheme (8, 2)bits Ltilde 0.132564\n",
      "index 97 layer layer3.2.conv3 scheme (8, 4)bits Ltilde 0.008387\n",
      "index 98 layer layer3.2.conv3 scheme (8, 8)bits Ltilde 0.000196\n",
      "index 99 layer layer3.3.conv1 scheme (8, 2)bits Ltilde 0.202566\n",
      "index 100 layer layer3.3.conv1 scheme (8, 4)bits Ltilde 0.009295\n",
      "index 101 layer layer3.3.conv1 scheme (8, 8)bits Ltilde 0.000132\n",
      "index 102 layer layer3.3.conv2 scheme (8, 2)bits Ltilde 0.157479\n",
      "index 103 layer layer3.3.conv2 scheme (8, 4)bits Ltilde 0.004814\n",
      "index 104 layer layer3.3.conv2 scheme (8, 8)bits Ltilde 0.000070\n",
      "index 105 layer layer3.3.conv3 scheme (8, 2)bits Ltilde 0.111898\n",
      "index 106 layer layer3.3.conv3 scheme (8, 4)bits Ltilde 0.010517\n",
      "index 107 layer layer3.3.conv3 scheme (8, 8)bits Ltilde 0.000240\n",
      "index 108 layer layer3.4.conv1 scheme (8, 2)bits Ltilde 0.157150\n",
      "index 109 layer layer3.4.conv1 scheme (8, 4)bits Ltilde 0.007120\n",
      "index 110 layer layer3.4.conv1 scheme (8, 8)bits Ltilde 0.000209\n",
      "index 111 layer layer3.4.conv2 scheme (8, 2)bits Ltilde 0.169621\n",
      "index 112 layer layer3.4.conv2 scheme (8, 4)bits Ltilde 0.003393\n",
      "index 113 layer layer3.4.conv2 scheme (8, 8)bits Ltilde 0.000057\n",
      "index 114 layer layer3.4.conv3 scheme (8, 2)bits Ltilde 0.095449\n",
      "index 115 layer layer3.4.conv3 scheme (8, 4)bits Ltilde 0.008421\n",
      "index 116 layer layer3.4.conv3 scheme (8, 8)bits Ltilde 0.000262\n",
      "index 117 layer layer3.5.conv1 scheme (8, 2)bits Ltilde 0.199734\n",
      "index 118 layer layer3.5.conv1 scheme (8, 4)bits Ltilde 0.008992\n",
      "index 119 layer layer3.5.conv1 scheme (8, 8)bits Ltilde 0.000241\n",
      "index 120 layer layer3.5.conv2 scheme (8, 2)bits Ltilde 0.198102\n",
      "index 121 layer layer3.5.conv2 scheme (8, 4)bits Ltilde 0.005014\n",
      "index 122 layer layer3.5.conv2 scheme (8, 8)bits Ltilde 0.000169\n",
      "index 123 layer layer3.5.conv3 scheme (8, 2)bits Ltilde 0.108387\n",
      "index 124 layer layer3.5.conv3 scheme (8, 4)bits Ltilde 0.006871\n",
      "index 125 layer layer3.5.conv3 scheme (8, 8)bits Ltilde 0.000092\n",
      "index 126 layer layer4.0.conv1 scheme (8, 2)bits Ltilde 0.639170\n",
      "index 127 layer layer4.0.conv1 scheme (8, 4)bits Ltilde 0.020045\n",
      "index 128 layer layer4.0.conv1 scheme (8, 8)bits Ltilde 0.000867\n",
      "index 129 layer layer4.0.conv2 scheme (8, 2)bits Ltilde 0.204934\n",
      "index 130 layer layer4.0.conv2 scheme (8, 4)bits Ltilde 0.014597\n",
      "index 131 layer layer4.0.conv2 scheme (8, 8)bits Ltilde 0.002124\n",
      "index 132 layer layer4.0.conv3 scheme (8, 2)bits Ltilde 0.322082\n",
      "index 133 layer layer4.0.conv3 scheme (8, 4)bits Ltilde 0.013111\n",
      "index 134 layer layer4.0.conv3 scheme (8, 8)bits Ltilde 0.000917\n",
      "index 135 layer layer4.0.downsample.0 scheme (8, 2)bits Ltilde 0.069120\n",
      "index 136 layer layer4.0.downsample.0 scheme (8, 4)bits Ltilde 0.019811\n",
      "index 137 layer layer4.0.downsample.0 scheme (8, 8)bits Ltilde 0.002520\n",
      "index 138 layer layer4.1.conv1 scheme (8, 2)bits Ltilde 0.050847\n",
      "index 139 layer layer4.1.conv1 scheme (8, 4)bits Ltilde 0.013978\n",
      "index 140 layer layer4.1.conv1 scheme (8, 8)bits Ltilde 0.001773\n",
      "index 141 layer layer4.1.conv2 scheme (8, 2)bits Ltilde 0.312828\n",
      "index 142 layer layer4.1.conv2 scheme (8, 4)bits Ltilde 0.008358\n",
      "index 143 layer layer4.1.conv2 scheme (8, 8)bits Ltilde 0.000120\n",
      "index 144 layer layer4.1.conv3 scheme (8, 2)bits Ltilde 0.124703\n",
      "index 145 layer layer4.1.conv3 scheme (8, 4)bits Ltilde 0.007513\n",
      "index 146 layer layer4.1.conv3 scheme (8, 8)bits Ltilde 0.000185\n",
      "index 147 layer layer4.2.conv1 scheme (8, 2)bits Ltilde 1.573955\n",
      "index 148 layer layer4.2.conv1 scheme (8, 4)bits Ltilde 0.019228\n",
      "index 149 layer layer4.2.conv1 scheme (8, 8)bits Ltilde 0.001251\n",
      "index 150 layer layer4.2.conv2 scheme (8, 2)bits Ltilde 0.585869\n",
      "index 151 layer layer4.2.conv2 scheme (8, 4)bits Ltilde 0.002401\n",
      "index 152 layer layer4.2.conv2 scheme (8, 8)bits Ltilde 0.000090\n",
      "index 153 layer layer4.2.conv3 scheme (8, 2)bits Ltilde 0.479285\n",
      "index 154 layer layer4.2.conv3 scheme (8, 4)bits Ltilde 0.005710\n",
      "index 155 layer layer4.2.conv3 scheme (8, 8)bits Ltilde 0.000193\n"
     ]
    }
   ],
   "source": [
    "index2layerscheme = [None for i in range(hm['Ltilde'].shape[0])]\n",
    "\n",
    "for name in hm['layer_index']:\n",
    "    index = hm['layer_index'][name]\n",
    "    layer_name = name[:-10]\n",
    "    scheme = name[-10:]\n",
    "    a = hm['Ltilde']\n",
    "    print(f'index {index} layer {layer_name} scheme {scheme} Ltilde {a[index,index].item():.6f}')\n",
    "    \n",
    "    index2layerscheme[index] = (layer_name,scheme)\n",
    "    "
   ]
  },
  {
   "cell_type": "code",
   "execution_count": 52,
   "id": "17bd25f7",
   "metadata": {},
   "outputs": [
    {
     "data": {
      "text/plain": [
       "<matplotlib.image.AxesImage at 0x7f6f379dfa00>"
      ]
     },
     "execution_count": 52,
     "metadata": {},
     "output_type": "execute_result"
    },
    {
     "data": {
      "image/png": "[encoded data removed]",
      "text/plain": [
       "<Figure size 864x576 with 1 Axes>"
      ]
     },
     "metadata": {
      "needs_background": "light"
     },
     "output_type": "display_data"
    }
   ],
   "source": [
    "plt.imshow(hm['Ltilde'],cmap='hot')"
   ]
  },
  {
   "cell_type": "code",
   "execution_count": 53,
   "id": "beb3fb93",
   "metadata": {},
   "outputs": [],
   "source": [
    "# cached_grad is left hand side of equation 10 in draft\n",
    "# hm['Ltilde'] is loaded from pickle file (gradient caching phase)\n",
    "L = hm['Ltilde'].shape[0]\n",
    "cached_grad = np.zeros_like(hm['Ltilde'])\n",
    "for i in range(L):\n",
    "    for j in range(L):\n",
    "        layer_i,scheme_i = index2layerscheme[i]\n",
    "        layer_j,scheme_j = index2layerscheme[j]\n",
    "        if layer_i == layer_j:\n",
    "            if scheme_i == scheme_j:\n",
    "                cached_grad[i,j] = cached_grad[j,i] = 2 * hm['Ltilde'][i,j]\n",
    "            else:\n",
    "                #cached_grad[i,j] = cached_grad[j,i] = 4 * hm['Ltilde'][i,j] - hm['Ltilde'][i,i] - hm['Ltilde'][j,j]\n",
    "                cached_grad[i,j] = cached_grad[j,i] = 0\n",
    "        else:\n",
    "            cached_grad[i,j] = cached_grad[j,i] = hm['Ltilde'][i,j] - hm['Ltilde'][i,i] - hm['Ltilde'][j,j]\n",
    "        '''\n",
    "        print(index2layerscheme[i])\n",
    "        print(index2layerscheme[j])\n",
    "        '''\n",
    "        '''\n",
    "        if i == j:\n",
    "            cached_grad[i,j] = 0.5 * hm['Ltilde'][i,j]\n",
    "        else:\n",
    "            cached_grad[i,j] = 0.25 * (hm['Ltilde'][i,j]-hm['Ltilde'][i,i]-hm['Ltilde'][j,j])\n",
    "        '''"
   ]
  },
  {
   "cell_type": "code",
   "execution_count": 54,
   "id": "4e34a3a5",
   "metadata": {},
   "outputs": [
    {
     "data": {
      "text/plain": [
       "<matplotlib.image.AxesImage at 0x7f6f3720ffd0>"
      ]
     },
     "execution_count": 54,
     "metadata": {},
     "output_type": "execute_result"
    },
    {
     "data": {
      "image/png": "[encoded data removed]",
      "text/plain": [
       "<Figure size 864x576 with 1 Axes>"
      ]
     },
     "metadata": {
      "needs_background": "light"
     },
     "output_type": "display_data"
    }
   ],
   "source": [
    "# cached_grad[cached_grad<0]=0\n",
    "plt.imshow(cached_grad)"
   ]
  },
  {
   "cell_type": "code",
   "execution_count": 55,
   "id": "71d6487d",
   "metadata": {
    "scrolled": true
   },
   "outputs": [
    {
     "data": {
      "text/plain": [
       "(156, 156)"
      ]
     },
     "execution_count": 55,
     "metadata": {},
     "output_type": "execute_result"
    }
   ],
   "source": [
    "cached_grad.shape"
   ]
  },
  {
   "cell_type": "code",
   "execution_count": null,
   "id": "0736936c",
   "metadata": {
    "scrolled": false
   },
   "outputs": [],
   "source": [
    "model"
   ]
  },
  {
   "cell_type": "code",
   "execution_count": null,
   "id": "5a982e3b",
   "metadata": {
    "scrolled": true
   },
   "outputs": [],
   "source": [
    "#!conda install -c conda-forge pyscipopt=3.5.0\n",
    "#!pip install cvxpy-base\n",
    "#!pip install -U pymoo\n",
    "#!pip install gurobipy"
   ]
  },
  {
   "cell_type": "markdown",
   "id": "404e3314",
   "metadata": {},
   "source": [
    "### Experimental Optimization: Mixed Integer Quadratic Constrained Programming\n",
    "1.Pymoo's Genatic Algorithm\n",
    "2.Convexation and CVXPY's MIQCP solver"
   ]
  },
  {
   "cell_type": "code",
   "execution_count": null,
   "id": "fcb339c3",
   "metadata": {},
   "outputs": [],
   "source": [
    "from pymoo.core.problem import ElementwiseProblem\n",
    "\n",
    "class MyProblem(ElementwiseProblem):\n",
    "    \n",
    "    def __init__(self):\n",
    "        super().__init__(n_var=cached_grad.shape[0],n_obj=1, \n",
    "                         n_ieq_constr=2*cached_grad.shape[0]+2*cached_grad.shape[0]//len(aw_scheme), \n",
    "                         xl=0, xu=1, vtype=int)\n",
    "    \n",
    "    def _evaluate(self, x, out, *args, **kwargs):\n",
    "        \n",
    "        f1 = x@cached_grad.numpy()@x\n",
    "        f2 = np.sum(layer_bitops * x)\n",
    "        \n",
    "        out[\"F\"] = [f1,]\n",
    "        out[\"G\"] = []\n",
    "        \n",
    "        for i in range(cached_grad.shape[0]//len(aw_scheme)):\n",
    "            layer_decision_sum = 0\n",
    "            for j in range(len(aw_scheme)):\n",
    "                out[\"G\"] += [x[i*len(aw_scheme)+j]-1,-x[i*len(aw_scheme)+j]] # 0 <= x[i+j] <= 1\n",
    "                layer_decision_sum += x[i*len(aw_scheme)+j]\n",
    "            \n",
    "            out[\"G\"] += [layer_decision_sum-1,1-layer_decision_sum] \n",
    "\n",
    "problem = MyProblem()\n",
    "\n",
    "from pymoo.algorithms.soo.nonconvex.ga import GA\n",
    "from pymoo.core.problem import Problem\n",
    "from pymoo.operators.crossover.sbx import SBX\n",
    "from pymoo.operators.mutation.pm import PM\n",
    "from pymoo.operators.repair.rounding import RoundingRepair\n",
    "from pymoo.operators.sampling.rnd import IntegerRandomSampling\n",
    "from pymoo.optimize import minimize\n",
    "\n",
    "algorithm = NSGA2(\n",
    "    pop_size=40,\n",
    "    n_offsprings=10,\n",
    "    sampling=IntegerRandomSampling(),\n",
    "    crossover=SBX(prob=0.9, eta=15),\n",
    "    mutation=PM(eta=20),\n",
    "    eliminate_duplicates=True\n",
    ")\n",
    "method = GA(pop_size=100,\n",
    "            sampling=IntegerRandomSampling(),\n",
    "            crossover=SBX(prob=1.0, eta=3.0, vtype=float, repair=RoundingRepair()),\n",
    "            mutation=PM(prob=1.0, eta=3.0, vtype=float, repair=RoundingRepair()),\n",
    "            eliminate_duplicates=True,\n",
    "            )"
   ]
  },
  {
   "cell_type": "code",
   "execution_count": null,
   "id": "5227db8b",
   "metadata": {
    "scrolled": true
   },
   "outputs": [],
   "source": [
    "from pymoo.optimize import minimize\n",
    "\n",
    "res = minimize(problem,\n",
    "               method,\n",
    "               termination=('n_gen', 1000),\n",
    "               seed=1,\n",
    "               save_history=True,\n",
    "               verbose=True)\n",
    "\n",
    "X = res.X\n",
    "F = res.F"
   ]
  },
  {
   "cell_type": "markdown",
   "id": "f8c5ef23",
   "metadata": {},
   "source": []
  },
  {
   "cell_type": "code",
   "execution_count": 36,
   "id": "7330d407",
   "metadata": {},
   "outputs": [],
   "source": [
    "es,us = np.linalg.eig(cached_grad)"
   ]
  },
  {
   "cell_type": "code",
   "execution_count": null,
   "id": "8ab65d70",
   "metadata": {},
   "outputs": [],
   "source": [
    "es.max(),es.min()"
   ]
  },
  {
   "cell_type": "code",
   "execution_count": null,
   "id": "a314a372",
   "metadata": {},
   "outputs": [],
   "source": [
    "us@np.diag(es)@us.T"
   ]
  },
  {
   "cell_type": "code",
   "execution_count": null,
   "id": "8a15b4c1",
   "metadata": {},
   "outputs": [],
   "source": [
    "es[es<=0]=0"
   ]
  },
  {
   "cell_type": "code",
   "execution_count": null,
   "id": "768eff22",
   "metadata": {},
   "outputs": [],
   "source": [
    "C = us@np.diag(es)@us.T"
   ]
  },
  {
   "cell_type": "code",
   "execution_count": null,
   "id": "cf93f9bd",
   "metadata": {},
   "outputs": [],
   "source": [
    "import cvxpy as cp\n",
    "import numpy as np\n",
    "x = cp.Variable(C.shape[0], boolean=True)\n",
    "C = cp.atoms.affine.wraps.psd_wrap(C)\n",
    "objective = cp.Minimize(cp.quad_form(x,C))\n",
    "\n",
    "schemes_per_layer = 3\n",
    "assert C.shape[0]%schemes_per_layer == 0, 'cached_gradient shape[0] does not divde schemes per layer'\n",
    "num_layers = C.shape[0]//schemes_per_layer\n",
    "\n",
    "equality_constraint_matrix = []\n",
    "for i in range(num_layers):\n",
    "    col = np.zeros(C.shape[0])\n",
    "    col[i*schemes_per_layer:(i+1)*schemes_per_layer] = 1\n",
    "    equality_constraint_matrix.append(col)\n",
    "\n",
    "equality_constraint_matrix = np.array(equality_constraint_matrix)\n",
    "\n",
    "constraints = [equality_constraint_matrix@x == np.ones((num_layers,))]\n",
    "\n",
    "prob = cp.Problem(objective,constraints)\n",
    "prob.solve()"
   ]
  },
  {
   "cell_type": "code",
   "execution_count": null,
   "id": "f3a69c31",
   "metadata": {},
   "outputs": [],
   "source": [
    "x.value"
   ]
  },
  {
   "cell_type": "code",
   "execution_count": null,
   "id": "70f48531",
   "metadata": {},
   "outputs": [],
   "source": [
    "equality_constraint_matrix"
   ]
  },
  {
   "cell_type": "code",
   "execution_count": null,
   "id": "7ff1de89",
   "metadata": {},
   "outputs": [],
   "source": [
    "def CVXsolve(cached_grad,bitops_bound=None,size_bound=None,naive=False):\n",
    "    if naive == False:\n",
    "        \n",
    "        # PSD cached_grad\n",
    "        es,us = np.linalg.eig(cached_grad)\n",
    "        es[es<0] = 0\n",
    "        cached_grad = us@np.diag(es)@us.T\n",
    "    \n",
    "        "
   ]
  },
  {
   "cell_type": "markdown",
   "id": "864bfca8",
   "metadata": {},
   "source": [
    "### Hook to record input and output shapes of layers"
   ]
  },
  {
   "cell_type": "code",
   "execution_count": 37,
   "id": "88a839b4",
   "metadata": {},
   "outputs": [],
   "source": [
    "class layer_hook(object):\n",
    "\n",
    "    def __init__(self):\n",
    "        super(layer_hook, self).__init__()\n",
    "        self.in_shape = None\n",
    "        self.out_shape = None\n",
    "\n",
    "    def hook(self, module, inp, outp):\n",
    "        self.in_shape = inp[0].size()\n",
    "        self.out_shape = outp.size()\n",
    "    \n",
    "\n",
    "hooks = {}\n",
    "\n",
    "for layer in hm['layer_index']:\n",
    "    m = getModuleByName(model,layer[:-10])\n",
    "    hook = layer_hook()\n",
    "    hooks[layer[:-10]] = (hook,m.register_forward_hook(hook.hook))"
   ]
  },
  {
   "cell_type": "code",
   "execution_count": 38,
   "id": "1bc42d9f",
   "metadata": {},
   "outputs": [],
   "source": [
    "# for layer in hooks:\n",
    "#     hooks[layer][1].remove()"
   ]
  },
  {
   "cell_type": "code",
   "execution_count": 39,
   "id": "f56512fc",
   "metadata": {},
   "outputs": [],
   "source": [
    "with torch.no_grad():\n",
    "    for img,label in train:\n",
    "        model(img.cuda())\n",
    "        break"
   ]
  },
  {
   "cell_type": "code",
   "execution_count": 40,
   "id": "76e26a3d",
   "metadata": {},
   "outputs": [],
   "source": [
    "def get_layer_bitops(layer_name,a_bits,w_bits):\n",
    "    \n",
    "    m = getModuleByName(model,layer_name)\n",
    "    \n",
    "    if isinstance(m,torch.nn.Conv2d):\n",
    "        _,cin,_,_ = hooks[layer_name][0].in_shape\n",
    "        _,cout,hout,wout = hooks[layer_name][0].out_shape\n",
    "        \n",
    "#         print('in',hooks[layer_name][0].in_shape)\n",
    "#         print('out',hooks[layer_name][0].out_shape)\n",
    "        \n",
    "        n_muls = cin * m.weight.size()[2] * m.weight.size()[3] * cout * hout * wout\n",
    "        n_accs = (cin * m.weight.size()[2] * m.weight.size()[3] - 1) * cout * hout * wout\n",
    "        \n",
    "        bitops_per_mul = 2 * a_bits * w_bits\n",
    "        bitops_per_acc = (a_bits + w_bits) + np.ceil(np.log2(cin * m.weight.size()[2] * m.weight.size()[3]))\n",
    "        \n",
    "#         print(f'n_muls {n_muls} ops_per_mul {bitops_per_mul} totl {n_muls*bitops_per_mul}')\n",
    "#         print(f'n_accs {n_accs} ops_per_acc {bitops_per_acc} totl {n_accs*bitops_per_acc}')\n",
    "#         print()\n",
    "        \n",
    "        return n_muls * bitops_per_mul + n_accs * bitops_per_acc\n",
    "        \n",
    "        \n",
    "    "
   ]
  },
  {
   "cell_type": "code",
   "execution_count": 41,
   "id": "2e0cbe17",
   "metadata": {},
   "outputs": [
    {
     "data": {
      "text/plain": [
       "array([['layer1.0.conv1', '(8, 2)bits'],\n",
       "       ['layer1.0.conv1', '(8, 4)bits'],\n",
       "       ['layer1.0.conv1', '(8, 8)bits'],\n",
       "       ['layer1.0.conv2', '(8, 2)bits'],\n",
       "       ['layer1.0.conv2', '(8, 4)bits'],\n",
       "       ['layer1.0.conv2', '(8, 8)bits'],\n",
       "       ['layer1.0.conv3', '(8, 2)bits'],\n",
       "       ['layer1.0.conv3', '(8, 4)bits'],\n",
       "       ['layer1.0.conv3', '(8, 8)bits'],\n",
       "       ['layer1.0.downsample.0', '(8, 2)bits'],\n",
       "       ['layer1.0.downsample.0', '(8, 4)bits'],\n",
       "       ['layer1.0.downsample.0', '(8, 8)bits'],\n",
       "       ['layer1.1.conv1', '(8, 2)bits'],\n",
       "       ['layer1.1.conv1', '(8, 4)bits'],\n",
       "       ['layer1.1.conv1', '(8, 8)bits'],\n",
       "       ['layer1.1.conv2', '(8, 2)bits'],\n",
       "       ['layer1.1.conv2', '(8, 4)bits'],\n",
       "       ['layer1.1.conv2', '(8, 8)bits'],\n",
       "       ['layer1.1.conv3', '(8, 2)bits'],\n",
       "       ['layer1.1.conv3', '(8, 4)bits'],\n",
       "       ['layer1.1.conv3', '(8, 8)bits'],\n",
       "       ['layer1.2.conv1', '(8, 2)bits'],\n",
       "       ['layer1.2.conv1', '(8, 4)bits'],\n",
       "       ['layer1.2.conv1', '(8, 8)bits'],\n",
       "       ['layer1.2.conv2', '(8, 2)bits'],\n",
       "       ['layer1.2.conv2', '(8, 4)bits'],\n",
       "       ['layer1.2.conv2', '(8, 8)bits'],\n",
       "       ['layer1.2.conv3', '(8, 2)bits'],\n",
       "       ['layer1.2.conv3', '(8, 4)bits'],\n",
       "       ['layer1.2.conv3', '(8, 8)bits'],\n",
       "       ['layer2.0.conv1', '(8, 2)bits'],\n",
       "       ['layer2.0.conv1', '(8, 4)bits'],\n",
       "       ['layer2.0.conv1', '(8, 8)bits'],\n",
       "       ['layer2.0.conv2', '(8, 2)bits'],\n",
       "       ['layer2.0.conv2', '(8, 4)bits'],\n",
       "       ['layer2.0.conv2', '(8, 8)bits'],\n",
       "       ['layer2.0.conv3', '(8, 2)bits'],\n",
       "       ['layer2.0.conv3', '(8, 4)bits'],\n",
       "       ['layer2.0.conv3', '(8, 8)bits'],\n",
       "       ['layer2.0.downsample.0', '(8, 2)bits'],\n",
       "       ['layer2.0.downsample.0', '(8, 4)bits'],\n",
       "       ['layer2.0.downsample.0', '(8, 8)bits'],\n",
       "       ['layer2.1.conv1', '(8, 2)bits'],\n",
       "       ['layer2.1.conv1', '(8, 4)bits'],\n",
       "       ['layer2.1.conv1', '(8, 8)bits'],\n",
       "       ['layer2.1.conv2', '(8, 2)bits'],\n",
       "       ['layer2.1.conv2', '(8, 4)bits'],\n",
       "       ['layer2.1.conv2', '(8, 8)bits'],\n",
       "       ['layer2.1.conv3', '(8, 2)bits'],\n",
       "       ['layer2.1.conv3', '(8, 4)bits'],\n",
       "       ['layer2.1.conv3', '(8, 8)bits'],\n",
       "       ['layer2.2.conv1', '(8, 2)bits'],\n",
       "       ['layer2.2.conv1', '(8, 4)bits'],\n",
       "       ['layer2.2.conv1', '(8, 8)bits'],\n",
       "       ['layer2.2.conv2', '(8, 2)bits'],\n",
       "       ['layer2.2.conv2', '(8, 4)bits'],\n",
       "       ['layer2.2.conv2', '(8, 8)bits'],\n",
       "       ['layer2.2.conv3', '(8, 2)bits'],\n",
       "       ['layer2.2.conv3', '(8, 4)bits'],\n",
       "       ['layer2.2.conv3', '(8, 8)bits'],\n",
       "       ['layer2.3.conv1', '(8, 2)bits'],\n",
       "       ['layer2.3.conv1', '(8, 4)bits'],\n",
       "       ['layer2.3.conv1', '(8, 8)bits'],\n",
       "       ['layer2.3.conv2', '(8, 2)bits'],\n",
       "       ['layer2.3.conv2', '(8, 4)bits'],\n",
       "       ['layer2.3.conv2', '(8, 8)bits'],\n",
       "       ['layer2.3.conv3', '(8, 2)bits'],\n",
       "       ['layer2.3.conv3', '(8, 4)bits'],\n",
       "       ['layer2.3.conv3', '(8, 8)bits'],\n",
       "       ['layer3.0.conv1', '(8, 2)bits'],\n",
       "       ['layer3.0.conv1', '(8, 4)bits'],\n",
       "       ['layer3.0.conv1', '(8, 8)bits'],\n",
       "       ['layer3.0.conv2', '(8, 2)bits'],\n",
       "       ['layer3.0.conv2', '(8, 4)bits'],\n",
       "       ['layer3.0.conv2', '(8, 8)bits'],\n",
       "       ['layer3.0.conv3', '(8, 2)bits'],\n",
       "       ['layer3.0.conv3', '(8, 4)bits'],\n",
       "       ['layer3.0.conv3', '(8, 8)bits'],\n",
       "       ['layer3.0.downsample.0', '(8, 2)bits'],\n",
       "       ['layer3.0.downsample.0', '(8, 4)bits'],\n",
       "       ['layer3.0.downsample.0', '(8, 8)bits'],\n",
       "       ['layer3.1.conv1', '(8, 2)bits'],\n",
       "       ['layer3.1.conv1', '(8, 4)bits'],\n",
       "       ['layer3.1.conv1', '(8, 8)bits'],\n",
       "       ['layer3.1.conv2', '(8, 2)bits'],\n",
       "       ['layer3.1.conv2', '(8, 4)bits'],\n",
       "       ['layer3.1.conv2', '(8, 8)bits'],\n",
       "       ['layer3.1.conv3', '(8, 2)bits'],\n",
       "       ['layer3.1.conv3', '(8, 4)bits'],\n",
       "       ['layer3.1.conv3', '(8, 8)bits'],\n",
       "       ['layer3.2.conv1', '(8, 2)bits'],\n",
       "       ['layer3.2.conv1', '(8, 4)bits'],\n",
       "       ['layer3.2.conv1', '(8, 8)bits'],\n",
       "       ['layer3.2.conv2', '(8, 2)bits'],\n",
       "       ['layer3.2.conv2', '(8, 4)bits'],\n",
       "       ['layer3.2.conv2', '(8, 8)bits'],\n",
       "       ['layer3.2.conv3', '(8, 2)bits'],\n",
       "       ['layer3.2.conv3', '(8, 4)bits'],\n",
       "       ['layer3.2.conv3', '(8, 8)bits'],\n",
       "       ['layer3.3.conv1', '(8, 2)bits'],\n",
       "       ['layer3.3.conv1', '(8, 4)bits'],\n",
       "       ['layer3.3.conv1', '(8, 8)bits'],\n",
       "       ['layer3.3.conv2', '(8, 2)bits'],\n",
       "       ['layer3.3.conv2', '(8, 4)bits'],\n",
       "       ['layer3.3.conv2', '(8, 8)bits'],\n",
       "       ['layer3.3.conv3', '(8, 2)bits'],\n",
       "       ['layer3.3.conv3', '(8, 4)bits'],\n",
       "       ['layer3.3.conv3', '(8, 8)bits'],\n",
       "       ['layer3.4.conv1', '(8, 2)bits'],\n",
       "       ['layer3.4.conv1', '(8, 4)bits'],\n",
       "       ['layer3.4.conv1', '(8, 8)bits'],\n",
       "       ['layer3.4.conv2', '(8, 2)bits'],\n",
       "       ['layer3.4.conv2', '(8, 4)bits'],\n",
       "       ['layer3.4.conv2', '(8, 8)bits'],\n",
       "       ['layer3.4.conv3', '(8, 2)bits'],\n",
       "       ['layer3.4.conv3', '(8, 4)bits'],\n",
       "       ['layer3.4.conv3', '(8, 8)bits'],\n",
       "       ['layer3.5.conv1', '(8, 2)bits'],\n",
       "       ['layer3.5.conv1', '(8, 4)bits'],\n",
       "       ['layer3.5.conv1', '(8, 8)bits'],\n",
       "       ['layer3.5.conv2', '(8, 2)bits'],\n",
       "       ['layer3.5.conv2', '(8, 4)bits'],\n",
       "       ['layer3.5.conv2', '(8, 8)bits'],\n",
       "       ['layer3.5.conv3', '(8, 2)bits'],\n",
       "       ['layer3.5.conv3', '(8, 4)bits'],\n",
       "       ['layer3.5.conv3', '(8, 8)bits'],\n",
       "       ['layer4.0.conv1', '(8, 2)bits'],\n",
       "       ['layer4.0.conv1', '(8, 4)bits'],\n",
       "       ['layer4.0.conv1', '(8, 8)bits'],\n",
       "       ['layer4.0.conv2', '(8, 2)bits'],\n",
       "       ['layer4.0.conv2', '(8, 4)bits'],\n",
       "       ['layer4.0.conv2', '(8, 8)bits'],\n",
       "       ['layer4.0.conv3', '(8, 2)bits'],\n",
       "       ['layer4.0.conv3', '(8, 4)bits'],\n",
       "       ['layer4.0.conv3', '(8, 8)bits'],\n",
       "       ['layer4.0.downsample.0', '(8, 2)bits'],\n",
       "       ['layer4.0.downsample.0', '(8, 4)bits'],\n",
       "       ['layer4.0.downsample.0', '(8, 8)bits'],\n",
       "       ['layer4.1.conv1', '(8, 2)bits'],\n",
       "       ['layer4.1.conv1', '(8, 4)bits'],\n",
       "       ['layer4.1.conv1', '(8, 8)bits'],\n",
       "       ['layer4.1.conv2', '(8, 2)bits'],\n",
       "       ['layer4.1.conv2', '(8, 4)bits'],\n",
       "       ['layer4.1.conv2', '(8, 8)bits'],\n",
       "       ['layer4.1.conv3', '(8, 2)bits'],\n",
       "       ['layer4.1.conv3', '(8, 4)bits'],\n",
       "       ['layer4.1.conv3', '(8, 8)bits'],\n",
       "       ['layer4.2.conv1', '(8, 2)bits'],\n",
       "       ['layer4.2.conv1', '(8, 4)bits'],\n",
       "       ['layer4.2.conv1', '(8, 8)bits'],\n",
       "       ['layer4.2.conv2', '(8, 2)bits'],\n",
       "       ['layer4.2.conv2', '(8, 4)bits'],\n",
       "       ['layer4.2.conv2', '(8, 8)bits'],\n",
       "       ['layer4.2.conv3', '(8, 2)bits'],\n",
       "       ['layer4.2.conv3', '(8, 4)bits'],\n",
       "       ['layer4.2.conv3', '(8, 8)bits']], dtype='<U21')"
      ]
     },
     "execution_count": 41,
     "metadata": {},
     "output_type": "execute_result"
    }
   ],
   "source": [
    "index2layerscheme"
   ]
  },
  {
   "cell_type": "code",
   "execution_count": 42,
   "id": "db18b4bf",
   "metadata": {},
   "outputs": [],
   "source": [
    "layer_size = np.array([0 for i in range(L)])\n",
    "for l in hm['layer_index']:\n",
    "    index = hm['layer_index'][l]\n",
    "    layer_name, scheme = index2layerscheme[index]\n",
    "    scheme = eval(scheme[:-4])\n",
    "    layer_size[index] = torch.numel(getModuleByName(model,layer_name).weight) * int(scheme[1])\n",
    "\n",
    "layer_bitops = []"
   ]
  },
  {
   "cell_type": "markdown",
   "id": "7d4555d2",
   "metadata": {},
   "source": [
    "### Calculate sizes and numbers of bitoperations for layers under different quantization options"
   ]
  },
  {
   "cell_type": "code",
   "execution_count": 43,
   "id": "f5886f20",
   "metadata": {},
   "outputs": [],
   "source": [
    "layer_size = np.array([0 for i in range(L)])\n",
    "layer_bitops = np.array([0 for i in range(L)])\n",
    "for l in hm['layer_index']:\n",
    "    index = hm['layer_index'][l]\n",
    "    layer_name, scheme = index2layerscheme[index]\n",
    "    a_bits,w_bits = eval(scheme[:-4])\n",
    "    #print(layer_name,a_bits,w_bits)\n",
    "    layer_size[index] = torch.numel(getModuleByName(model,layer_name).weight) * int(w_bits)\n",
    "    layer_bitops[index] = get_layer_bitops(layer_name,a_bits,w_bits)"
   ]
  },
  {
   "cell_type": "code",
   "execution_count": 44,
   "id": "79495d50",
   "metadata": {},
   "outputs": [],
   "source": [
    "# layer_size # list[layer_index] = size of layer with layer_index"
   ]
  },
  {
   "cell_type": "code",
   "execution_count": 45,
   "id": "30e7a908",
   "metadata": {},
   "outputs": [],
   "source": [
    "# layer_bitops # list[layer_index] = bitops of layer with layer_index"
   ]
  },
  {
   "cell_type": "markdown",
   "id": "e97818b5",
   "metadata": {},
   "source": [
    "## Modify the quantization options for layers\n",
    "modify the aw_scheme to list of (a_bits,w_bits) so that CLADO will only consider to choose from these options.\n",
    "the corresponding cached_grad, layer_size, layer_bitops will also exclude quantization options that are not considered"
   ]
  },
  {
   "cell_type": "code",
   "execution_count": 46,
   "id": "5c17fa5d",
   "metadata": {},
   "outputs": [],
   "source": [
    "cached_grad_full = deepcopy(cached_grad)\n",
    "index2layerscheme_full = deepcopy(index2layerscheme)\n",
    "layer_size_full = deepcopy(layer_size)\n",
    "layer_bitops_full = deepcopy(layer_bitops)"
   ]
  },
  {
   "cell_type": "code",
   "execution_count": 47,
   "id": "3de435fc",
   "metadata": {},
   "outputs": [],
   "source": [
    "MPQ_scheme = (2,4,8)\n",
    "aw_scheme = []\n",
    "for a_bits in MPQ_scheme:\n",
    "    for w_bits in MPQ_scheme:\n",
    "        aw_scheme.append((a_bits,w_bits))\n",
    "\n",
    "#aw_scheme = [(4,8),(8,8),(8,4),(4,4)]\n",
    "aw_scheme = [(8,2),(8,4),(8,8)]\n",
    "\n",
    "del_index = []\n",
    "for index in range(len(index2layerscheme_full)):\n",
    "    if eval(index2layerscheme_full[index][1][:-4]) not in aw_scheme:\n",
    "        del_index.append(index)\n",
    "        print(f'delete {index}: {index2layerscheme_full[index][1]}')\n",
    "\n",
    "cached_grad = np.delete(cached_grad_full,[del_index],axis=0)\n",
    "cached_grad = np.delete(cached_grad,[del_index],axis=1)\n",
    "index2layerscheme = np.delete(index2layerscheme_full,[del_index],axis=0)\n",
    "layer_size = np.delete(layer_size_full,[del_index],axis=0)\n",
    "layer_bitops = np.delete(layer_bitops_full,[del_index],axis=0)"
   ]
  },
  {
   "cell_type": "code",
   "execution_count": 48,
   "id": "156eb5fa",
   "metadata": {},
   "outputs": [
    {
     "data": {
      "text/plain": [
       "[(8, 2), (8, 4), (8, 8)]"
      ]
     },
     "execution_count": 48,
     "metadata": {},
     "output_type": "execute_result"
    }
   ],
   "source": [
    "aw_scheme"
   ]
  },
  {
   "cell_type": "code",
   "execution_count": 49,
   "id": "5c7d9760",
   "metadata": {},
   "outputs": [
    {
     "data": {
      "text/plain": [
       "torch.Size([156, 156])"
      ]
     },
     "execution_count": 49,
     "metadata": {},
     "output_type": "execute_result"
    }
   ],
   "source": [
    "cached_grad.shape"
   ]
  },
  {
   "cell_type": "code",
   "execution_count": 50,
   "id": "4bcd5187",
   "metadata": {},
   "outputs": [],
   "source": [
    "# initialize random variable v\n",
    "# use recitfied sigmoid h(v) to represent alpha\n",
    "# freg is 1-(1-2h(v))**beta, annealing beta to \n",
    "\n",
    "if not isinstance(cached_grad,torch.Tensor):\n",
    "    cached_grad = torch.Tensor(cached_grad)\n",
    "\n",
    "layer_size_tensor = torch.Tensor(layer_size)\n",
    "layer_bitops_tensor = torch.Tensor(layer_bitops)\n",
    "\n",
    "def lossfunc(v,beta,lambda1,lambda2,printInfo=False,naive=False,b=None):\n",
    "    \n",
    "    # alpha here is continuous\n",
    "    alpha = torch.nn.Softmax(dim=1)(v.reshape(-1,len(aw_scheme))).reshape(-1,) # force equality constraint in eq.11\n",
    "    \n",
    "    if not naive:\n",
    "        outer_alpha = torch.outer(alpha,alpha)\n",
    "        netloss = torch.sum(outer_alpha * cached_grad)\n",
    "    else:\n",
    "        netloss = torch.sum(torch.diagonal(cached_grad) * alpha)\n",
    "        \n",
    "    model_size = torch.sum(layer_size_tensor * alpha)/8/1024/1024 # model size in MB\n",
    "    model_bitops = torch.sum(layer_bitops_tensor * alpha)/10**9\n",
    "            \n",
    "    regloss = torch.sum(1-(torch.abs(1-2*alpha))**beta)\n",
    "    regloss *= lambda1\n",
    "\n",
    "    if b is None:\n",
    "        closs = lambda2 * model_bitops\n",
    "    else:\n",
    "        closs = lambda2 * torch.clamp(model_bitops-b,0)\n",
    "    \n",
    "    totloss = netloss + regloss + closs\n",
    "    \n",
    "    if printInfo:\n",
    "        print(f'netloss {netloss.item():.4f} regloss {regloss.item():.4f}(beta={beta:.4f}) closs{closs.item():.4f}(bitops: {model_bitops.item():.2f}G constraint:{b})')\n",
    "        print(f'model size: {model_size.item():.4f}MB')\n",
    "        print('alpha:\\n',alpha)\n",
    "        \n",
    "    return totloss    \n",
    "    \n",
    "# for CVXPY\n",
    "# The problem is\n",
    "# minimize alpha Cached_grad alpha\n",
    "# subject to \n",
    "# alpha * layer_size <= size_constraint\n",
    "# alpha * layer_bitops <= bitops_constraint\n",
    "# alpha in the same layer summed up to 1\n",
    "# alpha is integer\n",
    "# 0 <= alpha <=1\n",
    "\n",
    "\n",
    "def CLADO_solver(cached_grad,size_bound,bitops_bound,options_per_layer):\n",
    "    pass"
   ]
  },
  {
   "cell_type": "code",
   "execution_count": 51,
   "id": "04760381",
   "metadata": {},
   "outputs": [],
   "source": [
    "L = cached_grad.size()[0]\n",
    "def optimize(n_iteration,lr,beta,lambda1,lambda2,b=None,naive=False,hardInit=False):\n",
    "    \n",
    "    \n",
    "    #v = torch.nn.Parameter(torch.randn(L))\n",
    "    v = torch.nn.Parameter(torch.zeros(L))\n",
    "    if hardInit:\n",
    "        v = torch.nn.Parameter(torch.zeros(L))\n",
    "        with torch.no_grad():\n",
    "            for i in range(L):\n",
    "                if i % len(aw_scheme) == len(aw_scheme)-1:\n",
    "                    v[i].data += 1.\n",
    "                    \n",
    "    optim = torch.optim.Adam([v,],lr=lr)\n",
    "    bs = np.linspace(beta[0],beta[1],n_iteration)\n",
    "    \n",
    "    for i in range(n_iteration):\n",
    "        if i==0 or (i+1) % 1000 == 0:\n",
    "            printInfo = True\n",
    "            print(f'Iter {i+1}')\n",
    "        else:\n",
    "            printInfo = False\n",
    "            \n",
    "        optim.zero_grad()\n",
    "        loss = lossfunc(v,bs[i],lambda1,lambda2,printInfo=printInfo,b=b,naive=naive)\n",
    "        loss.backward()\n",
    "        optim.step()\n",
    "    \n",
    "    return v\n",
    "\n",
    "def evaluate_decision(v,printInfo=False,test=test):\n",
    "    global mqb_mix_model\n",
    "    v = v.detach()\n",
    "    # alpha = torch.nn.Softmax(dim=1)(v.reshape(-1,len(MPQ_scheme)))\n",
    "    offset = torch.ones(int(L/len(aw_scheme)),dtype=int) * len(aw_scheme)\n",
    "    offset = offset.cumsum(dim=-1) - len(aw_scheme)\n",
    "    select = v.reshape(-1,len(aw_scheme)).argmax(dim=1) + offset\n",
    "    \n",
    "    modelsize = (layer_size[select]).sum()/8/1024/1024\n",
    "    bitops = (layer_bitops[select]).sum()/10**9\n",
    "    \n",
    "    decisions = {}\n",
    "    for scheme_id in select.numpy():\n",
    "        layer,scheme = index2layerscheme[scheme_id]\n",
    "        decisions[layer] = eval(scheme[:-4])\n",
    "    \n",
    "    print(\"evaluate_decision\\n\",decisions)\n",
    "    \n",
    "\n",
    "    with torch.no_grad():\n",
    "        \n",
    "        # perturb layers\n",
    "        perturb(decisions)\n",
    "            \n",
    "        # do evaluation\n",
    "        res = evaluate(test,mqb_mix_model)\n",
    "        \n",
    "        # recover layers\n",
    "        mqb_mix_model = deepcopy(mqb_fp_model)\n",
    "    return res,modelsize,bitops"
   ]
  },
  {
   "cell_type": "code",
   "execution_count": 56,
   "id": "0a23a4a4",
   "metadata": {},
   "outputs": [],
   "source": [
    "import cvxpy as cp\n",
    "\n",
    "def MIQCP_optimize(cached_grad,layer_bitops,layer_size,\n",
    "                   schemes_per_layer=3,\n",
    "                   bitops_bound=np.inf,size_bound=np.inf,\n",
    "                   naive=False):\n",
    "    \n",
    "    if cached_grad.__class__ == torch.Tensor:\n",
    "        cached_grad = cached_grad.cpu().numpy()\n",
    "    \n",
    "    x = cp.Variable(cached_grad.shape[0], boolean=True)\n",
    "    schemes_per_layer = schemes_per_layer\n",
    "    assert cached_grad.shape[0]%schemes_per_layer == 0, 'cached_gradient shape[0] does not divde schemes per layer'\n",
    "    num_layers = cached_grad.shape[0]//schemes_per_layer\n",
    "    \n",
    "    if not naive:\n",
    "        # convexation of cached_grad\n",
    "        es,us = np.linalg.eig(cached_grad)\n",
    "        es[es<0] = 0\n",
    "        C = us@np.diag(es)@us.T\n",
    "        C = cp.atoms.affine.wraps.psd_wrap(C)\n",
    "        objective = cp.Minimize(cp.quad_form(x,C))\n",
    "    else:\n",
    "        objective = cp.Minimize(np.diagonal(cached_grad)@x)\n",
    "\n",
    "    equality_constraint_matrix = []\n",
    "    for i in range(num_layers):\n",
    "        col = np.zeros(cached_grad.shape[0])\n",
    "        col[i*schemes_per_layer:(i+1)*schemes_per_layer] = 1\n",
    "        equality_constraint_matrix.append(col)\n",
    "\n",
    "    equality_constraint_matrix = np.array(equality_constraint_matrix)\n",
    "\n",
    "    constraints = [equality_constraint_matrix@x == np.ones((num_layers,)),\n",
    "                   layer_bitops@x/10**9<=bitops_bound,\n",
    "                   layer_size@x/8/1024/1024<=size_bound]\n",
    "\n",
    "    prob = cp.Problem(objective,constraints)\n",
    "    prob.solve()\n",
    "    \n",
    "    # Print result.\n",
    "    print(\"\\nThe optimal value is\", prob.value)\n",
    "    print(\"A solution x is\")\n",
    "    print(x.value)\n",
    "    #print(f\"bitops: {x.value@layer_bitops}\")\n",
    "    return x"
   ]
  },
  {
   "cell_type": "markdown",
   "id": "036b4939",
   "metadata": {},
   "source": [
    "## Sanity Check: no constraint optimization\n",
    "Without constraint, optimization should return (ideally) an 8-bit model, or performance close to 8-bit model"
   ]
  },
  {
   "cell_type": "code",
   "execution_count": null,
   "id": "fa2f91e3",
   "metadata": {
    "scrolled": true
   },
   "outputs": [],
   "source": [
    "# true: 1e-2 --> 1e-4\n",
    "# False 1e-1 --> 1e-3\n",
    "v = optimize(n_iteration=5000,lr=2e-3,beta=[20,2],\n",
    "             lambda1=0,lambda2=0,\n",
    "             naive=False,hardInit=True)"
   ]
  },
  {
   "cell_type": "code",
   "execution_count": 57,
   "id": "9556fe5f",
   "metadata": {
    "scrolled": false
   },
   "outputs": [
    {
     "ename": "NameError",
     "evalue": "name 'layer_bitops' is not defined",
     "output_type": "error",
     "traceback": [
      "\u001b[0;31m---------------------------------------------------------------------------\u001b[0m",
      "\u001b[0;31mNameError\u001b[0m                                 Traceback (most recent call last)",
      "Input \u001b[0;32mIn [57]\u001b[0m, in \u001b[0;36m<cell line: 1>\u001b[0;34m()\u001b[0m\n\u001b[1;32m      1\u001b[0m v \u001b[38;5;241m=\u001b[39m MIQCP_optimize(cached_grad\u001b[38;5;241m=\u001b[39mcached_grad,\n\u001b[0;32m----> 2\u001b[0m                    layer_bitops\u001b[38;5;241m=\u001b[39m\u001b[43mlayer_bitops\u001b[49m,\n\u001b[1;32m      3\u001b[0m                    layer_size\u001b[38;5;241m=\u001b[39mlayer_size,\n\u001b[1;32m      4\u001b[0m                    schemes_per_layer\u001b[38;5;241m=\u001b[39m\u001b[38;5;28mlen\u001b[39m(aw_scheme),\n\u001b[1;32m      5\u001b[0m                    bitops_bound\u001b[38;5;241m=\u001b[39mnp\u001b[38;5;241m.\u001b[39minf,size_bound\u001b[38;5;241m=\u001b[39mnp\u001b[38;5;241m.\u001b[39minf,\n\u001b[1;32m      6\u001b[0m                    naive\u001b[38;5;241m=\u001b[39m\u001b[38;5;28;01mFalse\u001b[39;00m)\n\u001b[1;32m      7\u001b[0m v \u001b[38;5;241m=\u001b[39m torch\u001b[38;5;241m.\u001b[39mTensor(v\u001b[38;5;241m.\u001b[39mvalue)\n",
      "\u001b[0;31mNameError\u001b[0m: name 'layer_bitops' is not defined"
     ]
    }
   ],
   "source": [
    "v = MIQCP_optimize(cached_grad=cached_grad,\n",
    "                   layer_bitops=layer_bitops,\n",
    "                   layer_size=layer_size,\n",
    "                   schemes_per_layer=len(aw_scheme),\n",
    "                   bitops_bound=np.inf,size_bound=np.inf,\n",
    "                   naive=False)\n",
    "v = torch.Tensor(v.value)\n",
    "#evaluate_decision(v)"
   ]
  },
  {
   "cell_type": "code",
   "execution_count": 97,
   "id": "0217953a",
   "metadata": {},
   "outputs": [
    {
     "name": "stdout",
     "output_type": "stream",
     "text": [
      "\n",
      "The optimal value is 3.609655687079851\n",
      "A solution x is\n",
      "[0. 0. 1. 0. 0. 1. 0. 0. 1. 0. 0. 1. 0. 0. 1. 0. 0. 1. 0. 0. 1. 0. 1. 0.\n",
      " 0. 1. 0. 0. 1. 0. 0. 0. 1. 0. 1. 0. 0. 0. 1. 0. 0. 1. 0. 1. 0. 0. 0. 1.\n",
      " 0. 0. 1. 0. 1. 0. 0. 1. 0. 0. 0. 1. 0. 1. 0. 0. 1. 0. 0. 1. 0. 0. 0. 1.\n",
      " 0. 1. 0. 0. 1. 0. 0. 1. 0. 0. 1. 0. 0. 1. 0. 0. 1. 0. 0. 1. 0. 0. 1. 0.\n",
      " 0. 1. 0. 0. 1. 0. 0. 1. 0. 0. 1. 0. 0. 1. 0. 0. 1. 0. 0. 1. 0. 0. 1. 0.\n",
      " 0. 1. 0. 0. 1. 0. 0. 1. 0. 0. 1. 0. 0. 1. 0. 1. 0. 0. 1. 0. 0. 1. 0. 0.\n",
      " 1. 0. 0. 0. 1. 0. 0. 1. 0. 0. 1. 0.]\n"
     ]
    }
   ],
   "source": [
    "v = MIQCP_optimize(cached_grad=cached_grad,\n",
    "                   layer_bitops=layer_bitops,\n",
    "                   layer_size=layer_size,\n",
    "                   schemes_per_layer=len(aw_scheme),\n",
    "                   bitops_bound=np.inf,size_bound=10,\n",
    "                   naive=False)\n",
    "v = torch.Tensor(v.value)"
   ]
  },
  {
   "cell_type": "code",
   "execution_count": 98,
   "id": "36728f57",
   "metadata": {},
   "outputs": [
    {
     "name": "stdout",
     "output_type": "stream",
     "text": [
      "evaluate_decision\n",
      " {'layer1.0.conv1': (8, 8), 'layer1.0.conv2': (8, 8), 'layer1.0.conv3': (8, 8), 'layer1.0.downsample.0': (8, 8), 'layer1.1.conv1': (8, 8), 'layer1.1.conv2': (8, 8), 'layer1.1.conv3': (8, 8), 'layer1.2.conv1': (8, 4), 'layer1.2.conv2': (8, 4), 'layer1.2.conv3': (8, 4), 'layer2.0.conv1': (8, 8), 'layer2.0.conv2': (8, 4), 'layer2.0.conv3': (8, 8), 'layer2.0.downsample.0': (8, 8), 'layer2.1.conv1': (8, 4), 'layer2.1.conv2': (8, 8), 'layer2.1.conv3': (8, 8), 'layer2.2.conv1': (8, 4), 'layer2.2.conv2': (8, 4), 'layer2.2.conv3': (8, 8), 'layer2.3.conv1': (8, 4), 'layer2.3.conv2': (8, 4), 'layer2.3.conv3': (8, 4), 'layer3.0.conv1': (8, 8), 'layer3.0.conv2': (8, 4), 'layer3.0.conv3': (8, 4), 'layer3.0.downsample.0': (8, 4), 'layer3.1.conv1': (8, 4), 'layer3.1.conv2': (8, 4), 'layer3.1.conv3': (8, 4), 'layer3.2.conv1': (8, 4), 'layer3.2.conv2': (8, 4), 'layer3.2.conv3': (8, 4), 'layer3.3.conv1': (8, 4), 'layer3.3.conv2': (8, 4), 'layer3.3.conv3': (8, 4), 'layer3.4.conv1': (8, 4), 'layer3.4.conv2': (8, 4), 'layer3.4.conv3': (8, 4), 'layer3.5.conv1': (8, 4), 'layer3.5.conv2': (8, 4), 'layer3.5.conv3': (8, 4), 'layer4.0.conv1': (8, 4), 'layer4.0.conv2': (8, 4), 'layer4.0.conv3': (8, 4), 'layer4.0.downsample.0': (8, 2), 'layer4.1.conv1': (8, 2), 'layer4.1.conv2': (8, 2), 'layer4.1.conv3': (8, 2), 'layer4.2.conv1': (8, 4), 'layer4.2.conv2': (8, 4), 'layer4.2.conv3': (8, 4)}\n"
     ]
    },
    {
     "data": {
      "text/plain": [
       "({'top1': tensor([59.8101], device='cuda:0'),\n",
       "  'top5': tensor([83.0261], device='cuda:0'),\n",
       "  'loss': tensor(1.7667, device='cuda:0'),\n",
       "  'time': 130.00886607170105},\n",
       " 9.990234375,\n",
       " 399.83385344)"
      ]
     },
     "execution_count": 98,
     "metadata": {},
     "output_type": "execute_result"
    }
   ],
   "source": [
    "evaluate_decision(v)"
   ]
  },
  {
   "cell_type": "code",
   "execution_count": 99,
   "id": "ab644a36",
   "metadata": {
    "scrolled": true
   },
   "outputs": [
    {
     "name": "stdout",
     "output_type": "stream",
     "text": [
      "evaluate_decision\n",
      " {'layer1.0.conv1': (8, 8), 'layer1.0.conv2': (8, 8), 'layer1.0.conv3': (8, 8), 'layer1.0.downsample.0': (8, 8), 'layer1.1.conv1': (8, 8), 'layer1.1.conv2': (8, 8), 'layer1.1.conv3': (8, 8), 'layer1.2.conv1': (8, 4), 'layer1.2.conv2': (8, 4), 'layer1.2.conv3': (8, 4), 'layer2.0.conv1': (8, 8), 'layer2.0.conv2': (8, 4), 'layer2.0.conv3': (8, 8), 'layer2.0.downsample.0': (8, 8), 'layer2.1.conv1': (8, 4), 'layer2.1.conv2': (8, 8), 'layer2.1.conv3': (8, 8), 'layer2.2.conv1': (8, 4), 'layer2.2.conv2': (8, 4), 'layer2.2.conv3': (8, 8), 'layer2.3.conv1': (8, 4), 'layer2.3.conv2': (8, 4), 'layer2.3.conv3': (8, 4), 'layer3.0.conv1': (8, 8), 'layer3.0.conv2': (8, 4), 'layer3.0.conv3': (8, 4), 'layer3.0.downsample.0': (8, 4), 'layer3.1.conv1': (8, 4), 'layer3.1.conv2': (8, 4), 'layer3.1.conv3': (8, 4), 'layer3.2.conv1': (8, 4), 'layer3.2.conv2': (8, 4), 'layer3.2.conv3': (8, 4), 'layer3.3.conv1': (8, 4), 'layer3.3.conv2': (8, 4), 'layer3.3.conv3': (8, 4), 'layer3.4.conv1': (8, 4), 'layer3.4.conv2': (8, 4), 'layer3.4.conv3': (8, 4), 'layer3.5.conv1': (8, 4), 'layer3.5.conv2': (8, 4), 'layer3.5.conv3': (8, 4), 'layer4.0.conv1': (8, 4), 'layer4.0.conv2': (8, 4), 'layer4.0.conv3': (8, 4), 'layer4.0.downsample.0': (8, 2), 'layer4.1.conv1': (8, 2), 'layer4.1.conv2': (8, 2), 'layer4.1.conv3': (8, 2), 'layer4.2.conv1': (8, 4), 'layer4.2.conv2': (8, 4), 'layer4.2.conv3': (8, 4)}\n"
     ]
    }
   ],
   "source": [
    "perf,size,bitops = evaluate_decision(v,test=calib_data)"
   ]
  },
  {
   "cell_type": "code",
   "execution_count": 100,
   "id": "74de503d",
   "metadata": {},
   "outputs": [
    {
     "data": {
      "text/plain": [
       "({'top1': tensor([57.5195], device='cuda:0'),\n",
       "  'top5': tensor([80.1758], device='cuda:0'),\n",
       "  'loss': tensor(2.0047, device='cuda:0'),\n",
       "  'time': 1.6513471603393555},\n",
       " 9.990234375,\n",
       " 399.83385344)"
      ]
     },
     "execution_count": 100,
     "metadata": {},
     "output_type": "execute_result"
    }
   ],
   "source": [
    "perf,size,bitops"
   ]
  },
  {
   "cell_type": "code",
   "execution_count": 94,
   "id": "6a85daf4",
   "metadata": {},
   "outputs": [
    {
     "name": "stdout",
     "output_type": "stream",
     "text": [
      "\n",
      "The optimal value is 1.3620656728744507\n",
      "A solution x is\n",
      "[-0. -0.  1.  0. -0.  1.  0. -0.  1.  0. -0.  1.  0.  1.  0.  0.  1. -0.\n",
      "  0. -0.  1.  0.  1.  0.  0.  1. -0.  0. -0.  1.  0. -0.  1.  0.  1. -0.\n",
      "  0. -0.  1.  0.  1. -0.  0.  1. -0.  0.  1. -0.  0.  1. -0.  0.  1. -0.\n",
      "  0.  1. -0.  0. -0.  1.  0.  1. -0.  0.  1. -0.  0.  1. -0.  0.  1. -0.\n",
      "  0.  1. -0.  0.  1. -0.  0.  1. -0.  0.  1. -0.  0.  1. -0.  0.  1. -0.\n",
      "  0.  1. -0.  0.  1. -0.  0.  1. -0.  0.  1. -0.  0.  1. -0.  0.  1. -0.\n",
      "  0.  1. -0.  0.  1. -0.  0.  1. -0.  0.  1. -0.  0.  1. -0.  0.  1. -0.\n",
      "  0.  1. -0.  1. -0. -0.  0.  1. -0.  1. -0. -0.  1. -0. -0.  0.  1. -0.\n",
      "  0.  1. -0.  0.  1. -0.  0.  1. -0.  0.  1. -0.]\n",
      "evaluate_decision\n",
      " {'layer1.0.conv1': (8, 8), 'layer1.0.conv2': (8, 8), 'layer1.0.conv3': (8, 8), 'layer1.0.downsample.0': (8, 8), 'layer1.1.conv1': (8, 4), 'layer1.1.conv2': (8, 4), 'layer1.1.conv3': (8, 8), 'layer1.2.conv1': (8, 4), 'layer1.2.conv2': (8, 4), 'layer1.2.conv3': (8, 8), 'layer2.0.conv1': (8, 8), 'layer2.0.conv2': (8, 4), 'layer2.0.conv3': (8, 8), 'layer2.0.downsample.0': (8, 4), 'layer2.1.conv1': (8, 4), 'layer2.1.conv2': (8, 4), 'layer2.1.conv3': (8, 4), 'layer2.2.conv1': (8, 4), 'layer2.2.conv2': (8, 4), 'layer2.2.conv3': (8, 8), 'layer2.3.conv1': (8, 4), 'layer2.3.conv2': (8, 4), 'layer2.3.conv3': (8, 4), 'layer3.0.conv1': (8, 4), 'layer3.0.conv2': (8, 4), 'layer3.0.conv3': (8, 4), 'layer3.0.downsample.0': (8, 4), 'layer3.1.conv1': (8, 4), 'layer3.1.conv2': (8, 4), 'layer3.1.conv3': (8, 4), 'layer3.2.conv1': (8, 4), 'layer3.2.conv2': (8, 4), 'layer3.2.conv3': (8, 4), 'layer3.3.conv1': (8, 4), 'layer3.3.conv2': (8, 4), 'layer3.3.conv3': (8, 4), 'layer3.4.conv1': (8, 4), 'layer3.4.conv2': (8, 4), 'layer3.4.conv3': (8, 4), 'layer3.5.conv1': (8, 4), 'layer3.5.conv2': (8, 4), 'layer3.5.conv3': (8, 4), 'layer4.0.conv1': (8, 4), 'layer4.0.conv2': (8, 2), 'layer4.0.conv3': (8, 4), 'layer4.0.downsample.0': (8, 2), 'layer4.1.conv1': (8, 2), 'layer4.1.conv2': (8, 4), 'layer4.1.conv3': (8, 4), 'layer4.2.conv1': (8, 4), 'layer4.2.conv2': (8, 4), 'layer4.2.conv3': (8, 4)}\n"
     ]
    },
    {
     "data": {
      "text/plain": [
       "({'top1': tensor([45.0441], device='cuda:0'),\n",
       "  'top5': tensor([69.9321], device='cuda:0'),\n",
       "  'loss': tensor(2.7893, device='cuda:0'),\n",
       "  'time': 102.69095253944397},\n",
       " 9.99609375,\n",
       " 368.391765504)"
      ]
     },
     "execution_count": 94,
     "metadata": {},
     "output_type": "execute_result"
    }
   ],
   "source": [
    "v = MIQCP_optimize(cached_grad=cached_grad,\n",
    "                   layer_bitops=layer_bitops,\n",
    "                   layer_size=layer_size,\n",
    "                   schemes_per_layer=len(aw_scheme),\n",
    "                   bitops_bound=np.inf,size_bound=10,\n",
    "                   naive=True)\n",
    "v = torch.Tensor(v.value)\n",
    "evaluate_decision(v)"
   ]
  },
  {
   "cell_type": "code",
   "execution_count": 95,
   "id": "88a09eed",
   "metadata": {},
   "outputs": [
    {
     "name": "stdout",
     "output_type": "stream",
     "text": [
      "evaluate_decision\n",
      " {'layer1.0.conv1': (8, 8), 'layer1.0.conv2': (8, 8), 'layer1.0.conv3': (8, 8), 'layer1.0.downsample.0': (8, 8), 'layer1.1.conv1': (8, 4), 'layer1.1.conv2': (8, 4), 'layer1.1.conv3': (8, 8), 'layer1.2.conv1': (8, 4), 'layer1.2.conv2': (8, 4), 'layer1.2.conv3': (8, 8), 'layer2.0.conv1': (8, 8), 'layer2.0.conv2': (8, 4), 'layer2.0.conv3': (8, 8), 'layer2.0.downsample.0': (8, 4), 'layer2.1.conv1': (8, 4), 'layer2.1.conv2': (8, 4), 'layer2.1.conv3': (8, 4), 'layer2.2.conv1': (8, 4), 'layer2.2.conv2': (8, 4), 'layer2.2.conv3': (8, 8), 'layer2.3.conv1': (8, 4), 'layer2.3.conv2': (8, 4), 'layer2.3.conv3': (8, 4), 'layer3.0.conv1': (8, 4), 'layer3.0.conv2': (8, 4), 'layer3.0.conv3': (8, 4), 'layer3.0.downsample.0': (8, 4), 'layer3.1.conv1': (8, 4), 'layer3.1.conv2': (8, 4), 'layer3.1.conv3': (8, 4), 'layer3.2.conv1': (8, 4), 'layer3.2.conv2': (8, 4), 'layer3.2.conv3': (8, 4), 'layer3.3.conv1': (8, 4), 'layer3.3.conv2': (8, 4), 'layer3.3.conv3': (8, 4), 'layer3.4.conv1': (8, 4), 'layer3.4.conv2': (8, 4), 'layer3.4.conv3': (8, 4), 'layer3.5.conv1': (8, 4), 'layer3.5.conv2': (8, 4), 'layer3.5.conv3': (8, 4), 'layer4.0.conv1': (8, 4), 'layer4.0.conv2': (8, 2), 'layer4.0.conv3': (8, 4), 'layer4.0.downsample.0': (8, 2), 'layer4.1.conv1': (8, 2), 'layer4.1.conv2': (8, 4), 'layer4.1.conv3': (8, 4), 'layer4.2.conv1': (8, 4), 'layer4.2.conv2': (8, 4), 'layer4.2.conv3': (8, 4)}\n"
     ]
    }
   ],
   "source": [
    "perf,size,bitops = evaluate_decision(v,test=calib_data)"
   ]
  },
  {
   "cell_type": "code",
   "execution_count": 96,
   "id": "4b937781",
   "metadata": {},
   "outputs": [
    {
     "data": {
      "text/plain": [
       "({'top1': tensor([39.7461], device='cuda:0'),\n",
       "  'top5': tensor([63.7695], device='cuda:0'),\n",
       "  'loss': tensor(3.2815, device='cuda:0'),\n",
       "  'time': 1.6724534034729004},\n",
       " 9.99609375,\n",
       " 368.391765504)"
      ]
     },
     "execution_count": 96,
     "metadata": {},
     "output_type": "execute_result"
    }
   ],
   "source": [
    "perf,size,bitops"
   ]
  },
  {
   "cell_type": "markdown",
   "id": "f242b9d1",
   "metadata": {},
   "source": [
    "## Random MPQ (old code to generate random MPQ schemes)"
   ]
  },
  {
   "cell_type": "code",
   "execution_count": null,
   "id": "1c568ca9",
   "metadata": {},
   "outputs": [],
   "source": [
    "# random_size = []\n",
    "# random_acc = []\n",
    "# for i in range(500):\n",
    "#     v = torch.randn(L)\n",
    "#     res,size = evaluate_decision(v)\n",
    "#     random_size.append(size)\n",
    "#     random_acc.append(res['mean_acc'])\n",
    "\n",
    "# random_size,random_acc\n",
    "\n",
    "# with open('resnet56_random_baseline.pkl','wb') as f:\n",
    "#     pickle.dump({'size':random_size,'acc':random_acc},f)\n",
    "    \n",
    "\n",
    "# plt.hist(random_size)"
   ]
  },
  {
   "cell_type": "markdown",
   "id": "50d354c4",
   "metadata": {},
   "source": [
    "## Pareto-Frontier of CLADO vs Inter-Layer Dependency Unaware Optimization (Naive)"
   ]
  },
  {
   "cell_type": "code",
   "execution_count": null,
   "id": "c8df83f2",
   "metadata": {
    "scrolled": true
   },
   "outputs": [],
   "source": [
    "n_iters = (5000,)\n",
    "#lambda1s = np.logspace(-5,-3,3)\n",
    "lambda1s = (0,1e-1,1)\n",
    "lambda2s = np.logspace(-3,0,100) # for 8 x (8,4)\n",
    "sample_size = 1\n",
    "results = {}\n",
    "for n_iter in n_iters:\n",
    "    for lambda1 in lambda1s:\n",
    "        for lambda2 in lambda2s:\n",
    "            feint_loss,feint_size,feint_bitops = [],[],[]\n",
    "            trial_name = f'{aw_scheme}bits_CLADO_lambda1{lambda1}_lambda2{lambda2}_{n_iter}iters'\n",
    "            print(trial_name)\n",
    "            for repeat in range(sample_size):\n",
    "                v = optimize(n_iteration=n_iter,lr=2e-3,beta=[20,2],lambda1=lambda1,lambda2=lambda2,naive=False)\n",
    "                perf,size,bitops = evaluate_decision(v)\n",
    "                feint_loss.append(perf)\n",
    "                feint_size.append(size)\n",
    "                feint_bitops.append(bitops)\n",
    "            results[trial_name] = {'size':feint_size,'perf':feint_loss,'bitops':feint_bitops}"
   ]
  },
  {
   "cell_type": "code",
   "execution_count": null,
   "id": "ba10c61b",
   "metadata": {},
   "outputs": [],
   "source": [
    "results"
   ]
  },
  {
   "cell_type": "code",
   "execution_count": null,
   "id": "8f48f9eb",
   "metadata": {
    "scrolled": true
   },
   "outputs": [],
   "source": [
    "n_iters = (5000,)\n",
    "lambda1s = np.logspace(-5,-3,3)\n",
    "lambda1s = (0,1e-1,1)\n",
    "lambda2s = np.logspace(-3,0,100) \n",
    "sample_size = 1\n",
    "\n",
    "for n_iter in n_iters:\n",
    "    for lambda1 in lambda1s:\n",
    "        for lambda2 in lambda2s:\n",
    "            naive_loss,naive_size,naive_bitops = [],[],[]\n",
    "            print('lambda2:',lambda2)\n",
    "            trial_name = f'{aw_scheme}bits_NAIVE_lambda1{lambda1}_lambda2{lambda2}_{n_iter}iters'\n",
    "            for repeat in range(sample_size):\n",
    "                v = optimize(n_iteration=n_iter,lr=2e-3,beta=[20,2],lambda1=lambda1,lambda2=lambda2,naive=True)\n",
    "                perf,size,bitops = evaluate_decision(v)\n",
    "                naive_loss.append(perf)\n",
    "                naive_size.append(size)\n",
    "                naive_bitops.append(bitops)\n",
    "            results[trial_name] = {'size':naive_size,'perf':naive_loss,'bitops':naive_bitops}"
   ]
  },
  {
   "cell_type": "code",
   "execution_count": null,
   "id": "4e8d7490",
   "metadata": {},
   "outputs": [],
   "source": [
    "with open('xx','wb') as f:\n",
    "    pickle.dump(results,f)"
   ]
  },
  {
   "cell_type": "code",
   "execution_count": 1,
   "id": "f0c56c20",
   "metadata": {},
   "outputs": [],
   "source": [
    "import pickle\n",
    "# with open('saved/general48c10resnet56results.pkl','rb') as f:\n",
    "#     c48 = pickle.load(f)\n",
    "# with open('saved/general248c10resnet56results.pkl','rb') as f:\n",
    "#     c248 = pickle.load(f)\n",
    "with open('i1k_resnet50_CachedGrad_((8, 2), (8, 4), (8, 8))i1k_resnet50.pkl','rb') as f:\n",
    "    c248 = pickle.load(f)"
   ]
  },
  {
   "cell_type": "code",
   "execution_count": 23,
   "id": "75ba2e16",
   "metadata": {},
   "outputs": [
    {
     "data": {
      "image/png": "[encoded data removed]",
      "text/plain": [
       "<Figure size 864x576 with 1 Axes>"
      ]
     },
     "metadata": {
      "needs_background": "light"
     },
     "output_type": "display_data"
    },
    {
     "data": {
      "image/png": "[encoded data removed]",
      "text/plain": [
       "<Figure size 864x576 with 1 Axes>"
      ]
     },
     "metadata": {
      "needs_background": "light"
     },
     "output_type": "display_data"
    }
   ],
   "source": [
    "import matplotlib.pyplot as plt\n",
    "import pickle\n",
    "with open('i1k_resnet50_CachedGrad_((8, 2), (8, 4), (8, 8))i1k_resnet50.pkl','rb') as f:\n",
    "    res = pickle.load(f)\n",
    "\n",
    "clado_test_acc,clado_calib_acc,clado_size,clado_bitops = [],[],[],[]\n",
    "naive_test_acc,naive_calib_acc,naive_size,naive_bitops = [],[],[],[]\n",
    "\n",
    "for item in res['clado_res']:\n",
    "    test_perf,calib_perf,size,bitops,_ = item\n",
    "    clado_test_acc.append(test_perf['top1'].cpu().numpy())\n",
    "    clado_calib_acc.append(calib_perf['top1'].cpu().numpy())\n",
    "    clado_size.append(size)\n",
    "    clado_bitops.append(bitops)\n",
    "\n",
    "for item in res['naive_res']:\n",
    "    test_perf,calib_perf,size,bitops,_ = item\n",
    "    naive_test_acc.append(test_perf['top1'].cpu().numpy())\n",
    "    naive_calib_acc.append(calib_perf['top1'].cpu().numpy())\n",
    "    naive_size.append(size)\n",
    "    naive_bitops.append(bitops)\n",
    "\n",
    "plt.rcParams['figure.figsize'] = (12,8)\n",
    "plt.plot(clado_size,clado_test_acc,label='TEST cross-layer dependency aware',marker='v')\n",
    "plt.plot(naive_size,naive_test_acc,label='TEST cross-layer dependency unaware',marker='^')\n",
    "plt.legend()\n",
    "plt.show()\n",
    "\n",
    "plt.rcParams['figure.figsize'] = (12,8)\n",
    "plt.plot(clado_size,clado_calib_acc,label='CALIB cross-layer dependency aware',marker='v')\n",
    "plt.plot(naive_size,naive_calib_acc,label='CALIB cross-layer dependency unaware',marker='^')\n",
    "plt.legend()\n",
    "plt.show()"
   ]
  },
  {
   "cell_type": "code",
   "execution_count": 24,
   "id": "85ffd654",
   "metadata": {},
   "outputs": [
    {
     "data": {
      "image/png": "[encoded data removed]",
      "text/plain": [
       "<Figure size 864x576 with 1 Axes>"
      ]
     },
     "metadata": {
      "needs_background": "light"
     },
     "output_type": "display_data"
    },
    {
     "data": {
      "image/png": "[encoded data removed]",
      "text/plain": [
       "<Figure size 864x576 with 1 Axes>"
      ]
     },
     "metadata": {
      "needs_background": "light"
     },
     "output_type": "display_data"
    }
   ],
   "source": [
    "import matplotlib.pyplot as plt\n",
    "import pickle\n",
    "with open('i1k_resnet50_CachedGrad_((8, 2), (8, 4), (8, 8))i1k_resnet50KL.pkl','rb') as f:\n",
    "    res = pickle.load(f)\n",
    "\n",
    "clado_test_acc,clado_calib_acc,clado_size,clado_bitops = [],[],[],[]\n",
    "naive_test_acc,naive_calib_acc,naive_size,naive_bitops = [],[],[],[]\n",
    "\n",
    "for item in res['clado_res']:\n",
    "    test_perf,calib_perf,size,bitops,_ = item\n",
    "    clado_test_acc.append(test_perf['top1'].cpu().numpy())\n",
    "    clado_calib_acc.append(calib_perf['top1'].cpu().numpy())\n",
    "    clado_size.append(size)\n",
    "    clado_bitops.append(bitops)\n",
    "\n",
    "for item in res['naive_res']:\n",
    "    test_perf,calib_perf,size,bitops,_ = item\n",
    "    naive_test_acc.append(test_perf['top1'].cpu().numpy())\n",
    "    naive_calib_acc.append(calib_perf['top1'].cpu().numpy())\n",
    "    naive_size.append(size)\n",
    "    naive_bitops.append(bitops)\n",
    "\n",
    "plt.rcParams['figure.figsize'] = (12,8)\n",
    "plt.plot(clado_size,clado_test_acc,label='TEST cross-layer dependency aware',marker='v')\n",
    "plt.plot(naive_size,naive_test_acc,label='TEST cross-layer dependency unaware',marker='^')\n",
    "plt.legend()\n",
    "plt.show()\n",
    "\n",
    "plt.rcParams['figure.figsize'] = (12,8)\n",
    "plt.plot(clado_size,clado_calib_acc,label='CALIB cross-layer dependency aware',marker='v')\n",
    "plt.plot(naive_size,naive_calib_acc,label='CALIB cross-layer dependency unaware',marker='^')\n",
    "plt.legend()\n",
    "plt.show()"
   ]
  },
  {
   "cell_type": "code",
   "execution_count": null,
   "id": "1ad0322c",
   "metadata": {},
   "outputs": [],
   "source": [
    "def getPF(xs,ys):\n",
    "    xs = np.array(xs)\n",
    "    ys = np.array(ys)\n",
    "    \n",
    "    order = np.argsort(xs)\n",
    "    \n",
    "    xs = xs[order]\n",
    "    ys = ys[order]\n",
    "    \n",
    "    cur_max = -1\n",
    "    for i in range(ys.shape[0]):\n",
    "        if ys[i] > cur_max:\n",
    "            cur_max = ys[i]\n",
    "        ys[i] = cur_max\n",
    "    \n",
    "    return xs,ys\n",
    "plt.rcParams['figure.figsize'] = (12,8)"
   ]
  },
  {
   "cell_type": "code",
   "execution_count": null,
   "id": "15010711",
   "metadata": {},
   "outputs": [],
   "source": [
    "# clado_size,clado_acc = [], []\n",
    "# naive_size,naive_acc = [], []\n",
    "# for trial in c48:\n",
    "#     size = c48[trial]['size']\n",
    "#     perf = c48[trial]['perf']\n",
    "#     perf = [x['mean_acc'] for x in perf]\n",
    "#     if 'NAIVE' in trial:\n",
    "#         naive_size,naive_acc = naive_size+size,naive_acc+perf\n",
    "#     if 'CLADO' in trial:\n",
    "#         clado_size,clado_acc = clado_size+size,clado_acc+perf \n",
    "#     #size = np.array(size)\n",
    "#     #perf = np.array(perf)\n",
    "#     #size,perf = getPF(size,perf)\n",
    "#     #plt.plot(size,perf,label=trial)\n",
    "# c48_naive_pf = getPF(np.array(naive_size),np.array(naive_acc))\n",
    "# c48_clado_pf = getPF(np.array(clado_size),np.array(clado_acc))\n",
    "# plt.plot(c48_naive_pf[0],c48_naive_pf[1],label='(4,8)bits naive MPQ')\n",
    "# plt.plot(c48_clado_pf[0],c48_clado_pf[1],label='(4,8)bits clado MPQ')\n",
    "\n",
    "clado_size,clado_acc = [], []\n",
    "naive_size,naive_acc = [], []\n",
    "for trial in c248:\n",
    "    size = c248[trial]['size']\n",
    "    perf = c248[trial]['perf']\n",
    "    perf = [x['mean_acc'] for x in perf]\n",
    "    if 'NAIVE' in trial:\n",
    "        naive_size,naive_acc = naive_size+size,naive_acc+perf\n",
    "    if 'CLADO' in trial:\n",
    "        clado_size,clado_acc = clado_size+size,clado_acc+perf \n",
    "    #size = np.array(size)\n",
    "    #perf = np.array(perf)\n",
    "    #size,perf = getPF(size,perf)\n",
    "    #plt.plot(size,perf,label=trial)\n",
    "c248_naive_pf = getPF(np.array(naive_size),np.array(naive_acc))\n",
    "c248_clado_pf = getPF(np.array(clado_size),np.array(clado_acc))\n",
    "plt.plot(c248_naive_pf[0],c248_naive_pf[1],label='(2,4,8)bits naive MPQ')\n",
    "plt.plot(c248_clado_pf[0],c248_clado_pf[1],label='(2,4,8)bits clado MPQ')\n",
    "plt.legend()\n",
    "\n",
    "plt.xlim([0.4,0.7])\n",
    "plt.ylim([0.88,0.95])\n",
    "plt.xlabel('Hardware Cost (Model Size in MB)',fontsize=20)\n",
    "plt.ylabel('Performance (Accuracy)',fontsize=20)\n",
    "plt.legend()\n",
    "# plt.savefig('c10resnet56_w248.pdf',transparent=True, bbox_inches='tight', pad_inches=0)"
   ]
  },
  {
   "cell_type": "code",
   "execution_count": null,
   "id": "40074e55",
   "metadata": {},
   "outputs": [],
   "source": [
    "c248"
   ]
  },
  {
   "cell_type": "code",
   "execution_count": null,
   "id": "07f38ec4",
   "metadata": {},
   "outputs": [],
   "source": [
    "plt.rcParams['figure.figsize'] = (12,8)\n",
    "clado_bitops,clado_acc = [], []\n",
    "naive_bitops,naive_acc = [], []\n",
    "for trial in c248:\n",
    "    bitops = c248[trial]['bitops']\n",
    "    perf = c248[trial]['perf']\n",
    "    perf = [x['top1'].cpu() for x in perf]\n",
    "    if 'NAIVE' in trial:\n",
    "        naive_bitops,naive_acc = naive_bitops+bitops,naive_acc+perf\n",
    "    if 'CLADO' in trial:\n",
    "        clado_bitops,clado_acc = clado_bitops+bitops,clado_acc+perf \n",
    "    #size = np.array(size)\n",
    "    #perf = np.array(perf)\n",
    "    #size,perf = getPF(size,perf)\n",
    "    #plt.plot(size,perf,label=trial)\n",
    "c248_naive_pf = (np.array(naive_bitops),np.array(naive_acc))\n",
    "c248_clado_pf = (np.array(clado_bitops),np.array(clado_acc))\n",
    "plt.scatter(c248_naive_pf[0],c248_naive_pf[1],label='naive MPQ')\n",
    "plt.scatter(c248_clado_pf[0],c248_clado_pf[1],label='CLADO MPQ')\n",
    "plt.legend()\n",
    "\n",
    "# plt.xlim([0.4,0.7])\n",
    "# plt.ylim([0.88,0.95])\n",
    "plt.xlabel('Hardware Cost (Model bitops in Gops)',fontsize=20)\n",
    "plt.ylabel('Performance (Accuracy)',fontsize=20)\n",
    "plt.legend()\n",
    "#plt.savefig('c100resnet56_a48w48.pdf',transparent=True, bbox_inches='tight', pad_inches=0)"
   ]
  },
  {
   "cell_type": "code",
   "execution_count": null,
   "id": "7ebb97d2",
   "metadata": {},
   "outputs": [],
   "source": [
    "c248_naive_pf"
   ]
  },
  {
   "cell_type": "code",
   "execution_count": null,
   "id": "10701d70",
   "metadata": {},
   "outputs": [],
   "source": [
    "c248_clado_pf"
   ]
  },
  {
   "cell_type": "code",
   "execution_count": null,
   "id": "a0b3d709",
   "metadata": {},
   "outputs": [],
   "source": [
    "c248_naive_pf"
   ]
  },
  {
   "cell_type": "code",
   "execution_count": null,
   "id": "f12da08b",
   "metadata": {},
   "outputs": [],
   "source": [
    "c48_naive_size = np.array(c48['naive_size'])\n",
    "c48_naive_loss = c48['naive_loss']\n",
    "c48_feint_size = np.array(c48['feint_size'])\n",
    "c48_feint_loss = c48['feint_loss']\n",
    "\n",
    "c48_naive_acc = []\n",
    "for i in range(len(c48_naive_loss)):\n",
    "    c48_naive_acc.append(c48_naive_loss[i]['mean_acc'])\n",
    "\n",
    "c48_feint_acc = []\n",
    "for i in range(len(c48_feint_loss)):\n",
    "    c48_feint_acc.append(c48_feint_loss[i]['mean_acc'])\n",
    "\n",
    "c248_naive_size = np.array(c248['naive_size'])\n",
    "c248_naive_loss = c248['naive_loss']\n",
    "c248_feint_size = np.array(c248['feint_size'])\n",
    "c248_feint_loss = c248['feint_loss']\n",
    "\n",
    "c248_naive_acc = []\n",
    "for i in range(len(c248_naive_loss)):\n",
    "    c248_naive_acc.append(c248_naive_loss[i]['mean_acc'])\n",
    "\n",
    "c248_feint_acc = []\n",
    "for i in range(len(c248_feint_loss)):\n",
    "    c248_feint_acc.append(c248_feint_loss[i]['mean_acc'])"
   ]
  },
  {
   "cell_type": "code",
   "execution_count": null,
   "id": "aa465467",
   "metadata": {},
   "outputs": [],
   "source": [
    "def getPF(xs,ys):\n",
    "    xs = np.array(xs)\n",
    "    ys = np.array(ys)\n",
    "    \n",
    "    order = np.argsort(xs)\n",
    "    \n",
    "    xs = xs[order]\n",
    "    ys = ys[order]\n",
    "    \n",
    "    cur_max = -1\n",
    "    for i in range(ys.shape[0]):\n",
    "        if ys[i] > cur_max:\n",
    "            cur_max = ys[i]\n",
    "        ys[i] = cur_max\n",
    "    \n",
    "    return xs,ys\n",
    "\n",
    "plt.rcParams[\"figure.figsize\"] = (12,10)\n",
    "\n",
    "c48_feint_size,c48_feint_acc = getPF(c48_feint_size,c48_feint_acc)\n",
    "\n",
    "c48_naive_size,c48_naive_acc = getPF(c48_naive_size,c48_naive_acc)\n",
    "\n",
    "c248_feint_size,c248_feint_acc = getPF(c248_feint_size,c248_feint_acc)\n",
    "\n",
    "c248_naive_size,c248_naive_acc = getPF(c248_naive_size,c248_naive_acc)\n",
    "\n",
    "plt.scatter(c48_naive_size,c48_naive_acc,color='lightcoral',alpha=0.5,label='c48 Inter-Layer Depedency Unaware Optimization')\n",
    "plt.scatter(c48_feint_size,c48_feint_acc,color='lightblue',alpha=0.5,label='c48 FeintLady Optimization')\n",
    "# plt.scatter(c248_naive_size,c248_naive_acc,color='red',alpha=0.5,label='c248 CLADO Used')\n",
    "# plt.scatter(c248_feint_size,c248_feint_acc,color='blue',alpha=0.5,label='c248 CLADO Not Used')\n",
    "\n",
    "plt.xlabel('Hardware cost')\n",
    "plt.ylabel('Performance')\n",
    "plt.legend()\n",
    "#plt.savefig('c100resnet56FeintEffecacy.pdf',transparent=True, bbox_inches='tight', pad_inches=0)"
   ]
  },
  {
   "cell_type": "code",
   "execution_count": null,
   "id": "c2a211db",
   "metadata": {},
   "outputs": [],
   "source": [
    "plt.scatter(naive_size,naive_acc,color='red',alpha=0.5,label='naive')\n",
    "# plt.scatter(naive_size,naive_acc,color='blue',alpha=0.5,label='feint')\n",
    "plt.xlabel('hardware cost')\n",
    "plt.ylabel('performance')\n",
    "plt.legend()\n",
    "plt.show()"
   ]
  },
  {
   "cell_type": "markdown",
   "id": "d1fc8630",
   "metadata": {},
   "source": [
    "## Visualization"
   ]
  },
  {
   "cell_type": "code",
   "execution_count": null,
   "id": "d8252488",
   "metadata": {},
   "outputs": [],
   "source": [
    "import pickle\n",
    "import numpy as np\n",
    "import matplotlib.pyplot as plt\n",
    "\n",
    "fname = 'result_cifar100_shufflenetv2_x2_0_mode0_useaccFalse.pkl'\n",
    "with open(fname,'rb') as f:\n",
    "    res_sfn20 = pickle.load(f)\n",
    "\n",
    "fname = 'result_cifar100_shufflenetv2_x1_5_mode0_useaccFalse.pkl'\n",
    "with open(fname,'rb') as f:\n",
    "    res_sfn15 = pickle.load(f)\n",
    "    \n",
    "fname = 'result_cifar100_mobilenetv2_x1_4_mode0_useaccFalse.pkl'\n",
    "with open(fname,'rb') as f:\n",
    "    res_mbn14 = pickle.load(f)\n",
    "\n",
    "fname = 'result_cifar100_mobilenetv2_x0_75_mode0_useaccFalse.pkl'\n",
    "with open(fname,'rb') as f:\n",
    "    res_mbn075 = pickle.load(f)\n",
    "    \n",
    "\n",
    "fname = 'result_cifar100_resnet56_mode0_useaccFalse.pkl'\n",
    "with open(fname,'rb') as f:\n",
    "    res_rsn56 = pickle.load(f)\n",
    "    \n",
    "    "
   ]
  },
  {
   "cell_type": "code",
   "execution_count": null,
   "id": "6f52e748",
   "metadata": {},
   "outputs": [],
   "source": [
    "for k in res_rsn56: print(k)"
   ]
  },
  {
   "cell_type": "code",
   "execution_count": null,
   "id": "72cbf308",
   "metadata": {},
   "outputs": [],
   "source": [
    "def getPF_(xs,ys,mode='max',roundtoprecision=1):\n",
    "    pf = {}\n",
    "    for x,y in zip(xs,ys):\n",
    "        new_x = round(x,roundtoprecision)\n",
    "        if new_x in pf:\n",
    "            pf[new_x] = eval(mode)(pf[new_x],y)\n",
    "        else:\n",
    "            pf[new_x] = y\n",
    "    \n",
    "    pf_x,pf_y = [],[]\n",
    "    \n",
    "    for x in pf:\n",
    "        pf_x.append(x)\n",
    "        pf_y.append(pf[x])\n",
    "    \n",
    "    pf_x, pf_y = np.array(pf_x),np.array(pf_y)\n",
    "    \n",
    "    return pf_x,pf_y\n",
    "\n",
    "def getPF(xs,ys):\n",
    "    xs = np.array(xs)\n",
    "    ys = np.array(ys)\n",
    "    \n",
    "    order = np.argsort(xs)\n",
    "    \n",
    "    xs = xs[order]\n",
    "    ys = ys[order]\n",
    "    \n",
    "    cur_max = -1\n",
    "    for i in range(ys.shape[0]):\n",
    "        if ys[i] > cur_max:\n",
    "            cur_max = ys[i]\n",
    "        ys[i] = cur_max\n",
    "    \n",
    "    return xs,ys\n",
    "        "
   ]
  },
  {
   "cell_type": "code",
   "execution_count": null,
   "id": "5de56442",
   "metadata": {},
   "outputs": [],
   "source": [
    "\n",
    "x_1_mbn075,y_1_mbn075 = getPF(res_mbn075['naive_size'],res_mbn075['naive_acc'])\n",
    "x_2_mbn075,y_2_mbn075 = getPF(res_mbn075['feint_size'],res_mbn075['feint_acc'])\n",
    "\n",
    "x_1_mbn14,y_1_mbn14 = getPF(res_mbn14['naive_size'],res_mbn14['naive_acc'])\n",
    "x_2_mbn14,y_2_mbn14 = getPF(res_mbn14['feint_size'],res_mbn14['feint_acc'])\n",
    "\n",
    "x_1_sfn20,y_1_sfn20 = getPF(res_sfn20['naive_size'],res_sfn20['naive_acc'])\n",
    "x_2_sfn20,y_2_sfn20 = getPF(res_sfn20['feint_size'],res_sfn20['feint_acc'])\n",
    "\n",
    "x_1_sfn15,y_1_sfn15 = getPF(res_sfn15['naive_size'],res_sfn15['naive_acc'])\n",
    "x_2_sfn15,y_2_sfn15 = getPF(res_sfn15['feint_size'],res_sfn15['feint_acc'])\n",
    "\n",
    "x_1_rsn56,y_1_rsn56 = getPF(res_rsn56['naive_size'],res_rsn56['naive_acc'])\n",
    "x_2_rsn56,y_2_rsn56 = getPF(res_rsn56['feint_size'],res_rsn56['feint_acc'])\n",
    "\n",
    "#x_random,y_random = getPF(random_size,random_acc)"
   ]
  },
  {
   "cell_type": "code",
   "execution_count": null,
   "id": "b260d86c",
   "metadata": {},
   "outputs": [],
   "source": [
    "# random baseline vs use/not use gradient on resnet56\n",
    "# plt.rcParams['figure.figsize'] = (12,8)\n",
    "fname = 'result_cifar10_resnet56_mode0_useaccFalse.pkl'\n",
    "with open(fname,'rb') as f:\n",
    "    res_rsn = pickle.load(f)\n",
    "fname = 'resnet56_random_baseline.pkl'\n",
    "with open(fname,'rb') as f:\n",
    "    rand_rsn = pickle.load(f)"
   ]
  },
  {
   "cell_type": "code",
   "execution_count": null,
   "id": "c8529a24",
   "metadata": {},
   "outputs": [],
   "source": [
    "plt.scatter(res_rsn['feint_size'][:],res_rsn['feint_acc'][:],color='blue',\n",
    "            marker='o',s=20,alpha=0.5,label='Cross-layer Gradients Used')\n",
    "\n",
    "plt.scatter(res_rsn['naive_size'][:],res_rsn['naive_acc'][:],color='red',\n",
    "            marker='o',s=20,alpha=0.5,label='Cross-layer Gradients Ignored')\n",
    "\n",
    "plt.scatter(rand_rsn['size'],rand_rsn['acc'],color='black',marker='o',s=20,alpha=0.5,\n",
    "            label='Random Guess')\n",
    "plt.xticks(fontsize=15)\n",
    "plt.yticks(fontsize=15)\n",
    "plt.xlabel('Hardware Cost (Model Size in MB)',fontsize=20)\n",
    "plt.ylabel('Performance (Accuracy)',fontsize=20)\n",
    "plt.legend()\n",
    "plt.savefig('c10resnet.pdf',transparent=True, bbox_inches='tight', pad_inches=0)"
   ]
  },
  {
   "cell_type": "code",
   "execution_count": null,
   "id": "a105629d",
   "metadata": {},
   "outputs": [],
   "source": []
  },
  {
   "cell_type": "code",
   "execution_count": null,
   "id": "f175f816",
   "metadata": {},
   "outputs": [],
   "source": [
    "plt.rcParams['figure.figsize'] = (12,8)\n",
    "\n",
    "plt.plot(x_1_mbn14,y_1_mbn14,color='red',\n",
    "         #marker='^',markersize=3,alpha=0.5,\n",
    "         linewidth=1,label='mobilenetv2_x1_4(N)')\n",
    "plt.plot(x_2_mbn14,y_2_mbn14,color='blue',\n",
    "         #marker='v',markersize=3,alpha=0.5,\n",
    "         linewidth=1,label='mobilenetv2_x1_4(A)')\n",
    "\n",
    "plt.plot(x_1_sfn20,y_1_sfn20,color='lightcoral',\n",
    "         #marker='^',markersize=3,alpha=0.5,\n",
    "         linewidth=1,label='shufflenetv2_x2_0(N)')\n",
    "plt.plot(x_2_sfn20,y_2_sfn20,color='lightblue',\n",
    "         #marker='v',markersize=3,alpha=0.5,\n",
    "         linewidth=1,label='sufflenetv2_x2_0(A)')\n",
    "\n",
    "plt.plot(x_1_sfn15,y_1_sfn15,color='orangered',\n",
    "         #marker='^',markersize=3,alpha=0.5,\n",
    "         linewidth=1,label='shufflenetv2_x1_5(N)')\n",
    "plt.plot(x_2_sfn15,y_2_sfn15,color='cyan',\n",
    "         #marker='v',markersize=3,alpha=0.5,\n",
    "         linewidth=1,label='sufflenetv2_x1_5(A)')\n",
    "\n",
    "plt.plot(x_1_rsn56,y_1_rsn56,color='darkred',\n",
    "         #marker='^',markersize=3,alpha=0.5,\n",
    "         linewidth=1,label='resnet56(N)')\n",
    "plt.plot(x_2_rsn56,y_2_rsn56,color='darkblue',\n",
    "         #marker='v',markersize=3,alpha=0.5,\n",
    "         linewidth=1,label='resnet56(A)')\n",
    "\n",
    "\n",
    "# plt.scatter(x_1,y_1,color='red',marker='^',s=10,alpha=0.5)\n",
    "# plt.scatter(x_2,y_2,color='blue',marker='v',s=10,alpha=0.5)\n",
    "\n",
    "plt.ylim([0.68,0.76])\n",
    "plt.xlim([0.,4])\n",
    "plt.xticks(fontsize=15)\n",
    "plt.yticks(fontsize=15)\n",
    "plt.xlabel('Hardware Cost (Model Size in MB)',fontsize=20)\n",
    "plt.ylabel('Performance (Accuracy)',fontsize=20)\n",
    "plt.legend()\n",
    "\n",
    "# plt.ylim([0.7,0.755])\n",
    "# plt.xlim([2.7,4.0])\n",
    "plt.savefig('c100pareto_3nets.pdf',transparent=True, bbox_inches='tight', pad_inches=0)"
   ]
  },
  {
   "cell_type": "code",
   "execution_count": null,
   "id": "365e6627",
   "metadata": {},
   "outputs": [],
   "source": []
  }
 ],
 "metadata": {
  "kernelspec": {
   "display_name": "Python 3 (ipykernel)",
   "language": "python",
   "name": "python3"
  },
  "language_info": {
   "codemirror_mode": {
    "name": "ipython",
    "version": 3
   },
   "file_extension": ".py",
   "mimetype": "text/x-python",
   "name": "python",
   "nbconvert_exporter": "python",
   "pygments_lexer": "ipython3",
   "version": "3.9.12"
  }
 },
 "nbformat": 4,
 "nbformat_minor": 5
}
