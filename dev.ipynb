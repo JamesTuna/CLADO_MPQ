{
 "cells": [
  {
   "cell_type": "code",
   "execution_count": null,
   "id": "b39d6b2f",
   "metadata": {},
   "outputs": [],
   "source": [
    "import torch,torchvision,os,pyhessian,time\n",
    "import torchvision.transforms as transforms\n",
    "import numpy as np\n",
    "import pyhessian\n",
    "from utils.util import get_loader,evaluate\n",
    "from utils.layer import qConv2d,qLinear\n",
    "from utils.train import QAVAT_train\n",
    "import os\n",
    "\n",
    "os.environ['CUDA_LAUNCH_BLOCKING'] = '1'\n",
    "\n",
    "model = torch.hub.load(\"chenyaofo/pytorch-cifar-models\", \"cifar10_resnet20\", pretrained=True).cuda()"
   ]
  },
  {
   "cell_type": "code",
   "execution_count": null,
   "id": "bd582253",
   "metadata": {},
   "outputs": [],
   "source": [
    "from copy import deepcopy\n",
    "int4model = deepcopy(model)\n",
    "int4model.load_state_dict(torch.load('int4model.ckpt')())\n",
    "\n",
    "bfp12model = deepcopy(model)\n",
    "bfp12model.load_state_dict(torch.load('bfp12model.ckpt')())"
   ]
  },
  {
   "cell_type": "code",
   "execution_count": null,
   "id": "9574be52",
   "metadata": {},
   "outputs": [],
   "source": [
    "train,test = get_loader('cifar10'.upper(),batch_size=128,test_batch_size=512)\n",
    "train.num_workers = 4\n",
    "test.num_workers = 4"
   ]
  },
  {
   "cell_type": "code",
   "execution_count": null,
   "id": "1584428c",
   "metadata": {},
   "outputs": [],
   "source": [
    "evaluate(test,bfp12model)"
   ]
  },
  {
   "cell_type": "code",
   "execution_count": null,
   "id": "dfd39225",
   "metadata": {},
   "outputs": [],
   "source": [
    "int4params,_ = pyhessian.get_params_grad(int4model)\n",
    "bfp12params,_ = pyhessian.get_params_grad(bfp12model)\n",
    "fp32params,_ = pyhessian.get_params_grad(model)\n",
    "int4_error = [(x-y) for x,y in zip(int4params,fp32params)]\n",
    "bfp12_error = [(x-y) for x,y in zip(bfp12params,fp32params)]"
   ]
  },
  {
   "cell_type": "code",
   "execution_count": null,
   "id": "3cf30386",
   "metadata": {},
   "outputs": [],
   "source": [
    "int4_l2 = pyhessian.group_product(int4_error,int4_error)**0.5\n",
    "bfp12_l2 = pyhessian.group_product(bfp12_error,bfp12_error)**0.5"
   ]
  },
  {
   "cell_type": "code",
   "execution_count": null,
   "id": "b2518ced",
   "metadata": {},
   "outputs": [],
   "source": [
    "int4_error_var = [x.std() for x in int4_error]\n",
    "bfp12_error_var = [x.std() for x in bfp12_error]"
   ]
  },
  {
   "cell_type": "code",
   "execution_count": null,
   "id": "94606e81",
   "metadata": {},
   "outputs": [],
   "source": [
    "for x,y in zip(int4_error_var,bfp12_error_var):\n",
    "    print(x/int4_l2,y/bfp12_l2)\n",
    "    print()"
   ]
  },
  {
   "cell_type": "code",
   "execution_count": null,
   "id": "aed2ae4b",
   "metadata": {},
   "outputs": [],
   "source": [
    "def replaceModuleByName(modelName,moduleName,newModuleName):\n",
    "    '''\n",
    "        replace module with name modelName.moduleName with newModule\n",
    "    '''\n",
    "    tokens = moduleName.split('.')\n",
    "    eval_str = modelName\n",
    "    for token in tokens:\n",
    "        try:\n",
    "            eval_str += f'[{int(token)}]'\n",
    "        except:\n",
    "            eval_str += f'.{token}'\n",
    "            \n",
    "    exec(eval_str+f'={newModuleName}')\n",
    "    \n",
    "for name,module in model.named_modules():\n",
    "    if isinstance(module,torch.nn.Conv2d):\n",
    "        #print(name,' is a conv2d')\n",
    "        newLayer = qConv2d(0,0,0,init_from=module).cuda()\n",
    "        replaceModuleByName('model',name,'newLayer')\n",
    "    elif isinstance(module,torch.nn.Linear):\n",
    "        #print(name,' is a linear')\n",
    "        newLayer = qLinear(0,0,init_from=module).cuda()\n",
    "        replaceModuleByName('model',name,'newLayer')"
   ]
  },
  {
   "cell_type": "code",
   "execution_count": null,
   "id": "564183ea",
   "metadata": {
    "scrolled": true
   },
   "outputs": [],
   "source": [
    "evaluate(test,model,noise_std=0.2,repeat=100,debug=True)"
   ]
  },
  {
   "cell_type": "code",
   "execution_count": null,
   "id": "ee2665b7",
   "metadata": {},
   "outputs": [],
   "source": [
    "C = {}\n",
    "C['epochs'] = 30\n",
    "C['optimizer'] ='SGD'\n",
    "C['lr'] = 1e-3\n",
    "C['decay_ep'] = 10\n",
    "C['decay_ratio'] = 0.1\n",
    "C['device'] = 'cuda'\n",
    "C['valPerEp'] = 1\n",
    "C['noise_std'] = 0.2\n",
    "C['valSample'] = 10\n",
    "C['trial_name'] = 'qavat_train'"
   ]
  },
  {
   "cell_type": "code",
   "execution_count": null,
   "id": "5238dc1f",
   "metadata": {},
   "outputs": [],
   "source": [
    "model.train()\n",
    "QAVAT_train(model,train,test,config=C,imgSize=32,imgFlat=False,\n",
    "                lossfunc=torch.nn.CrossEntropyLoss(),printPerEpoch=1)"
   ]
  },
  {
   "cell_type": "code",
   "execution_count": null,
   "id": "112f2045",
   "metadata": {},
   "outputs": [],
   "source": []
  }
 ],
 "metadata": {
  "kernelspec": {
   "display_name": "Python 3",
   "language": "python",
   "name": "python3"
  },
  "language_info": {
   "codemirror_mode": {
    "name": "ipython",
    "version": 3
   },
   "file_extension": ".py",
   "mimetype": "text/x-python",
   "name": "python",
   "nbconvert_exporter": "python",
   "pygments_lexer": "ipython3",
   "version": "3.6.13"
  }
 },
 "nbformat": 4,
 "nbformat_minor": 5
}
